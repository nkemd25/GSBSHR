{
 "cells":[
  {
   "cell_type":"code",
   "source":[
    "import pandas as pd\n",
    "import seaborn as sns\n",
    "import numpy as np\n",
    "%matplotlib inline\n",
    "import matplotlib.pyplot as plots\n",
    "plots.style.use('fivethirtyeight')\n",
    "%matplotlib inline\n",
    "import matplotlib.pyplot as plt\n",
    "plt.style.use('fivethirtyeight')\n",
    "import sklearn\n",
    "from sklearn.linear_model import LinearRegression, Ridge, Lasso, LassoCV\n",
    "from sklearn.preprocessing import StandardScaler\n",
    "import statsmodels.api as sm\n",
    "from statsmodels.stats.outliers_influence import variance_inflation_factor\n",
    "from sklearn.model_selection import cross_val_score\n",
    "import plotnine as p9\n",
    "from sklearn.metrics import mean_squared_error"
   ],
   "execution_count":1,
   "outputs":[
    
   ],
   "metadata":{
    "datalore":{
     "node_id":"ooLXeImfIWtYlL53AKKIuO",
     "type":"CODE",
     "hide_input_from_viewers":false,
     "hide_output_from_viewers":false,
     "report_properties":{
      "rowId":"FmLPBfCJPDi002z7rD0Mi5",
      "relativeY":0
     }
    }
   }
  },
  {
   "cell_type":"code",
   "source":[
    "from warnings import simplefilter\n",
    "simplefilter(action='ignore')"
   ],
   "execution_count":2,
   "outputs":[
    
   ],
   "metadata":{
    "datalore":{
     "node_id":"PbmSM8uRQrUT9bFELN47Kr",
     "type":"CODE",
     "hide_input_from_viewers":true,
     "hide_output_from_viewers":true
    }
   }
  },
  {
   "cell_type":"code",
   "source":[
    "mentalh = pd.read_csv(\"GHSH_Pooled_Data1.csv\")\n",
    "mentalh"
   ],
   "execution_count":3,
   "outputs":[
    {
     "data":{
      "text\/html":[
       "<div>\n",
       "<style scoped>\n",
       "    .dataframe tbody tr th:only-of-type {\n",
       "        vertical-align: middle;\n",
       "    }\n",
       "\n",
       "    .dataframe tbody tr th {\n",
       "        vertical-align: top;\n",
       "    }\n",
       "\n",
       "    .dataframe thead th {\n",
       "        text-align: right;\n",
       "    }\n",
       "<\/style>\n",
       "<table border=\"1\" class=\"dataframe\">\n",
       "  <thead>\n",
       "    <tr style=\"text-align: right;\">\n",
       "      <th><\/th>\n",
       "      <th>Country<\/th>\n",
       "      <th>Year<\/th>\n",
       "      <th>Age Group<\/th>\n",
       "      <th>Sex<\/th>\n",
       "      <th>Currently_Drink_Alcohol<\/th>\n",
       "      <th>Really_Get_Drunk<\/th>\n",
       "      <th>Overwieght<\/th>\n",
       "      <th>Use_Marijuana<\/th>\n",
       "      <th>Have_Understanding_Parents<\/th>\n",
       "      <th>Missed_classes_without_permssion<\/th>\n",
       "      <th>Had_sexual_relation<\/th>\n",
       "      <th>Smoke_cig_currently<\/th>\n",
       "      <th>Had_fights<\/th>\n",
       "      <th>Bullied<\/th>\n",
       "      <th>Got_Seriously_injured<\/th>\n",
       "      <th>No_close_friends<\/th>\n",
       "      <th>Attempted_suicide<\/th>\n",
       "    <\/tr>\n",
       "  <\/thead>\n",
       "  <tbody>\n",
       "    <tr>\n",
       "      <th>0<\/th>\n",
       "      <td>Argentina<\/td>\n",
       "      <td>2018<\/td>\n",
       "      <td>13-15<\/td>\n",
       "      <td>Female<\/td>\n",
       "      <td>50.3<\/td>\n",
       "      <td>30.7<\/td>\n",
       "      <td>27.8<\/td>\n",
       "      <td>7.9<\/td>\n",
       "      <td>41.5<\/td>\n",
       "      <td>24.7<\/td>\n",
       "      <td>25.7<\/td>\n",
       "      <td>16.8<\/td>\n",
       "      <td>17.2<\/td>\n",
       "      <td>NaN<\/td>\n",
       "      <td>27.5<\/td>\n",
       "      <td>4.8<\/td>\n",
       "      <td>19.9<\/td>\n",
       "    <\/tr>\n",
       "    <tr>\n",
       "      <th>1<\/th>\n",
       "      <td>Argentina<\/td>\n",
       "      <td>2018<\/td>\n",
       "      <td>13-15<\/td>\n",
       "      <td>Male<\/td>\n",
       "      <td>44.9<\/td>\n",
       "      <td>26.1<\/td>\n",
       "      <td>39.1<\/td>\n",
       "      <td>8.4<\/td>\n",
       "      <td>44.5<\/td>\n",
       "      <td>27.9<\/td>\n",
       "      <td>38.4<\/td>\n",
       "      <td>12.1<\/td>\n",
       "      <td>33.2<\/td>\n",
       "      <td>NaN<\/td>\n",
       "      <td>37.4<\/td>\n",
       "      <td>5.5<\/td>\n",
       "      <td>10.4<\/td>\n",
       "    <\/tr>\n",
       "    <tr>\n",
       "      <th>2<\/th>\n",
       "      <td>Argentina<\/td>\n",
       "      <td>2018<\/td>\n",
       "      <td>16-17<\/td>\n",
       "      <td>Female<\/td>\n",
       "      <td>67.2<\/td>\n",
       "      <td>56.3<\/td>\n",
       "      <td>22.5<\/td>\n",
       "      <td>21.9<\/td>\n",
       "      <td>37.1<\/td>\n",
       "      <td>34.0<\/td>\n",
       "      <td>59.1<\/td>\n",
       "      <td>28.5<\/td>\n",
       "      <td>15.1<\/td>\n",
       "      <td>NaN<\/td>\n",
       "      <td>30.1<\/td>\n",
       "      <td>6.3<\/td>\n",
       "      <td>17.4<\/td>\n",
       "    <\/tr>\n",
       "    <tr>\n",
       "      <th>3<\/th>\n",
       "      <td>Argentina<\/td>\n",
       "      <td>2018<\/td>\n",
       "      <td>16-17<\/td>\n",
       "      <td>Male<\/td>\n",
       "      <td>68.1<\/td>\n",
       "      <td>55.8<\/td>\n",
       "      <td>27.9<\/td>\n",
       "      <td>27.0<\/td>\n",
       "      <td>39.8<\/td>\n",
       "      <td>39.4<\/td>\n",
       "      <td>68.6<\/td>\n",
       "      <td>28.0<\/td>\n",
       "      <td>33.6<\/td>\n",
       "      <td>NaN<\/td>\n",
       "      <td>40.3<\/td>\n",
       "      <td>6.6<\/td>\n",
       "      <td>11.2<\/td>\n",
       "    <\/tr>\n",
       "    <tr>\n",
       "      <th>4<\/th>\n",
       "      <td>Argentina<\/td>\n",
       "      <td>2012<\/td>\n",
       "      <td>13-15<\/td>\n",
       "      <td>Male<\/td>\n",
       "      <td>49.3<\/td>\n",
       "      <td>28.9<\/td>\n",
       "      <td>35.9<\/td>\n",
       "      <td>10.6<\/td>\n",
       "      <td>46.2<\/td>\n",
       "      <td>32.0<\/td>\n",
       "      <td>43.5<\/td>\n",
       "      <td>17.0<\/td>\n",
       "      <td>44.2<\/td>\n",
       "      <td>42.1<\/td>\n",
       "      <td>24.8<\/td>\n",
       "      <td>6.1<\/td>\n",
       "      <td>12.9<\/td>\n",
       "    <\/tr>\n",
       "    <tr>\n",
       "      <th>...<\/th>\n",
       "      <td>...<\/td>\n",
       "      <td>...<\/td>\n",
       "      <td>...<\/td>\n",
       "      <td>...<\/td>\n",
       "      <td>...<\/td>\n",
       "      <td>...<\/td>\n",
       "      <td>...<\/td>\n",
       "      <td>...<\/td>\n",
       "      <td>...<\/td>\n",
       "      <td>...<\/td>\n",
       "      <td>...<\/td>\n",
       "      <td>...<\/td>\n",
       "      <td>...<\/td>\n",
       "      <td>...<\/td>\n",
       "      <td>...<\/td>\n",
       "      <td>...<\/td>\n",
       "      <td>...<\/td>\n",
       "    <\/tr>\n",
       "    <tr>\n",
       "      <th>101<\/th>\n",
       "      <td>Vanuatu<\/td>\n",
       "      <td>2011<\/td>\n",
       "      <td>13-15<\/td>\n",
       "      <td>Female<\/td>\n",
       "      <td>5.8<\/td>\n",
       "      <td>4.7<\/td>\n",
       "      <td>13.6<\/td>\n",
       "      <td>1.9<\/td>\n",
       "      <td>20.2<\/td>\n",
       "      <td>44.6<\/td>\n",
       "      <td>8.4<\/td>\n",
       "      <td>8.2<\/td>\n",
       "      <td>41.8<\/td>\n",
       "      <td>66.5<\/td>\n",
       "      <td>57.4<\/td>\n",
       "      <td>14.3<\/td>\n",
       "      <td>19.5<\/td>\n",
       "    <\/tr>\n",
       "    <tr>\n",
       "      <th>102<\/th>\n",
       "      <td>Wallis and Futuna<\/td>\n",
       "      <td>2015<\/td>\n",
       "      <td>13-15<\/td>\n",
       "      <td>Male<\/td>\n",
       "      <td>32.2<\/td>\n",
       "      <td>35.5<\/td>\n",
       "      <td>60.5<\/td>\n",
       "      <td>4.0<\/td>\n",
       "      <td>36.3<\/td>\n",
       "      <td>32.7<\/td>\n",
       "      <td>32.0<\/td>\n",
       "      <td>25.7<\/td>\n",
       "      <td>48.7<\/td>\n",
       "      <td>30.2<\/td>\n",
       "      <td>51.2<\/td>\n",
       "      <td>4.1<\/td>\n",
       "      <td>14.7<\/td>\n",
       "    <\/tr>\n",
       "    <tr>\n",
       "      <th>103<\/th>\n",
       "      <td>Wallis and Futuna<\/td>\n",
       "      <td>2015<\/td>\n",
       "      <td>13-15<\/td>\n",
       "      <td>Female<\/td>\n",
       "      <td>24.4<\/td>\n",
       "      <td>27.1<\/td>\n",
       "      <td>63.0<\/td>\n",
       "      <td>2.0<\/td>\n",
       "      <td>36.3<\/td>\n",
       "      <td>16.2<\/td>\n",
       "      <td>13.6<\/td>\n",
       "      <td>29.9<\/td>\n",
       "      <td>22.9<\/td>\n",
       "      <td>30.9<\/td>\n",
       "      <td>41.7<\/td>\n",
       "      <td>3.3<\/td>\n",
       "      <td>16.9<\/td>\n",
       "    <\/tr>\n",
       "    <tr>\n",
       "      <th>104<\/th>\n",
       "      <td>Wallis and Futuna<\/td>\n",
       "      <td>2015<\/td>\n",
       "      <td>16-17<\/td>\n",
       "      <td>Male<\/td>\n",
       "      <td>48.3<\/td>\n",
       "      <td>53.7<\/td>\n",
       "      <td>57.8<\/td>\n",
       "      <td>10.1<\/td>\n",
       "      <td>36.5<\/td>\n",
       "      <td>38.9<\/td>\n",
       "      <td>55.7<\/td>\n",
       "      <td>40.0<\/td>\n",
       "      <td>49.6<\/td>\n",
       "      <td>23.6<\/td>\n",
       "      <td>54.5<\/td>\n",
       "      <td>7.3<\/td>\n",
       "      <td>9.0<\/td>\n",
       "    <\/tr>\n",
       "    <tr>\n",
       "      <th>105<\/th>\n",
       "      <td>Wallis and Futuna<\/td>\n",
       "      <td>2015<\/td>\n",
       "      <td>16-17<\/td>\n",
       "      <td>Female<\/td>\n",
       "      <td>42.9<\/td>\n",
       "      <td>51.7<\/td>\n",
       "      <td>70.6<\/td>\n",
       "      <td>3.9<\/td>\n",
       "      <td>37.8<\/td>\n",
       "      <td>37.2<\/td>\n",
       "      <td>22.4<\/td>\n",
       "      <td>41.7<\/td>\n",
       "      <td>17.3<\/td>\n",
       "      <td>29.4<\/td>\n",
       "      <td>30.4<\/td>\n",
       "      <td>1.5<\/td>\n",
       "      <td>16.2<\/td>\n",
       "    <\/tr>\n",
       "  <\/tbody>\n",
       "<\/table>\n",
       "<p>106 rows × 17 columns<\/p>\n",
       "<\/div>"
      ]
     },
     "metadata":{
      
     },
     "output_type":"display_data"
    }
   ],
   "metadata":{
    "datalore":{
     "node_id":"V8j64VltX8iVvnBRiowScM",
     "type":"CODE",
     "hide_input_from_viewers":true,
     "hide_output_from_viewers":true
    }
   }
  },
  {
   "cell_type":"code",
   "source":[
    "mentalh = mentalh.dropna()\n",
    "mentalh \n",
    "mentalh = mentalh.rename(columns={'Missed_classes_without_permssion': 'Missed_Classes_Without_Permssion', \n",
    "                                  'Had_sexual_relation': 'Had_Sexual_Relation', 'Smoke_cig_currently': 'Smoke_Cig_Currently', \n",
    "                                  'Had_fights': 'Had_Fights', 'Got_Seriously_injured': 'Got_Seriously_Injured', \n",
    "                                  'No_close_friends': 'No_Close_Friends', 'Attempted_suicide': 'Attempted_Suicide'})"
   ],
   "execution_count":4,
   "outputs":[
    
   ],
   "metadata":{
    "datalore":{
     "node_id":"haFf7kaiXl1HKO7JfS4ZYi",
     "type":"CODE",
     "hide_input_from_viewers":true,
     "hide_output_from_viewers":true
    }
   }
  },
  {
   "cell_type":"code",
   "source":[
    "mentalh.describe()"
   ],
   "execution_count":5,
   "outputs":[
    {
     "data":{
      "text\/html":[
       "<div>\n",
       "<style scoped>\n",
       "    .dataframe tbody tr th:only-of-type {\n",
       "        vertical-align: middle;\n",
       "    }\n",
       "\n",
       "    .dataframe tbody tr th {\n",
       "        vertical-align: top;\n",
       "    }\n",
       "\n",
       "    .dataframe thead th {\n",
       "        text-align: right;\n",
       "    }\n",
       "<\/style>\n",
       "<table border=\"1\" class=\"dataframe\">\n",
       "  <thead>\n",
       "    <tr style=\"text-align: right;\">\n",
       "      <th><\/th>\n",
       "      <th>Year<\/th>\n",
       "      <th>Currently_Drink_Alcohol<\/th>\n",
       "      <th>Really_Get_Drunk<\/th>\n",
       "      <th>Overwieght<\/th>\n",
       "      <th>Use_Marijuana<\/th>\n",
       "      <th>Have_Understanding_Parents<\/th>\n",
       "      <th>Missed_Classes_Without_Permssion<\/th>\n",
       "      <th>Had_Sexual_Relation<\/th>\n",
       "      <th>Smoke_Cig_Currently<\/th>\n",
       "      <th>Had_Fights<\/th>\n",
       "      <th>Bullied<\/th>\n",
       "      <th>Got_Seriously_Injured<\/th>\n",
       "      <th>No_Close_Friends<\/th>\n",
       "      <th>Attempted_Suicide<\/th>\n",
       "    <\/tr>\n",
       "  <\/thead>\n",
       "  <tbody>\n",
       "    <tr>\n",
       "      <th>count<\/th>\n",
       "      <td>100.000000<\/td>\n",
       "      <td>100.00000<\/td>\n",
       "      <td>100.000000<\/td>\n",
       "      <td>100.000000<\/td>\n",
       "      <td>100.000000<\/td>\n",
       "      <td>100.000000<\/td>\n",
       "      <td>100.000000<\/td>\n",
       "      <td>100.000000<\/td>\n",
       "      <td>100.000000<\/td>\n",
       "      <td>100.000000<\/td>\n",
       "      <td>100.000000<\/td>\n",
       "      <td>100.000000<\/td>\n",
       "      <td>100.000000<\/td>\n",
       "      <td>100.000000<\/td>\n",
       "    <\/tr>\n",
       "    <tr>\n",
       "      <th>mean<\/th>\n",
       "      <td>2014.640000<\/td>\n",
       "      <td>30.85900<\/td>\n",
       "      <td>20.575000<\/td>\n",
       "      <td>23.229000<\/td>\n",
       "      <td>7.219000<\/td>\n",
       "      <td>32.624000<\/td>\n",
       "      <td>30.273000<\/td>\n",
       "      <td>25.898000<\/td>\n",
       "      <td>15.314000<\/td>\n",
       "      <td>32.680000<\/td>\n",
       "      <td>31.118000<\/td>\n",
       "      <td>44.092100<\/td>\n",
       "      <td>7.826000<\/td>\n",
       "      <td>14.473000<\/td>\n",
       "    <\/tr>\n",
       "    <tr>\n",
       "      <th>std<\/th>\n",
       "      <td>1.977244<\/td>\n",
       "      <td>54.75516<\/td>\n",
       "      <td>14.091694<\/td>\n",
       "      <td>16.045008<\/td>\n",
       "      <td>8.594251<\/td>\n",
       "      <td>11.627641<\/td>\n",
       "      <td>10.778185<\/td>\n",
       "      <td>16.989123<\/td>\n",
       "      <td>10.804919<\/td>\n",
       "      <td>15.543578<\/td>\n",
       "      <td>14.327817<\/td>\n",
       "      <td>15.067355<\/td>\n",
       "      <td>4.474227<\/td>\n",
       "      <td>9.506657<\/td>\n",
       "    <\/tr>\n",
       "    <tr>\n",
       "      <th>min<\/th>\n",
       "      <td>2010.000000<\/td>\n",
       "      <td>1.40000<\/td>\n",
       "      <td>0.800000<\/td>\n",
       "      <td>3.300000<\/td>\n",
       "      <td>0.000000<\/td>\n",
       "      <td>5.600000<\/td>\n",
       "      <td>6.500000<\/td>\n",
       "      <td>2.500000<\/td>\n",
       "      <td>1.200000<\/td>\n",
       "      <td>3.500000<\/td>\n",
       "      <td>9.900000<\/td>\n",
       "      <td>15.200000<\/td>\n",
       "      <td>1.500000<\/td>\n",
       "      <td>2.700000<\/td>\n",
       "    <\/tr>\n",
       "    <tr>\n",
       "      <th>25%<\/th>\n",
       "      <td>2013.000000<\/td>\n",
       "      <td>10.22500<\/td>\n",
       "      <td>8.350000<\/td>\n",
       "      <td>11.275000<\/td>\n",
       "      <td>1.900000<\/td>\n",
       "      <td>25.300000<\/td>\n",
       "      <td>22.750000<\/td>\n",
       "      <td>12.200000<\/td>\n",
       "      <td>6.875000<\/td>\n",
       "      <td>21.250000<\/td>\n",
       "      <td>21.575000<\/td>\n",
       "      <td>34.800000<\/td>\n",
       "      <td>4.375000<\/td>\n",
       "      <td>9.150000<\/td>\n",
       "    <\/tr>\n",
       "    <tr>\n",
       "      <th>50%<\/th>\n",
       "      <td>2015.000000<\/td>\n",
       "      <td>23.80000<\/td>\n",
       "      <td>18.200000<\/td>\n",
       "      <td>21.000000<\/td>\n",
       "      <td>4.100000<\/td>\n",
       "      <td>32.400000<\/td>\n",
       "      <td>29.200000<\/td>\n",
       "      <td>21.900000<\/td>\n",
       "      <td>12.350000<\/td>\n",
       "      <td>29.400000<\/td>\n",
       "      <td>26.850000<\/td>\n",
       "      <td>42.700000<\/td>\n",
       "      <td>7.050000<\/td>\n",
       "      <td>11.850000<\/td>\n",
       "    <\/tr>\n",
       "    <tr>\n",
       "      <th>75%<\/th>\n",
       "      <td>2016.000000<\/td>\n",
       "      <td>40.60000<\/td>\n",
       "      <td>29.050000<\/td>\n",
       "      <td>30.200000<\/td>\n",
       "      <td>8.750000<\/td>\n",
       "      <td>39.825000<\/td>\n",
       "      <td>36.900000<\/td>\n",
       "      <td>36.500000<\/td>\n",
       "      <td>21.600000<\/td>\n",
       "      <td>42.875000<\/td>\n",
       "      <td>41.650000<\/td>\n",
       "      <td>53.350000<\/td>\n",
       "      <td>10.000000<\/td>\n",
       "      <td>18.675000<\/td>\n",
       "    <\/tr>\n",
       "    <tr>\n",
       "      <th>max<\/th>\n",
       "      <td>2017.000000<\/td>\n",
       "      <td>548.00000<\/td>\n",
       "      <td>55.300000<\/td>\n",
       "      <td>70.600000<\/td>\n",
       "      <td>43.200000<\/td>\n",
       "      <td>63.900000<\/td>\n",
       "      <td>62.200000<\/td>\n",
       "      <td>73.900000<\/td>\n",
       "      <td>43.800000<\/td>\n",
       "      <td>76.500000<\/td>\n",
       "      <td>78.600000<\/td>\n",
       "      <td>87.700000<\/td>\n",
       "      <td>24.800000<\/td>\n",
       "      <td>67.200000<\/td>\n",
       "    <\/tr>\n",
       "  <\/tbody>\n",
       "<\/table>\n",
       "<\/div>"
      ]
     },
     "metadata":{
      
     },
     "output_type":"display_data"
    }
   ],
   "metadata":{
    "datalore":{
     "node_id":"CKacDXdNV96gvN69e6rhtz",
     "type":"CODE",
     "hide_input_from_viewers":false,
     "hide_output_from_viewers":false,
     "report_properties":{
      "rowId":"lJsJKOPSq9aHrt3IrgXYeS",
      "relativeY":0
     }
    }
   }
  },
  {
   "cell_type":"markdown",
   "source":[
    "**Week One:**\n",
    "\n",
    "Explanation of dataset origins, initial lit review, some initial data cleaning, exploratory data analysis including data visualizations."
   ],
   "attachments":{
    
   },
   "metadata":{
    "datalore":{
     "node_id":"5Pbil5KbSqRX3dZn9b6cAd",
     "type":"MD",
     "hide_input_from_viewers":false,
     "hide_output_from_viewers":false,
     "report_properties":{
      "rowId":"Ibh2Wn4rWcNsxIKUe8AHEx",
      "relativeY":0
     }
    }
   }
  },
  {
   "cell_type":"code",
   "source":[
    "mentalh = pd.get_dummies(mentalh, columns = ['Age Group', 'Sex'])\n",
    "mentalh = mentalh.rename(columns = {'Age Group_13-15': 'Age_Group_13-15','Age Group_16-17': 'Age_Group_16-17'})\n",
    "mentalh"
   ],
   "execution_count":6,
   "outputs":[
    {
     "data":{
      "text\/html":[
       "<div>\n",
       "<style scoped>\n",
       "    .dataframe tbody tr th:only-of-type {\n",
       "        vertical-align: middle;\n",
       "    }\n",
       "\n",
       "    .dataframe tbody tr th {\n",
       "        vertical-align: top;\n",
       "    }\n",
       "\n",
       "    .dataframe thead th {\n",
       "        text-align: right;\n",
       "    }\n",
       "<\/style>\n",
       "<table border=\"1\" class=\"dataframe\">\n",
       "  <thead>\n",
       "    <tr style=\"text-align: right;\">\n",
       "      <th><\/th>\n",
       "      <th>Country<\/th>\n",
       "      <th>Year<\/th>\n",
       "      <th>Currently_Drink_Alcohol<\/th>\n",
       "      <th>Really_Get_Drunk<\/th>\n",
       "      <th>Overwieght<\/th>\n",
       "      <th>Use_Marijuana<\/th>\n",
       "      <th>Have_Understanding_Parents<\/th>\n",
       "      <th>Missed_Classes_Without_Permssion<\/th>\n",
       "      <th>Had_Sexual_Relation<\/th>\n",
       "      <th>Smoke_Cig_Currently<\/th>\n",
       "      <th>Had_Fights<\/th>\n",
       "      <th>Bullied<\/th>\n",
       "      <th>Got_Seriously_Injured<\/th>\n",
       "      <th>No_Close_Friends<\/th>\n",
       "      <th>Attempted_Suicide<\/th>\n",
       "      <th>Age_Group_13-15<\/th>\n",
       "      <th>Age_Group_16-17<\/th>\n",
       "      <th>Sex_Female<\/th>\n",
       "      <th>Sex_Male<\/th>\n",
       "    <\/tr>\n",
       "  <\/thead>\n",
       "  <tbody>\n",
       "    <tr>\n",
       "      <th>4<\/th>\n",
       "      <td>Argentina<\/td>\n",
       "      <td>2012<\/td>\n",
       "      <td>49.3<\/td>\n",
       "      <td>28.9<\/td>\n",
       "      <td>35.9<\/td>\n",
       "      <td>10.6<\/td>\n",
       "      <td>46.2<\/td>\n",
       "      <td>32.0<\/td>\n",
       "      <td>43.5<\/td>\n",
       "      <td>17.0<\/td>\n",
       "      <td>44.2<\/td>\n",
       "      <td>42.1<\/td>\n",
       "      <td>24.8<\/td>\n",
       "      <td>6.1<\/td>\n",
       "      <td>12.9<\/td>\n",
       "      <td>1<\/td>\n",
       "      <td>0<\/td>\n",
       "      <td>0<\/td>\n",
       "      <td>1<\/td>\n",
       "    <\/tr>\n",
       "    <tr>\n",
       "      <th>5<\/th>\n",
       "      <td>Argentina<\/td>\n",
       "      <td>2012<\/td>\n",
       "      <td>50.7<\/td>\n",
       "      <td>26.8<\/td>\n",
       "      <td>21.8<\/td>\n",
       "      <td>6.5<\/td>\n",
       "      <td>49.9<\/td>\n",
       "      <td>29.4<\/td>\n",
       "      <td>30.7<\/td>\n",
       "      <td>20.5<\/td>\n",
       "      <td>24.7<\/td>\n",
       "      <td>25.2<\/td>\n",
       "      <td>24.2<\/td>\n",
       "      <td>4.3<\/td>\n",
       "      <td>18.9<\/td>\n",
       "      <td>1<\/td>\n",
       "      <td>0<\/td>\n",
       "      <td>1<\/td>\n",
       "      <td>0<\/td>\n",
       "    <\/tr>\n",
       "    <tr>\n",
       "      <th>8<\/th>\n",
       "      <td>Benin<\/td>\n",
       "      <td>2016<\/td>\n",
       "      <td>38.0<\/td>\n",
       "      <td>19.3<\/td>\n",
       "      <td>12.7<\/td>\n",
       "      <td>0.8<\/td>\n",
       "      <td>35.7<\/td>\n",
       "      <td>18.8<\/td>\n",
       "      <td>31.8<\/td>\n",
       "      <td>5.1<\/td>\n",
       "      <td>32.1<\/td>\n",
       "      <td>47.4<\/td>\n",
       "      <td>48.4<\/td>\n",
       "      <td>10.8<\/td>\n",
       "      <td>14.4<\/td>\n",
       "      <td>1<\/td>\n",
       "      <td>0<\/td>\n",
       "      <td>0<\/td>\n",
       "      <td>1<\/td>\n",
       "    <\/tr>\n",
       "    <tr>\n",
       "      <th>9<\/th>\n",
       "      <td>Benin<\/td>\n",
       "      <td>2016<\/td>\n",
       "      <td>42.4<\/td>\n",
       "      <td>16.8<\/td>\n",
       "      <td>18.3<\/td>\n",
       "      <td>0.2<\/td>\n",
       "      <td>39.7<\/td>\n",
       "      <td>6.5<\/td>\n",
       "      <td>14.2<\/td>\n",
       "      <td>1.3<\/td>\n",
       "      <td>27.3<\/td>\n",
       "      <td>51.5<\/td>\n",
       "      <td>40.4<\/td>\n",
       "      <td>14.2<\/td>\n",
       "      <td>9.6<\/td>\n",
       "      <td>1<\/td>\n",
       "      <td>0<\/td>\n",
       "      <td>1<\/td>\n",
       "      <td>0<\/td>\n",
       "    <\/tr>\n",
       "    <tr>\n",
       "      <th>10<\/th>\n",
       "      <td>Benin<\/td>\n",
       "      <td>2016<\/td>\n",
       "      <td>46.5<\/td>\n",
       "      <td>29.6<\/td>\n",
       "      <td>3.3<\/td>\n",
       "      <td>2.1<\/td>\n",
       "      <td>33.3<\/td>\n",
       "      <td>17.3<\/td>\n",
       "      <td>35.7<\/td>\n",
       "      <td>6.9<\/td>\n",
       "      <td>28.8<\/td>\n",
       "      <td>43.3<\/td>\n",
       "      <td>51.0<\/td>\n",
       "      <td>9.7<\/td>\n",
       "      <td>13.4<\/td>\n",
       "      <td>0<\/td>\n",
       "      <td>1<\/td>\n",
       "      <td>0<\/td>\n",
       "      <td>1<\/td>\n",
       "    <\/tr>\n",
       "    <tr>\n",
       "      <th>...<\/th>\n",
       "      <td>...<\/td>\n",
       "      <td>...<\/td>\n",
       "      <td>...<\/td>\n",
       "      <td>...<\/td>\n",
       "      <td>...<\/td>\n",
       "      <td>...<\/td>\n",
       "      <td>...<\/td>\n",
       "      <td>...<\/td>\n",
       "      <td>...<\/td>\n",
       "      <td>...<\/td>\n",
       "      <td>...<\/td>\n",
       "      <td>...<\/td>\n",
       "      <td>...<\/td>\n",
       "      <td>...<\/td>\n",
       "      <td>...<\/td>\n",
       "      <td>...<\/td>\n",
       "      <td>...<\/td>\n",
       "      <td>...<\/td>\n",
       "      <td>...<\/td>\n",
       "    <\/tr>\n",
       "    <tr>\n",
       "      <th>101<\/th>\n",
       "      <td>Vanuatu<\/td>\n",
       "      <td>2011<\/td>\n",
       "      <td>5.8<\/td>\n",
       "      <td>4.7<\/td>\n",
       "      <td>13.6<\/td>\n",
       "      <td>1.9<\/td>\n",
       "      <td>20.2<\/td>\n",
       "      <td>44.6<\/td>\n",
       "      <td>8.4<\/td>\n",
       "      <td>8.2<\/td>\n",
       "      <td>41.8<\/td>\n",
       "      <td>66.5<\/td>\n",
       "      <td>57.4<\/td>\n",
       "      <td>14.3<\/td>\n",
       "      <td>19.5<\/td>\n",
       "      <td>1<\/td>\n",
       "      <td>0<\/td>\n",
       "      <td>1<\/td>\n",
       "      <td>0<\/td>\n",
       "    <\/tr>\n",
       "    <tr>\n",
       "      <th>102<\/th>\n",
       "      <td>Wallis and Futuna<\/td>\n",
       "      <td>2015<\/td>\n",
       "      <td>32.2<\/td>\n",
       "      <td>35.5<\/td>\n",
       "      <td>60.5<\/td>\n",
       "      <td>4.0<\/td>\n",
       "      <td>36.3<\/td>\n",
       "      <td>32.7<\/td>\n",
       "      <td>32.0<\/td>\n",
       "      <td>25.7<\/td>\n",
       "      <td>48.7<\/td>\n",
       "      <td>30.2<\/td>\n",
       "      <td>51.2<\/td>\n",
       "      <td>4.1<\/td>\n",
       "      <td>14.7<\/td>\n",
       "      <td>1<\/td>\n",
       "      <td>0<\/td>\n",
       "      <td>0<\/td>\n",
       "      <td>1<\/td>\n",
       "    <\/tr>\n",
       "    <tr>\n",
       "      <th>103<\/th>\n",
       "      <td>Wallis and Futuna<\/td>\n",
       "      <td>2015<\/td>\n",
       "      <td>24.4<\/td>\n",
       "      <td>27.1<\/td>\n",
       "      <td>63.0<\/td>\n",
       "      <td>2.0<\/td>\n",
       "      <td>36.3<\/td>\n",
       "      <td>16.2<\/td>\n",
       "      <td>13.6<\/td>\n",
       "      <td>29.9<\/td>\n",
       "      <td>22.9<\/td>\n",
       "      <td>30.9<\/td>\n",
       "      <td>41.7<\/td>\n",
       "      <td>3.3<\/td>\n",
       "      <td>16.9<\/td>\n",
       "      <td>1<\/td>\n",
       "      <td>0<\/td>\n",
       "      <td>1<\/td>\n",
       "      <td>0<\/td>\n",
       "    <\/tr>\n",
       "    <tr>\n",
       "      <th>104<\/th>\n",
       "      <td>Wallis and Futuna<\/td>\n",
       "      <td>2015<\/td>\n",
       "      <td>48.3<\/td>\n",
       "      <td>53.7<\/td>\n",
       "      <td>57.8<\/td>\n",
       "      <td>10.1<\/td>\n",
       "      <td>36.5<\/td>\n",
       "      <td>38.9<\/td>\n",
       "      <td>55.7<\/td>\n",
       "      <td>40.0<\/td>\n",
       "      <td>49.6<\/td>\n",
       "      <td>23.6<\/td>\n",
       "      <td>54.5<\/td>\n",
       "      <td>7.3<\/td>\n",
       "      <td>9.0<\/td>\n",
       "      <td>0<\/td>\n",
       "      <td>1<\/td>\n",
       "      <td>0<\/td>\n",
       "      <td>1<\/td>\n",
       "    <\/tr>\n",
       "    <tr>\n",
       "      <th>105<\/th>\n",
       "      <td>Wallis and Futuna<\/td>\n",
       "      <td>2015<\/td>\n",
       "      <td>42.9<\/td>\n",
       "      <td>51.7<\/td>\n",
       "      <td>70.6<\/td>\n",
       "      <td>3.9<\/td>\n",
       "      <td>37.8<\/td>\n",
       "      <td>37.2<\/td>\n",
       "      <td>22.4<\/td>\n",
       "      <td>41.7<\/td>\n",
       "      <td>17.3<\/td>\n",
       "      <td>29.4<\/td>\n",
       "      <td>30.4<\/td>\n",
       "      <td>1.5<\/td>\n",
       "      <td>16.2<\/td>\n",
       "      <td>0<\/td>\n",
       "      <td>1<\/td>\n",
       "      <td>1<\/td>\n",
       "      <td>0<\/td>\n",
       "    <\/tr>\n",
       "  <\/tbody>\n",
       "<\/table>\n",
       "<p>100 rows × 19 columns<\/p>\n",
       "<\/div>"
      ]
     },
     "metadata":{
      
     },
     "output_type":"display_data"
    }
   ],
   "metadata":{
    "datalore":{
     "node_id":"C1n6oBpY6RHLSjoZZajILk",
     "type":"CODE",
     "hide_input_from_viewers":true,
     "hide_output_from_viewers":true
    }
   }
  },
  {
   "cell_type":"code",
   "source":[
    "mentalh.Country.unique()"
   ],
   "execution_count":7,
   "outputs":[
    {
     "data":{
      "text\/html":[
       "<pre>array(['Argentina', 'Benin', 'Bhutan', 'Brunei Darussalam ',\n",
       "       'Dominican Republic ', 'Fiji Islands', 'Indonesia', 'Jamaica',\n",
       "       'Kiribati', 'Laos', 'Malaysia', 'Mauritus', 'Mongolia', 'Namibia',\n",
       "       'Nepal', 'Peru', 'Samoa', 'Seychelles', 'Suriname', 'Thailand',\n",
       "       'Timor-Leste ', 'Trinidad and Tobago ', 'Tuvalu ', 'Uruguay ',\n",
       "       'Vanuatu ', 'Wallis and Futuna '], dtype=object)<\/pre>"
      ]
     },
     "metadata":{
      
     },
     "output_type":"display_data"
    }
   ],
   "metadata":{
    "datalore":{
     "node_id":"TSiykH9ETuJkAcwleWbID1",
     "type":"CODE",
     "hide_input_from_viewers":true,
     "hide_output_from_viewers":true
    }
   }
  },
  {
   "cell_type":"code",
   "source":[
    "#Bar Chart\n",
    "mentalh[\"Count\"] = np.arange(1,101,1) \n",
    "#adding a column to keep track of how many values, difficult to utilize the index in pivot table\n",
    "mental_piv = mentalh.pivot_table(\"Count\", index=\"Country\", aggfunc=pd.Series.nunique) \n",
    "mental_piv = mental_piv.reset_index() #reseting pivot table \n",
    "mentalh = mentalh.drop('Count', axis=1)\n",
    "#removing this column to keep the data tidy as the column is equivalent to the index\n",
    "plt.figure(figsize=(12,9))\n",
    "sns.barplot(data = mental_piv, x = 'Country', y = 'Count', hue=\"Country\")\n",
    "plt.xlabel(\"Country\")\n",
    "plt.ylabel(\"Frequency in Percentage\")\n",
    "plt.title(\"Representation of Countries in Dataset\")\n",
    "plt.xticks(rotation=90)\n",
    "plt.legend([], [], frameon=False)\n",
    "plt.show()"
   ],
   "execution_count":8,
   "outputs":[
    {
     "data":{
      "image\/png":"[encoded data removed]"
     },
     "metadata":{
      "image\/png":{
       
      }
     },
     "output_type":"display_data"
    }
   ],
   "metadata":{
    "datalore":{
     "node_id":"J3borJ72FR9HKGay3hZfAc",
     "type":"CODE",
     "hide_input_from_viewers":false,
     "hide_output_from_viewers":false,
     "report_properties":{
      "rowId":"B48MOVGxUXAGurZbedufY4",
      "relativeY":0
     }
    }
   }
  },
  {
   "cell_type":"markdown",
   "source":[
    "**Bar Chart Caption:**\n",
    "Argentina, Kiribati, Peru, Tuvalu, and Uruguay make up the smallest amount of representation in these countries while Mongolia, Samoa, and Vanuatu are represented the most. "
   ],
   "attachments":{
    
   },
   "metadata":{
    "datalore":{
     "node_id":"JgWkk2CnjyN6suK2qBZcDV",
     "type":"MD",
     "hide_input_from_viewers":false,
     "hide_output_from_viewers":false,
     "report_properties":{
      "rowId":"ETZqoH2Uve2NGHTvlgymUi",
      "relativeY":0
     }
    }
   }
  },
  {
   "cell_type":"code",
   "source":[
    "#Histogram - this should be left out\n",
    "\n",
    "sns.histplot(mentalh[\"Overwieght\"], bins = np.arange(0,101,15), color=\"pink\")\n",
    "plt.xlabel(\"Percentage Overwieght\")\n",
    "plt.title(\"Distribution of Overweight Adolesence in Each Country\/Age\/Gender Group\")\n",
    "plt.show()\n",
    "data= mentalh[\"Overwieght\"].describe()\n",
    "print(\"Data to use in Caption for Histogram:\", data)"
   ],
   "execution_count":9,
   "outputs":[
    {
     "name":"stdout",
     "text":[
      "Data to use in Caption for Histogram: count    100.000000\n",
      "mean      23.229000\n",
      "std       16.045008\n",
      "min        3.300000\n",
      "25%       11.275000\n",
      "50%       21.000000\n",
      "75%       30.200000\n",
      "max       70.600000\n",
      "Name: Overwieght, dtype: float64\n"
     ],
     "output_type":"stream"
    },
    {
     "data":{
      "image\/png":"[encoded data removed]"
     },
     "metadata":{
      "image\/png":{
       
      }
     },
     "output_type":"display_data"
    }
   ],
   "metadata":{
    "datalore":{
     "node_id":"aqgYQD7T6VmzFDUtWstr6j",
     "type":"CODE",
     "hide_input_from_viewers":false,
     "hide_output_from_viewers":false,
     "report_properties":{
      "rowId":"SAlrnbsXEXKaBiXT04urB1",
      "relativeY":0
     }
    }
   }
  },
  {
   "cell_type":"markdown",
   "source":[
    "**Histogram Caption:**\n",
    "The center of this graph, when considering the mean, is 23.23%. The graph is not symetrical, it is skewed right. The largest mode is 0-15%. Considering the spread of the graph, the standard deviation is 16.05%, the range is 67.3%, and the IQR is (30.2-11.275) 18.93%. There are no unusual values."
   ],
   "attachments":{
    
   },
   "metadata":{
    "datalore":{
     "node_id":"8i6ltREBlwdoFYXc5WsZXR",
     "type":"MD",
     "hide_input_from_viewers":false,
     "hide_output_from_viewers":false,
     "report_properties":{
      "rowId":"VgVqGawyRtElhxPwYTemyu",
      "relativeY":0
     }
    }
   }
  },
  {
   "cell_type":"code",
   "source":[
    "#Histogram\n",
    "\n",
    "sns.histplot(mentalh[\"Bullied\"], bins = np.arange(0,101,15), color=\"pink\")\n",
    "plt.xlabel(\"Percentage Bullied\")\n",
    "plt.title(\"Distribution of Bullied Teens (values in percents)\")\n",
    "plt.show()\n",
    "data= mentalh[\"Bullied\"].describe()\n",
    "print(\"Data to use in Caption for Histogram:\", data)"
   ],
   "execution_count":10,
   "outputs":[
    {
     "name":"stdout",
     "text":[
      "Data to use in Caption for Histogram: count    100.000000\n",
      "mean      31.118000\n",
      "std       14.327817\n",
      "min        9.900000\n",
      "25%       21.575000\n",
      "50%       26.850000\n",
      "75%       41.650000\n",
      "max       78.600000\n",
      "Name: Bullied, dtype: float64\n"
     ],
     "output_type":"stream"
    },
    {
     "data":{
      "image\/png":"[encoded data removed]"
     },
     "metadata":{
      "image\/png":{
       
      }
     },
     "output_type":"display_data"
    }
   ],
   "metadata":{
    "datalore":{
     "node_id":"q4tDyILLoxjM6ah2DKqWVk",
     "type":"CODE",
     "hide_input_from_viewers":true,
     "hide_output_from_viewers":true
    }
   }
  },
  {
   "cell_type":"markdown",
   "source":[
    "**Histogram Caption:** The center of this graph, when considering the mean, is 31.12%. The graph is not symmetrical, it is skewed right. The largest mode is 15-30%. Considering the spread of the graph, the standard deviation is 14.33%, the range is 68.7%, and the IQR is (41.65-21.575) 20.08%. There are no unusual values."
   ],
   "attachments":{
    
   },
   "metadata":{
    "datalore":{
     "node_id":"YesZbmbFeTWiCKsio1kzmE",
     "type":"MD",
     "hide_input_from_viewers":true,
     "hide_output_from_viewers":true
    }
   }
  },
  {
   "cell_type":"code",
   "source":[
    "#if attempted suicide is response, testing relationships\n",
    "#Scatterplot\n",
    "sns.relplot(data=mentalh, x='Use_Marijuana', y='Attempted_Suicide', kind='scatter')\n",
    "plt.xlabel(\"Percent of Teens who Use Marijuana\")\n",
    "plt.ylabel(\"% who Have Attempted Suicide\")\n",
    "plt.title(\"Teen Attempted Suicide vs Marijuana Usage (percents)\") \n",
    "plt.show()\n",
    "\n",
    "mentalh['Use_Marijuana'].corr(mentalh['Attempted_Suicide'])"
   ],
   "execution_count":11,
   "outputs":[
    {
     "data":{
      "image\/png":"[encoded data removed]"
     },
     "metadata":{
      "image\/png":{
       
      }
     },
     "output_type":"display_data"
    },
    {
     "data":{
      "text\/plain":[
       "0.4297158442561854"
      ]
     },
     "metadata":{
      
     },
     "output_type":"display_data"
    }
   ],
   "metadata":{
    "datalore":{
     "node_id":"SSrDSEzLnNPwkgfGzq07kP",
     "type":"CODE",
     "hide_input_from_viewers":true,
     "hide_output_from_viewers":true
    }
   }
  },
  {
   "cell_type":"markdown",
   "source":[
    "**Scatterplot Caption:**\n",
    "\n",
    "There is a bit of a linear trend. There is an increase (positive direction) in percentage of teens who have attempted suicide as a the percent of teens who utilize weed increases. This relationship is of moderate strength as the correlation is just 0.43. There are some unusual values where the percentage of teens who have attempted suicide is higher than expected ~(25,55) and ~(43,67)."
   ],
   "attachments":{
    
   },
   "metadata":{
    "datalore":{
     "node_id":"NuvwFqex0vZZmp8QP4KKdw",
     "type":"MD",
     "hide_input_from_viewers":true,
     "hide_output_from_viewers":true
    }
   }
  },
  {
   "cell_type":"code",
   "source":[
    "#Scatterplot\n",
    "sns.relplot(data=mentalh, x='Bullied', y='Attempted_Suicide', kind='scatter')\n",
    "plt.xlabel(\"Percent of Teens who are Bullied\", fontsize = 12)\n",
    "plt.ylabel(\"% who Have Attempted Suicide\", fontsize = 12)\n",
    "plt.title(\"Attempted Suicide vs Being Bullied\", fontsize = 12) \n",
    "plt.show()\n",
    "print(\"correlation\", mentalh['Bullied'].corr(mentalh['Attempted_Suicide']))"
   ],
   "execution_count":12,
   "outputs":[
    {
     "name":"stdout",
     "text":[
      "correlation 0.6638910734983569\n"
     ],
     "output_type":"stream"
    },
    {
     "data":{
      "image\/png":"[encoded data removed]"
     },
     "metadata":{
      "image\/png":{
       
      }
     },
     "output_type":"display_data"
    }
   ],
   "metadata":{
    "datalore":{
     "node_id":"JSpRYxk787xmqOHO65gREN",
     "type":"CODE",
     "hide_input_from_viewers":true,
     "hide_output_from_viewers":true
    }
   }
  },
  {
   "cell_type":"markdown",
   "source":[
    "**Scatterplot Caption:**\n",
    "\n",
    "There is a linear trend. There is an increase (positive direction) in attempted suicide % as a higher percent of teens are bullied. This relationship is of higher strength as the correlation is just 0.66. There are no unusual values."
   ],
   "attachments":{
    
   },
   "metadata":{
    "datalore":{
     "node_id":"wnzRksb3HtAvLrFvnB4d9z",
     "type":"MD",
     "hide_input_from_viewers":false,
     "hide_output_from_viewers":false,
     "report_properties":{
      "rowId":"vrx98We9es1uQHjJAcddmv",
      "relativeY":0
     }
    }
   }
  },
  {
   "cell_type":"code",
   "source":[
    "#Scatterplot\n",
    "sns.relplot(data=mentalh, x='Missed_Classes_Without_Permssion', y='Attempted_Suicide', kind='scatter')\n",
    "plt.xlabel(\"Percentage who have Missed Classes\")\n",
    "plt.ylabel(\"% who Have Attempted Suicide\")\n",
    "plt.title(\"Percentage of Teens who Have Attempted Suicide vs Percentage who have Missed Classes without Permission\") \n",
    "plt.show()\n",
    "mentalh['Missed_Classes_Without_Permssion'].corr(mentalh['Attempted_Suicide'])"
   ],
   "execution_count":13,
   "outputs":[
    {
     "data":{
      "image\/png":"[encoded data removed]"
     },
     "metadata":{
      "image\/png":{
       
      }
     },
     "output_type":"display_data"
    },
    {
     "data":{
      "text\/plain":[
       "0.3530522369812133"
      ]
     },
     "metadata":{
      
     },
     "output_type":"display_data"
    }
   ],
   "metadata":{
    "datalore":{
     "node_id":"4niMAKIBbGQD5ehrn6pjVB",
     "type":"CODE",
     "hide_input_from_viewers":true,
     "hide_output_from_viewers":true
    }
   }
  },
  {
   "cell_type":"markdown",
   "source":[
    "**Scatterplot Caption:**\n",
    "\n",
    "There is a bit of a linear trend. There is an increase (positive direction) in percentage of teens who have attempted suicide as a the percent of teens who missed class without permission increases. This relationship is of weak strength as the correlation is just 0.35. There are some unusual values where the percentage of teens who have attempted suicide is higher than expected ~(50,55) and ~(61,67)."
   ],
   "attachments":{
    
   },
   "metadata":{
    "datalore":{
     "node_id":"JOXuXkT8Lu1UOXW4Pm8Ixq",
     "type":"MD",
     "hide_input_from_viewers":true,
     "hide_output_from_viewers":true
    }
   }
  },
  {
   "cell_type":"markdown",
   "source":[
    "**Week Two:**\n",
    "        \n",
    "Selection of response variable, more exploratory data analysis including correlation\n",
    "matrices and identification of possible collinear\/multicollinear variables based on\n",
    "dataset documentation"
   ],
   "attachments":{
    
   },
   "metadata":{
    "datalore":{
     "node_id":"RoqK8SM4XhoQysleGKD39L",
     "type":"MD",
     "hide_input_from_viewers":false,
     "hide_output_from_viewers":false,
     "report_properties":{
      "rowId":"mkCEIcFTNEsjBBFINHuTCO",
      "relativeY":0
     }
    }
   }
  },
  {
   "cell_type":"code",
   "source":[
    "#Response Variable: The percent of teens surveyed who attempted suicide (Attempted_suicide)\n",
    "corr = mentalh.corr()\n",
    "corr"
   ],
   "execution_count":14,
   "outputs":[
    {
     "data":{
      "text\/html":[
       "<div>\n",
       "<style scoped>\n",
       "    .dataframe tbody tr th:only-of-type {\n",
       "        vertical-align: middle;\n",
       "    }\n",
       "\n",
       "    .dataframe tbody tr th {\n",
       "        vertical-align: top;\n",
       "    }\n",
       "\n",
       "    .dataframe thead th {\n",
       "        text-align: right;\n",
       "    }\n",
       "<\/style>\n",
       "<table border=\"1\" class=\"dataframe\">\n",
       "  <thead>\n",
       "    <tr style=\"text-align: right;\">\n",
       "      <th><\/th>\n",
       "      <th>Year<\/th>\n",
       "      <th>Currently_Drink_Alcohol<\/th>\n",
       "      <th>Really_Get_Drunk<\/th>\n",
       "      <th>Overwieght<\/th>\n",
       "      <th>Use_Marijuana<\/th>\n",
       "      <th>Have_Understanding_Parents<\/th>\n",
       "      <th>Missed_Classes_Without_Permssion<\/th>\n",
       "      <th>Had_Sexual_Relation<\/th>\n",
       "      <th>Smoke_Cig_Currently<\/th>\n",
       "      <th>Had_Fights<\/th>\n",
       "      <th>Bullied<\/th>\n",
       "      <th>Got_Seriously_Injured<\/th>\n",
       "      <th>No_Close_Friends<\/th>\n",
       "      <th>Attempted_Suicide<\/th>\n",
       "      <th>Age_Group_13-15<\/th>\n",
       "      <th>Age_Group_16-17<\/th>\n",
       "      <th>Sex_Female<\/th>\n",
       "      <th>Sex_Male<\/th>\n",
       "    <\/tr>\n",
       "  <\/thead>\n",
       "  <tbody>\n",
       "    <tr>\n",
       "      <th>Year<\/th>\n",
       "      <td>1.000000e+00<\/td>\n",
       "      <td>0.171543<\/td>\n",
       "      <td>0.173470<\/td>\n",
       "      <td>0.100181<\/td>\n",
       "      <td>0.139145<\/td>\n",
       "      <td>0.024895<\/td>\n",
       "      <td>-0.199816<\/td>\n",
       "      <td>0.155110<\/td>\n",
       "      <td>-0.039194<\/td>\n",
       "      <td>-0.214888<\/td>\n",
       "      <td>-0.263084<\/td>\n",
       "      <td>-0.089851<\/td>\n",
       "      <td>0.173593<\/td>\n",
       "      <td>-0.189087<\/td>\n",
       "      <td>-2.793014e-01<\/td>\n",
       "      <td>2.793014e-01<\/td>\n",
       "      <td>1.117936e-15<\/td>\n",
       "      <td>-1.154335e-15<\/td>\n",
       "    <\/tr>\n",
       "    <tr>\n",
       "      <th>Currently_Drink_Alcohol<\/th>\n",
       "      <td>1.715427e-01<\/td>\n",
       "      <td>1.000000<\/td>\n",
       "      <td>0.348566<\/td>\n",
       "      <td>0.034048<\/td>\n",
       "      <td>0.307827<\/td>\n",
       "      <td>0.077462<\/td>\n",
       "      <td>-0.004900<\/td>\n",
       "      <td>0.411886<\/td>\n",
       "      <td>0.128407<\/td>\n",
       "      <td>0.048052<\/td>\n",
       "      <td>-0.028102<\/td>\n",
       "      <td>-0.000669<\/td>\n",
       "      <td>0.140255<\/td>\n",
       "      <td>0.099006<\/td>\n",
       "      <td>4.342974e-03<\/td>\n",
       "      <td>-4.342974e-03<\/td>\n",
       "      <td>-1.481075e-01<\/td>\n",
       "      <td>1.481075e-01<\/td>\n",
       "    <\/tr>\n",
       "    <tr>\n",
       "      <th>Really_Get_Drunk<\/th>\n",
       "      <td>1.734695e-01<\/td>\n",
       "      <td>0.348566<\/td>\n",
       "      <td>1.000000<\/td>\n",
       "      <td>0.161077<\/td>\n",
       "      <td>0.624900<\/td>\n",
       "      <td>0.118650<\/td>\n",
       "      <td>0.140044<\/td>\n",
       "      <td>0.763615<\/td>\n",
       "      <td>0.570963<\/td>\n",
       "      <td>0.076987<\/td>\n",
       "      <td>0.033170<\/td>\n",
       "      <td>0.111787<\/td>\n",
       "      <td>0.276148<\/td>\n",
       "      <td>0.298736<\/td>\n",
       "      <td>-3.499170e-01<\/td>\n",
       "      <td>3.499170e-01<\/td>\n",
       "      <td>-3.003340e-01<\/td>\n",
       "      <td>3.003340e-01<\/td>\n",
       "    <\/tr>\n",
       "    <tr>\n",
       "      <th>Overwieght<\/th>\n",
       "      <td>1.001807e-01<\/td>\n",
       "      <td>0.034048<\/td>\n",
       "      <td>0.161077<\/td>\n",
       "      <td>1.000000<\/td>\n",
       "      <td>0.116044<\/td>\n",
       "      <td>0.065477<\/td>\n",
       "      <td>0.092603<\/td>\n",
       "      <td>0.081378<\/td>\n",
       "      <td>0.246391<\/td>\n",
       "      <td>0.194235<\/td>\n",
       "      <td>-0.008007<\/td>\n",
       "      <td>-0.044277<\/td>\n",
       "      <td>0.061892<\/td>\n",
       "      <td>0.298063<\/td>\n",
       "      <td>1.495256e-01<\/td>\n",
       "      <td>-1.495256e-01<\/td>\n",
       "      <td>8.675455e-02<\/td>\n",
       "      <td>-8.675455e-02<\/td>\n",
       "    <\/tr>\n",
       "    <tr>\n",
       "      <th>Use_Marijuana<\/th>\n",
       "      <td>1.391452e-01<\/td>\n",
       "      <td>0.307827<\/td>\n",
       "      <td>0.624900<\/td>\n",
       "      <td>0.116044<\/td>\n",
       "      <td>1.000000<\/td>\n",
       "      <td>0.078705<\/td>\n",
       "      <td>0.269544<\/td>\n",
       "      <td>0.649461<\/td>\n",
       "      <td>0.537644<\/td>\n",
       "      <td>0.379017<\/td>\n",
       "      <td>0.172866<\/td>\n",
       "      <td>0.347453<\/td>\n",
       "      <td>0.294782<\/td>\n",
       "      <td>0.429716<\/td>\n",
       "      <td>-1.355336e-01<\/td>\n",
       "      <td>1.355336e-01<\/td>\n",
       "      <td>-3.380823e-01<\/td>\n",
       "      <td>3.380823e-01<\/td>\n",
       "    <\/tr>\n",
       "    <tr>\n",
       "      <th>Have_Understanding_Parents<\/th>\n",
       "      <td>2.489546e-02<\/td>\n",
       "      <td>0.077462<\/td>\n",
       "      <td>0.118650<\/td>\n",
       "      <td>0.065477<\/td>\n",
       "      <td>0.078705<\/td>\n",
       "      <td>1.000000<\/td>\n",
       "      <td>-0.473974<\/td>\n",
       "      <td>0.061028<\/td>\n",
       "      <td>-0.126714<\/td>\n",
       "      <td>-0.076031<\/td>\n",
       "      <td>-0.037204<\/td>\n",
       "      <td>-0.214949<\/td>\n",
       "      <td>0.013899<\/td>\n",
       "      <td>-0.077727<\/td>\n",
       "      <td>1.507490e-02<\/td>\n",
       "      <td>-1.507490e-02<\/td>\n",
       "      <td>4.114317e-02<\/td>\n",
       "      <td>-4.114317e-02<\/td>\n",
       "    <\/tr>\n",
       "    <tr>\n",
       "      <th>Missed_Classes_Without_Permssion<\/th>\n",
       "      <td>-1.998162e-01<\/td>\n",
       "      <td>-0.004900<\/td>\n",
       "      <td>0.140044<\/td>\n",
       "      <td>0.092603<\/td>\n",
       "      <td>0.269544<\/td>\n",
       "      <td>-0.473974<\/td>\n",
       "      <td>1.000000<\/td>\n",
       "      <td>0.288123<\/td>\n",
       "      <td>0.509576<\/td>\n",
       "      <td>0.417968<\/td>\n",
       "      <td>0.365655<\/td>\n",
       "      <td>0.384924<\/td>\n",
       "      <td>0.087632<\/td>\n",
       "      <td>0.353052<\/td>\n",
       "      <td>-1.529076e-01<\/td>\n",
       "      <td>1.529076e-01<\/td>\n",
       "      <td>-3.365299e-01<\/td>\n",
       "      <td>3.365299e-01<\/td>\n",
       "    <\/tr>\n",
       "    <tr>\n",
       "      <th>Had_Sexual_Relation<\/th>\n",
       "      <td>1.551095e-01<\/td>\n",
       "      <td>0.411886<\/td>\n",
       "      <td>0.763615<\/td>\n",
       "      <td>0.081378<\/td>\n",
       "      <td>0.649461<\/td>\n",
       "      <td>0.061028<\/td>\n",
       "      <td>0.288123<\/td>\n",
       "      <td>1.000000<\/td>\n",
       "      <td>0.420603<\/td>\n",
       "      <td>0.329267<\/td>\n",
       "      <td>0.270741<\/td>\n",
       "      <td>0.398894<\/td>\n",
       "      <td>0.448615<\/td>\n",
       "      <td>0.438344<\/td>\n",
       "      <td>-2.905205e-01<\/td>\n",
       "      <td>2.905205e-01<\/td>\n",
       "      <td>-4.550412e-01<\/td>\n",
       "      <td>4.550412e-01<\/td>\n",
       "    <\/tr>\n",
       "    <tr>\n",
       "      <th>Smoke_Cig_Currently<\/th>\n",
       "      <td>-3.919373e-02<\/td>\n",
       "      <td>0.128407<\/td>\n",
       "      <td>0.570963<\/td>\n",
       "      <td>0.246391<\/td>\n",
       "      <td>0.537644<\/td>\n",
       "      <td>-0.126714<\/td>\n",
       "      <td>0.509576<\/td>\n",
       "      <td>0.420603<\/td>\n",
       "      <td>1.000000<\/td>\n",
       "      <td>0.439856<\/td>\n",
       "      <td>0.166785<\/td>\n",
       "      <td>0.403950<\/td>\n",
       "      <td>0.071488<\/td>\n",
       "      <td>0.273761<\/td>\n",
       "      <td>-2.041262e-01<\/td>\n",
       "      <td>2.041262e-01<\/td>\n",
       "      <td>-5.000577e-01<\/td>\n",
       "      <td>5.000577e-01<\/td>\n",
       "    <\/tr>\n",
       "    <tr>\n",
       "      <th>Had_Fights<\/th>\n",
       "      <td>-2.148878e-01<\/td>\n",
       "      <td>0.048052<\/td>\n",
       "      <td>0.076987<\/td>\n",
       "      <td>0.194235<\/td>\n",
       "      <td>0.379017<\/td>\n",
       "      <td>-0.076031<\/td>\n",
       "      <td>0.417968<\/td>\n",
       "      <td>0.329267<\/td>\n",
       "      <td>0.439856<\/td>\n",
       "      <td>1.000000<\/td>\n",
       "      <td>0.537206<\/td>\n",
       "      <td>0.660526<\/td>\n",
       "      <td>0.301415<\/td>\n",
       "      <td>0.357026<\/td>\n",
       "      <td>2.703450e-01<\/td>\n",
       "      <td>-2.703450e-01<\/td>\n",
       "      <td>-5.788306e-01<\/td>\n",
       "      <td>5.788306e-01<\/td>\n",
       "    <\/tr>\n",
       "    <tr>\n",
       "      <th>Bullied<\/th>\n",
       "      <td>-2.630836e-01<\/td>\n",
       "      <td>-0.028102<\/td>\n",
       "      <td>0.033170<\/td>\n",
       "      <td>-0.008007<\/td>\n",
       "      <td>0.172866<\/td>\n",
       "      <td>-0.037204<\/td>\n",
       "      <td>0.365655<\/td>\n",
       "      <td>0.270741<\/td>\n",
       "      <td>0.166785<\/td>\n",
       "      <td>0.537206<\/td>\n",
       "      <td>1.000000<\/td>\n",
       "      <td>0.679644<\/td>\n",
       "      <td>0.410681<\/td>\n",
       "      <td>0.663891<\/td>\n",
       "      <td>2.627225e-01<\/td>\n",
       "      <td>-2.627225e-01<\/td>\n",
       "      <td>-1.401515e-01<\/td>\n",
       "      <td>1.401515e-01<\/td>\n",
       "    <\/tr>\n",
       "    <tr>\n",
       "      <th>Got_Seriously_Injured<\/th>\n",
       "      <td>-8.985051e-02<\/td>\n",
       "      <td>-0.000669<\/td>\n",
       "      <td>0.111787<\/td>\n",
       "      <td>-0.044277<\/td>\n",
       "      <td>0.347453<\/td>\n",
       "      <td>-0.214949<\/td>\n",
       "      <td>0.384924<\/td>\n",
       "      <td>0.398894<\/td>\n",
       "      <td>0.403950<\/td>\n",
       "      <td>0.660526<\/td>\n",
       "      <td>0.679644<\/td>\n",
       "      <td>1.000000<\/td>\n",
       "      <td>0.309574<\/td>\n",
       "      <td>0.510078<\/td>\n",
       "      <td>1.002362e-01<\/td>\n",
       "      <td>-1.002362e-01<\/td>\n",
       "      <td>-3.844828e-01<\/td>\n",
       "      <td>3.844828e-01<\/td>\n",
       "    <\/tr>\n",
       "    <tr>\n",
       "      <th>No_Close_Friends<\/th>\n",
       "      <td>1.735933e-01<\/td>\n",
       "      <td>0.140255<\/td>\n",
       "      <td>0.276148<\/td>\n",
       "      <td>0.061892<\/td>\n",
       "      <td>0.294782<\/td>\n",
       "      <td>0.013899<\/td>\n",
       "      <td>0.087632<\/td>\n",
       "      <td>0.448615<\/td>\n",
       "      <td>0.071488<\/td>\n",
       "      <td>0.301415<\/td>\n",
       "      <td>0.410681<\/td>\n",
       "      <td>0.309574<\/td>\n",
       "      <td>1.000000<\/td>\n",
       "      <td>0.457475<\/td>\n",
       "      <td>-1.004904e-02<\/td>\n",
       "      <td>1.004904e-02<\/td>\n",
       "      <td>-6.334516e-02<\/td>\n",
       "      <td>6.334516e-02<\/td>\n",
       "    <\/tr>\n",
       "    <tr>\n",
       "      <th>Attempted_Suicide<\/th>\n",
       "      <td>-1.890869e-01<\/td>\n",
       "      <td>0.099006<\/td>\n",
       "      <td>0.298736<\/td>\n",
       "      <td>0.298063<\/td>\n",
       "      <td>0.429716<\/td>\n",
       "      <td>-0.077727<\/td>\n",
       "      <td>0.353052<\/td>\n",
       "      <td>0.438344<\/td>\n",
       "      <td>0.273761<\/td>\n",
       "      <td>0.357026<\/td>\n",
       "      <td>0.663891<\/td>\n",
       "      <td>0.510078<\/td>\n",
       "      <td>0.457475<\/td>\n",
       "      <td>1.000000<\/td>\n",
       "      <td>1.455820e-01<\/td>\n",
       "      <td>-1.455820e-01<\/td>\n",
       "      <td>5.317684e-02<\/td>\n",
       "      <td>-5.317684e-02<\/td>\n",
       "    <\/tr>\n",
       "    <tr>\n",
       "      <th>Age_Group_13-15<\/th>\n",
       "      <td>-2.793014e-01<\/td>\n",
       "      <td>0.004343<\/td>\n",
       "      <td>-0.349917<\/td>\n",
       "      <td>0.149526<\/td>\n",
       "      <td>-0.135534<\/td>\n",
       "      <td>0.015075<\/td>\n",
       "      <td>-0.152908<\/td>\n",
       "      <td>-0.290520<\/td>\n",
       "      <td>-0.204126<\/td>\n",
       "      <td>0.270345<\/td>\n",
       "      <td>0.262723<\/td>\n",
       "      <td>0.100236<\/td>\n",
       "      <td>-0.010049<\/td>\n",
       "      <td>0.145582<\/td>\n",
       "      <td>1.000000e+00<\/td>\n",
       "      <td>-1.000000e+00<\/td>\n",
       "      <td>-2.249425e-18<\/td>\n",
       "      <td>6.748276e-18<\/td>\n",
       "    <\/tr>\n",
       "    <tr>\n",
       "      <th>Age_Group_16-17<\/th>\n",
       "      <td>2.793014e-01<\/td>\n",
       "      <td>-0.004343<\/td>\n",
       "      <td>0.349917<\/td>\n",
       "      <td>-0.149526<\/td>\n",
       "      <td>0.135534<\/td>\n",
       "      <td>-0.015075<\/td>\n",
       "      <td>0.152908<\/td>\n",
       "      <td>0.290520<\/td>\n",
       "      <td>0.204126<\/td>\n",
       "      <td>-0.270345<\/td>\n",
       "      <td>-0.262723<\/td>\n",
       "      <td>-0.100236<\/td>\n",
       "      <td>0.010049<\/td>\n",
       "      <td>-0.145582<\/td>\n",
       "      <td>-1.000000e+00<\/td>\n",
       "      <td>1.000000e+00<\/td>\n",
       "      <td>2.249425e-18<\/td>\n",
       "      <td>-4.498851e-18<\/td>\n",
       "    <\/tr>\n",
       "    <tr>\n",
       "      <th>Sex_Female<\/th>\n",
       "      <td>1.117936e-15<\/td>\n",
       "      <td>-0.148108<\/td>\n",
       "      <td>-0.300334<\/td>\n",
       "      <td>0.086755<\/td>\n",
       "      <td>-0.338082<\/td>\n",
       "      <td>0.041143<\/td>\n",
       "      <td>-0.336530<\/td>\n",
       "      <td>-0.455041<\/td>\n",
       "      <td>-0.500058<\/td>\n",
       "      <td>-0.578831<\/td>\n",
       "      <td>-0.140152<\/td>\n",
       "      <td>-0.384483<\/td>\n",
       "      <td>-0.063345<\/td>\n",
       "      <td>0.053177<\/td>\n",
       "      <td>-2.249425e-18<\/td>\n",
       "      <td>2.249425e-18<\/td>\n",
       "      <td>1.000000e+00<\/td>\n",
       "      <td>-1.000000e+00<\/td>\n",
       "    <\/tr>\n",
       "    <tr>\n",
       "      <th>Sex_Male<\/th>\n",
       "      <td>-1.154335e-15<\/td>\n",
       "      <td>0.148108<\/td>\n",
       "      <td>0.300334<\/td>\n",
       "      <td>-0.086755<\/td>\n",
       "      <td>0.338082<\/td>\n",
       "      <td>-0.041143<\/td>\n",
       "      <td>0.336530<\/td>\n",
       "      <td>0.455041<\/td>\n",
       "      <td>0.500058<\/td>\n",
       "      <td>0.578831<\/td>\n",
       "      <td>0.140152<\/td>\n",
       "      <td>0.384483<\/td>\n",
       "      <td>0.063345<\/td>\n",
       "      <td>-0.053177<\/td>\n",
       "      <td>6.748276e-18<\/td>\n",
       "      <td>-4.498851e-18<\/td>\n",
       "      <td>-1.000000e+00<\/td>\n",
       "      <td>1.000000e+00<\/td>\n",
       "    <\/tr>\n",
       "  <\/tbody>\n",
       "<\/table>\n",
       "<\/div>"
      ]
     },
     "metadata":{
      
     },
     "output_type":"display_data"
    }
   ],
   "metadata":{
    "datalore":{
     "node_id":"UA7JgOY1UH6U5zUx6Fv3vJ",
     "type":"CODE",
     "hide_input_from_viewers":true,
     "hide_output_from_viewers":true
    }
   }
  },
  {
   "cell_type":"code",
   "source":[
    "matrix = corr.unstack()\n",
    "matrix = matrix[abs(matrix) >= 0.6]\n",
    "matrix = matrix.to_frame()\n",
    "\n",
    "matrix = matrix.rename(columns = {'level_0':'Variables 1', 'level_1':'Variables 2', 0: 'Correlation'})\n",
    "matrix = matrix[matrix.Correlation != 1]\n",
    "matrix"
   ],
   "execution_count":15,
   "outputs":[
    {
     "data":{
      "text\/html":[
       "<div>\n",
       "<style scoped>\n",
       "    .dataframe tbody tr th:only-of-type {\n",
       "        vertical-align: middle;\n",
       "    }\n",
       "\n",
       "    .dataframe tbody tr th {\n",
       "        vertical-align: top;\n",
       "    }\n",
       "\n",
       "    .dataframe thead th {\n",
       "        text-align: right;\n",
       "    }\n",
       "<\/style>\n",
       "<table border=\"1\" class=\"dataframe\">\n",
       "  <thead>\n",
       "    <tr style=\"text-align: right;\">\n",
       "      <th><\/th>\n",
       "      <th><\/th>\n",
       "      <th>Correlation<\/th>\n",
       "    <\/tr>\n",
       "  <\/thead>\n",
       "  <tbody>\n",
       "    <tr>\n",
       "      <th rowspan=\"2\" valign=\"top\">Really_Get_Drunk<\/th>\n",
       "      <th>Use_Marijuana<\/th>\n",
       "      <td>0.624900<\/td>\n",
       "    <\/tr>\n",
       "    <tr>\n",
       "      <th>Had_Sexual_Relation<\/th>\n",
       "      <td>0.763615<\/td>\n",
       "    <\/tr>\n",
       "    <tr>\n",
       "      <th rowspan=\"2\" valign=\"top\">Use_Marijuana<\/th>\n",
       "      <th>Really_Get_Drunk<\/th>\n",
       "      <td>0.624900<\/td>\n",
       "    <\/tr>\n",
       "    <tr>\n",
       "      <th>Had_Sexual_Relation<\/th>\n",
       "      <td>0.649461<\/td>\n",
       "    <\/tr>\n",
       "    <tr>\n",
       "      <th rowspan=\"2\" valign=\"top\">Had_Sexual_Relation<\/th>\n",
       "      <th>Really_Get_Drunk<\/th>\n",
       "      <td>0.763615<\/td>\n",
       "    <\/tr>\n",
       "    <tr>\n",
       "      <th>Use_Marijuana<\/th>\n",
       "      <td>0.649461<\/td>\n",
       "    <\/tr>\n",
       "    <tr>\n",
       "      <th>Had_Fights<\/th>\n",
       "      <th>Got_Seriously_Injured<\/th>\n",
       "      <td>0.660526<\/td>\n",
       "    <\/tr>\n",
       "    <tr>\n",
       "      <th rowspan=\"2\" valign=\"top\">Bullied<\/th>\n",
       "      <th>Got_Seriously_Injured<\/th>\n",
       "      <td>0.679644<\/td>\n",
       "    <\/tr>\n",
       "    <tr>\n",
       "      <th>Attempted_Suicide<\/th>\n",
       "      <td>0.663891<\/td>\n",
       "    <\/tr>\n",
       "    <tr>\n",
       "      <th rowspan=\"2\" valign=\"top\">Got_Seriously_Injured<\/th>\n",
       "      <th>Had_Fights<\/th>\n",
       "      <td>0.660526<\/td>\n",
       "    <\/tr>\n",
       "    <tr>\n",
       "      <th>Bullied<\/th>\n",
       "      <td>0.679644<\/td>\n",
       "    <\/tr>\n",
       "    <tr>\n",
       "      <th>Attempted_Suicide<\/th>\n",
       "      <th>Bullied<\/th>\n",
       "      <td>0.663891<\/td>\n",
       "    <\/tr>\n",
       "    <tr>\n",
       "      <th>Age_Group_13-15<\/th>\n",
       "      <th>Age_Group_16-17<\/th>\n",
       "      <td>-1.000000<\/td>\n",
       "    <\/tr>\n",
       "    <tr>\n",
       "      <th>Age_Group_16-17<\/th>\n",
       "      <th>Age_Group_13-15<\/th>\n",
       "      <td>-1.000000<\/td>\n",
       "    <\/tr>\n",
       "    <tr>\n",
       "      <th>Sex_Female<\/th>\n",
       "      <th>Sex_Male<\/th>\n",
       "      <td>-1.000000<\/td>\n",
       "    <\/tr>\n",
       "    <tr>\n",
       "      <th>Sex_Male<\/th>\n",
       "      <th>Sex_Female<\/th>\n",
       "      <td>-1.000000<\/td>\n",
       "    <\/tr>\n",
       "  <\/tbody>\n",
       "<\/table>\n",
       "<\/div>"
      ]
     },
     "metadata":{
      
     },
     "output_type":"display_data"
    }
   ],
   "metadata":{
    "datalore":{
     "node_id":"CcOSKwmCOBgF5VI0ZM0Fnb",
     "type":"CODE",
     "hide_input_from_viewers":true,
     "hide_output_from_viewers":true
    }
   }
  },
  {
   "cell_type":"code",
   "source":[
    "\n",
    "X = mentalh[['Year','Currently_Drink_Alcohol','Really_Get_Drunk','Overwieght','Use_Marijuana','Have_Understanding_Parents',\n",
    "             'Missed_Classes_Without_Permssion','Had_Sexual_Relation','Smoke_Cig_Currently','Had_Fights',\n",
    "             'Bullied','Got_Seriously_Injured','No_Close_Friends','Age_Group_16-17','Sex_Female']]\n",
    "\n",
    "X = sm.add_constant(X)\n",
    "\n",
    "from statsmodels.stats.outliers_influence import variance_inflation_factor\n",
    "VIF = pd.DataFrame()\n",
    "VIF[\"feature\"] = X.columns\n",
    "VIF[\"VIF\"] = [variance_inflation_factor(X.values, i)\n",
    "                          for i in range(len(X.columns))]\n",
    "  \n",
    "VIF"
   ],
   "execution_count":16,
   "outputs":[
    {
     "data":{
      "text\/html":[
       "<div>\n",
       "<style scoped>\n",
       "    .dataframe tbody tr th:only-of-type {\n",
       "        vertical-align: middle;\n",
       "    }\n",
       "\n",
       "    .dataframe tbody tr th {\n",
       "        vertical-align: top;\n",
       "    }\n",
       "\n",
       "    .dataframe thead th {\n",
       "        text-align: right;\n",
       "    }\n",
       "<\/style>\n",
       "<table border=\"1\" class=\"dataframe\">\n",
       "  <thead>\n",
       "    <tr style=\"text-align: right;\">\n",
       "      <th><\/th>\n",
       "      <th>feature<\/th>\n",
       "      <th>VIF<\/th>\n",
       "    <\/tr>\n",
       "  <\/thead>\n",
       "  <tbody>\n",
       "    <tr>\n",
       "      <th>0<\/th>\n",
       "      <td>const<\/td>\n",
       "      <td>1.626779e+06<\/td>\n",
       "    <\/tr>\n",
       "    <tr>\n",
       "      <th>1<\/th>\n",
       "      <td>Year<\/td>\n",
       "      <td>1.548303e+00<\/td>\n",
       "    <\/tr>\n",
       "    <tr>\n",
       "      <th>2<\/th>\n",
       "      <td>Currently_Drink_Alcohol<\/td>\n",
       "      <td>1.377429e+00<\/td>\n",
       "    <\/tr>\n",
       "    <tr>\n",
       "      <th>3<\/th>\n",
       "      <td>Really_Get_Drunk<\/td>\n",
       "      <td>5.324765e+00<\/td>\n",
       "    <\/tr>\n",
       "    <tr>\n",
       "      <th>4<\/th>\n",
       "      <td>Overwieght<\/td>\n",
       "      <td>1.683159e+00<\/td>\n",
       "    <\/tr>\n",
       "    <tr>\n",
       "      <th>5<\/th>\n",
       "      <td>Use_Marijuana<\/td>\n",
       "      <td>2.489468e+00<\/td>\n",
       "    <\/tr>\n",
       "    <tr>\n",
       "      <th>6<\/th>\n",
       "      <td>Have_Understanding_Parents<\/td>\n",
       "      <td>1.709862e+00<\/td>\n",
       "    <\/tr>\n",
       "    <tr>\n",
       "      <th>7<\/th>\n",
       "      <td>Missed_Classes_Without_Permssion<\/td>\n",
       "      <td>2.775788e+00<\/td>\n",
       "    <\/tr>\n",
       "    <tr>\n",
       "      <th>8<\/th>\n",
       "      <td>Had_Sexual_Relation<\/td>\n",
       "      <td>6.026972e+00<\/td>\n",
       "    <\/tr>\n",
       "    <tr>\n",
       "      <th>9<\/th>\n",
       "      <td>Smoke_Cig_Currently<\/td>\n",
       "      <td>3.913734e+00<\/td>\n",
       "    <\/tr>\n",
       "    <tr>\n",
       "      <th>10<\/th>\n",
       "      <td>Had_Fights<\/td>\n",
       "      <td>4.004746e+00<\/td>\n",
       "    <\/tr>\n",
       "    <tr>\n",
       "      <th>11<\/th>\n",
       "      <td>Bullied<\/td>\n",
       "      <td>3.172695e+00<\/td>\n",
       "    <\/tr>\n",
       "    <tr>\n",
       "      <th>12<\/th>\n",
       "      <td>Got_Seriously_Injured<\/td>\n",
       "      <td>3.772258e+00<\/td>\n",
       "    <\/tr>\n",
       "    <tr>\n",
       "      <th>13<\/th>\n",
       "      <td>No_Close_Friends<\/td>\n",
       "      <td>1.731414e+00<\/td>\n",
       "    <\/tr>\n",
       "    <tr>\n",
       "      <th>14<\/th>\n",
       "      <td>Age_Group_16-17<\/td>\n",
       "      <td>1.983138e+00<\/td>\n",
       "    <\/tr>\n",
       "    <tr>\n",
       "      <th>15<\/th>\n",
       "      <td>Sex_Female<\/td>\n",
       "      <td>2.894014e+00<\/td>\n",
       "    <\/tr>\n",
       "  <\/tbody>\n",
       "<\/table>\n",
       "<\/div>"
      ]
     },
     "metadata":{
      
     },
     "output_type":"display_data"
    }
   ],
   "metadata":{
    "datalore":{
     "node_id":"xQB4BIg3ZEwt8qZ4dGtTMa",
     "type":"CODE",
     "hide_input_from_viewers":true,
     "hide_output_from_viewers":true
    }
   }
  },
  {
   "cell_type":"code",
   "source":[
    "#Response Variable is Attempted Suicide\n",
    "\n",
    "#Scatterplot\n",
    "sns.relplot(data = mentalh, x='Have_Understanding_Parents', y='Attempted_Suicide', kind='scatter',hue=\"Country\")\n",
    "plt.xlabel(\"Teens w\/ Understanding Parents (Percent)\", fontsize = 10)\n",
    "plt.ylabel(\"Attempted Suicides (Percent)\", fontsize = 10)\n",
    "plt.title(\" Understanding Parents vs Attempted Suicides in Teens\", fontsize = 10) \n",
    "plt.show()\n",
    "\n",
    "\n",
    "mentalh['Have_Understanding_Parents'].corr(mentalh['Attempted_Suicide'])"
   ],
   "execution_count":17,
   "outputs":[
    {
     "data":{
      "image\/png":"[encoded data removed]"
     },
     "metadata":{
      "image\/png":{
       
      }
     },
     "output_type":"display_data"
    },
    {
     "data":{
      "text\/plain":[
       "-0.07772726077086843"
      ]
     },
     "metadata":{
      
     },
     "output_type":"display_data"
    }
   ],
   "metadata":{
    "datalore":{
     "node_id":"lpnuWEDRLhOUI7OoBO2fDs",
     "type":"CODE",
     "hide_input_from_viewers":true,
     "hide_output_from_viewers":true
    }
   }
  },
  {
   "cell_type":"markdown",
   "source":[
    "**Scatterplot Caption:**\n",
    "\n",
    "There may be a bit of a slight linear trend. There is a very slight decrease (negative direction) in the % of attempted suicides as the % of teens with understanding parents increases. This relationship is of weak strength as the correlation is just -.0777. There are two unusual values in Seychelles as the & of attempted suicides is higher than expected."
   ],
   "attachments":{
    
   },
   "metadata":{
    "datalore":{
     "node_id":"sr8XNvYdk3rAJ6D8vqqL2J",
     "type":"MD",
     "hide_input_from_viewers":true,
     "hide_output_from_viewers":true
    }
   }
  },
  {
   "cell_type":"code",
   "source":[
    "#Scatterplot\n",
    "sns.relplot(data=mentalh, x='No_Close_Friends', y='Attempted_Suicide', kind='scatter',hue=\"Country\")\n",
    "plt.xlabel(\"Percent of Teens with No Close Friends\", fontsize= 10)\n",
    "plt.ylabel(\"Percent of Attempted Suicides\")\n",
    "plt.title(\"%Attempted Suicides vs %No Close Friends\", fontsize= 10) \n",
    "plt.show()\n",
    "\n",
    "\n",
    "mentalh['No_Close_Friends'].corr(mentalh['Attempted_Suicide'])"
   ],
   "execution_count":18,
   "outputs":[
    {
     "data":{
      "image\/png":"[encoded data removed]"
     },
     "metadata":{
      "image\/png":{
       
      }
     },
     "output_type":"display_data"
    },
    {
     "data":{
      "text\/plain":[
       "0.4574753222479406"
      ]
     },
     "metadata":{
      
     },
     "output_type":"display_data"
    }
   ],
   "metadata":{
    "datalore":{
     "node_id":"PaUdJfbfdL3DEzVwndgbg5",
     "type":"CODE",
     "hide_input_from_viewers":true,
     "hide_output_from_viewers":true
    }
   }
  },
  {
   "cell_type":"markdown",
   "source":[
    "**Scatterplot Caption:**\n",
    "\n",
    "There may be a linear trend. There is an increase (positive direction) in the % of attempted suicides as the % of teens with no close friends increases. This relationship is of moderate strength and the correlation is .45747. There are no unusual values. "
   ],
   "attachments":{
    
   },
   "metadata":{
    "datalore":{
     "node_id":"WVpjS24GmNZYdZ9QIQK7ET",
     "type":"MD",
     "hide_input_from_viewers":true,
     "hide_output_from_viewers":true
    }
   }
  },
  {
   "cell_type":"markdown",
   "source":[
    "**Week 3:**\n",
    "Identification of appropriate type of model (classification vs. regression), initial passes\n",
    "at multiple regression model fits. Analysis of residuals if using linear regression.\n",
    "\n",
    "**Completed**\n",
    "- Regression as our dependent variable is the difference in mean hourly percent (numerical)\n",
    "- An r2 value of 0.752 shows an average level of correlation\n",
    "- The VIF shows no multicollinearity\n",
    "\n",
    "**Next Steps**\n",
    "- Run backward selection to determine the best predictors, using an alpha value 0.05. \n",
    "- Use LASSO to verify that we have the most important predictors in our dataset.\n",
    "\n",
    "**Completed V2:**\n",
    "- Backward selection has an r2 value of 0.713. Verify with LASSO."
   ],
   "attachments":{
    
   },
   "metadata":{
    "datalore":{
     "node_id":"XoEt3uXXyzmAswDVeOriKG",
     "type":"MD",
     "hide_input_from_viewers":true,
     "hide_output_from_viewers":true
    }
   }
  },
  {
   "cell_type":"code",
   "source":[
    "#Model Type: Regression - OLS\n",
    "Y = mentalh.Attempted_Suicide\n",
    "X1 = mentalh[['Year','Currently_Drink_Alcohol','Really_Get_Drunk','Overwieght','Use_Marijuana','Have_Understanding_Parents',\n",
    "             'Missed_Classes_Without_Permssion','Had_Sexual_Relation','Smoke_Cig_Currently','Had_Fights',\n",
    "             'Bullied','Got_Seriously_Injured','No_Close_Friends','Age_Group_16-17','Sex_Female']]\n",
    "\n",
    "\n",
    "X1 = sm.add_constant(X1)\n",
    "\n",
    "model1 = sm.OLS(Y,X1).fit()\n",
    "model1.summary()"
   ],
   "execution_count":19,
   "outputs":[
    {
     "data":{
      "text\/html":[
       "<table class=\"simpletable\">\n",
       "<caption>OLS Regression Results<\/caption>\n",
       "<tr>\n",
       "  <th>Dep. Variable:<\/th>    <td>Attempted_Suicide<\/td> <th>  R-squared:         <\/th> <td>   0.752<\/td>\n",
       "<\/tr>\n",
       "<tr>\n",
       "  <th>Model:<\/th>                   <td>OLS<\/td>        <th>  Adj. R-squared:    <\/th> <td>   0.707<\/td>\n",
       "<\/tr>\n",
       "<tr>\n",
       "  <th>Method:<\/th>             <td>Least Squares<\/td>   <th>  F-statistic:       <\/th> <td>   16.95<\/td>\n",
       "<\/tr>\n",
       "<tr>\n",
       "  <th>Date:<\/th>             <td>Tue, 23 May 2023<\/td>  <th>  Prob (F-statistic):<\/th> <td>2.10e-19<\/td>\n",
       "<\/tr>\n",
       "<tr>\n",
       "  <th>Time:<\/th>                 <td>00:58:37<\/td>      <th>  Log-Likelihood:    <\/th> <td> -296.93<\/td>\n",
       "<\/tr>\n",
       "<tr>\n",
       "  <th>No. Observations:<\/th>      <td>   100<\/td>       <th>  AIC:               <\/th> <td>   625.9<\/td>\n",
       "<\/tr>\n",
       "<tr>\n",
       "  <th>Df Residuals:<\/th>          <td>    84<\/td>       <th>  BIC:               <\/th> <td>   667.5<\/td>\n",
       "<\/tr>\n",
       "<tr>\n",
       "  <th>Df Model:<\/th>              <td>    15<\/td>       <th>                     <\/th>     <td> <\/td>   \n",
       "<\/tr>\n",
       "<tr>\n",
       "  <th>Covariance Type:<\/th>      <td>nonrobust<\/td>     <th>                     <\/th>     <td> <\/td>   \n",
       "<\/tr>\n",
       "<\/table>\n",
       "<table class=\"simpletable\">\n",
       "<tr>\n",
       "                  <td><\/td>                    <th>coef<\/th>     <th>std err<\/th>      <th>t<\/th>      <th>P>|t|<\/th>  <th>[0.025<\/th>    <th>0.975]<\/th>  \n",
       "<\/tr>\n",
       "<tr>\n",
       "  <th>const<\/th>                            <td> 1742.4926<\/td> <td>  655.917<\/td> <td>    2.657<\/td> <td> 0.009<\/td> <td>  438.130<\/td> <td> 3046.855<\/td>\n",
       "<\/tr>\n",
       "<tr>\n",
       "  <th>Year<\/th>                             <td>   -0.8692<\/td> <td>    0.325<\/td> <td>   -2.672<\/td> <td> 0.009<\/td> <td>   -1.516<\/td> <td>   -0.222<\/td>\n",
       "<\/tr>\n",
       "<tr>\n",
       "  <th>Currently_Drink_Alcohol<\/th>          <td>   -0.0014<\/td> <td>    0.011<\/td> <td>   -0.122<\/td> <td> 0.903<\/td> <td>   -0.023<\/td> <td>    0.021<\/td>\n",
       "<\/tr>\n",
       "<tr>\n",
       "  <th>Really_Get_Drunk<\/th>                 <td>    0.0057<\/td> <td>    0.085<\/td> <td>    0.068<\/td> <td> 0.946<\/td> <td>   -0.163<\/td> <td>    0.174<\/td>\n",
       "<\/tr>\n",
       "<tr>\n",
       "  <th>Overwieght<\/th>                       <td>    0.1562<\/td> <td>    0.042<\/td> <td>    3.738<\/td> <td> 0.000<\/td> <td>    0.073<\/td> <td>    0.239<\/td>\n",
       "<\/tr>\n",
       "<tr>\n",
       "  <th>Use_Marijuana<\/th>                    <td>    0.2927<\/td> <td>    0.095<\/td> <td>    3.085<\/td> <td> 0.003<\/td> <td>    0.104<\/td> <td>    0.481<\/td>\n",
       "<\/tr>\n",
       "<tr>\n",
       "  <th>Have_Understanding_Parents<\/th>       <td>   -0.0522<\/td> <td>    0.058<\/td> <td>   -0.898<\/td> <td> 0.372<\/td> <td>   -0.168<\/td> <td>    0.063<\/td>\n",
       "<\/tr>\n",
       "<tr>\n",
       "  <th>Missed_Classes_Without_Permssion<\/th> <td>    0.0691<\/td> <td>    0.080<\/td> <td>    0.865<\/td> <td> 0.389<\/td> <td>   -0.090<\/td> <td>    0.228<\/td>\n",
       "<\/tr>\n",
       "<tr>\n",
       "  <th>Had_Sexual_Relation<\/th>              <td>    0.1235<\/td> <td>    0.075<\/td> <td>    1.654<\/td> <td> 0.102<\/td> <td>   -0.025<\/td> <td>    0.272<\/td>\n",
       "<\/tr>\n",
       "<tr>\n",
       "  <th>Smoke_Cig_Currently<\/th>              <td>    0.0089<\/td> <td>    0.095<\/td> <td>    0.094<\/td> <td> 0.926<\/td> <td>   -0.179<\/td> <td>    0.197<\/td>\n",
       "<\/tr>\n",
       "<tr>\n",
       "  <th>Had_Fights<\/th>                       <td>   -0.1232<\/td> <td>    0.067<\/td> <td>   -1.851<\/td> <td> 0.068<\/td> <td>   -0.256<\/td> <td>    0.009<\/td>\n",
       "<\/tr>\n",
       "<tr>\n",
       "  <th>Bullied<\/th>                          <td>    0.2825<\/td> <td>    0.064<\/td> <td>    4.397<\/td> <td> 0.000<\/td> <td>    0.155<\/td> <td>    0.410<\/td>\n",
       "<\/tr>\n",
       "<tr>\n",
       "  <th>Got_Seriously_Injured<\/th>            <td>    0.1090<\/td> <td>    0.067<\/td> <td>    1.636<\/td> <td> 0.106<\/td> <td>   -0.024<\/td> <td>    0.241<\/td>\n",
       "<\/tr>\n",
       "<tr>\n",
       "  <th>No_Close_Friends<\/th>                 <td>    0.2938<\/td> <td>    0.152<\/td> <td>    1.933<\/td> <td> 0.057<\/td> <td>   -0.008<\/td> <td>    0.596<\/td>\n",
       "<\/tr>\n",
       "<tr>\n",
       "  <th>Age_Group_16-17<\/th>                  <td>   -1.9232<\/td> <td>    1.467<\/td> <td>   -1.311<\/td> <td> 0.194<\/td> <td>   -4.841<\/td> <td>    0.995<\/td>\n",
       "<\/tr>\n",
       "<tr>\n",
       "  <th>Sex_Female<\/th>                       <td>    5.1820<\/td> <td>    1.750<\/td> <td>    2.962<\/td> <td> 0.004<\/td> <td>    1.703<\/td> <td>    8.661<\/td>\n",
       "<\/tr>\n",
       "<\/table>\n",
       "<table class=\"simpletable\">\n",
       "<tr>\n",
       "  <th>Omnibus:<\/th>       <td> 0.943<\/td> <th>  Durbin-Watson:     <\/th> <td>   1.583<\/td>\n",
       "<\/tr>\n",
       "<tr>\n",
       "  <th>Prob(Omnibus):<\/th> <td> 0.624<\/td> <th>  Jarque-Bera (JB):  <\/th> <td>   0.775<\/td>\n",
       "<\/tr>\n",
       "<tr>\n",
       "  <th>Skew:<\/th>          <td> 0.216<\/td> <th>  Prob(JB):          <\/th> <td>   0.679<\/td>\n",
       "<\/tr>\n",
       "<tr>\n",
       "  <th>Kurtosis:<\/th>      <td> 2.984<\/td> <th>  Cond. No.          <\/th> <td>2.57e+06<\/td>\n",
       "<\/tr>\n",
       "<\/table><br\/><br\/>Notes:<br\/>[1] Standard Errors assume that the covariance matrix of the errors is correctly specified.<br\/>[2] The condition number is large, 2.57e+06. This might indicate that there are<br\/>strong multicollinearity or other numerical problems."
      ]
     },
     "metadata":{
      
     },
     "output_type":"display_data"
    }
   ],
   "metadata":{
    "datalore":{
     "node_id":"LEPkoF6tn5LekBaE5ZkXHj",
     "type":"CODE",
     "hide_input_from_viewers":true,
     "hide_output_from_viewers":true
    }
   }
  },
  {
   "cell_type":"code",
   "source":[
    "df_for_model = model1.fittedvalues.to_frame(name = 'Fitted')\n",
    "df_for_model['Residuals'] = model1.resid\n",
    "\n",
    "sns.relplot(data=df_for_model, x='Fitted', y='Residuals', kind='scatter')\n",
    "plt.xlabel(\"Percent of Teens who Attempted Suicide\")\n",
    "plt.axhline(y=0) \n",
    "plt.ylabel(\"Residual\")\n",
    "plt.title(\"Residuals of Linear Regression Model - Model 1\") \n",
    "plt.show()"
   ],
   "execution_count":22,
   "outputs":[
    {
     "data":{
      "image\/png":"[encoded data removed]"
     },
     "metadata":{
      "image\/png":{
       
      }
     },
     "output_type":"display_data"
    }
   ],
   "metadata":{
    "datalore":{
     "node_id":"MBLDewKXUFEybbcQjsRY1i",
     "type":"CODE",
     "hide_input_from_viewers":true,
     "hide_output_from_viewers":true
    }
   }
  },
  {
   "cell_type":"code",
   "source":[
    "(p9.ggplot(df_for_model, p9.aes(x = 'Residuals')) +\n",
    "p9.geom_histogram(bins = 13) +\n",
    "p9.xlab(\"Residuals\"))"
   ],
   "execution_count":23,
   "outputs":[
    {
     "data":{
      "image\/png":"[encoded data removed]"
     },
     "metadata":{
      "image\/png":{
       
      }
     },
     "output_type":"display_data"
    },
    {
     "data":{
      "text\/plain":[
       "<ggplot: (8759421797286)>"
      ]
     },
     "metadata":{
      
     },
     "output_type":"display_data"
    }
   ],
   "metadata":{
    "datalore":{
     "node_id":"2K0fsIo4Z9P0Wlzm4Kdp3M",
     "type":"CODE",
     "hide_input_from_viewers":true,
     "hide_output_from_viewers":true
    }
   }
  },
  {
   "cell_type":"markdown",
   "source":[
    "**Caption**: This histogram has slight symmetry, but it is has more a left skew than real symmetry. From the scatterplot, we see that the points are less condensed and more randomly scattered, indicating that the distance from the point to the best fitted line is larger than expected. Not a good model."
   ],
   "attachments":{
    
   },
   "metadata":{
    "datalore":{
     "node_id":"GTYrO6KxtAwpRNVjCbqkGJ",
     "type":"MD",
     "hide_input_from_viewers":true,
     "hide_output_from_viewers":true
    }
   }
  },
  {
   "cell_type":"code",
   "source":[
    "#Backwards Model Selction\n",
    "#remove get really drunk\n",
    "Y = mentalh.Attempted_Suicide\n",
    "X2 = mentalh[['Year','Currently_Drink_Alcohol','Overwieght','Use_Marijuana','Have_Understanding_Parents',\n",
    "             'Missed_Classes_Without_Permssion','Had_Sexual_Relation','Smoke_Cig_Currently','Had_Fights',\n",
    "             'Bullied','Got_Seriously_Injured','No_Close_Friends','Age_Group_16-17','Sex_Female']]\n",
    "\n",
    "\n",
    "X2 = sm.add_constant(X2)\n",
    "\n",
    "model2 = sm.OLS(Y,X2).fit()\n",
    "model2.summary()"
   ],
   "execution_count":24,
   "outputs":[
    {
     "data":{
      "text\/html":[
       "<table class=\"simpletable\">\n",
       "<caption>OLS Regression Results<\/caption>\n",
       "<tr>\n",
       "  <th>Dep. Variable:<\/th>    <td>Attempted_Suicide<\/td> <th>  R-squared:         <\/th> <td>   0.752<\/td>\n",
       "<\/tr>\n",
       "<tr>\n",
       "  <th>Model:<\/th>                   <td>OLS<\/td>        <th>  Adj. R-squared:    <\/th> <td>   0.711<\/td>\n",
       "<\/tr>\n",
       "<tr>\n",
       "  <th>Method:<\/th>             <td>Least Squares<\/td>   <th>  F-statistic:       <\/th> <td>   18.38<\/td>\n",
       "<\/tr>\n",
       "<tr>\n",
       "  <th>Date:<\/th>             <td>Tue, 23 May 2023<\/td>  <th>  Prob (F-statistic):<\/th> <td>4.79e-20<\/td>\n",
       "<\/tr>\n",
       "<tr>\n",
       "  <th>Time:<\/th>                 <td>01:00:56<\/td>      <th>  Log-Likelihood:    <\/th> <td> -296.94<\/td>\n",
       "<\/tr>\n",
       "<tr>\n",
       "  <th>No. Observations:<\/th>      <td>   100<\/td>       <th>  AIC:               <\/th> <td>   623.9<\/td>\n",
       "<\/tr>\n",
       "<tr>\n",
       "  <th>Df Residuals:<\/th>          <td>    85<\/td>       <th>  BIC:               <\/th> <td>   662.9<\/td>\n",
       "<\/tr>\n",
       "<tr>\n",
       "  <th>Df Model:<\/th>              <td>    14<\/td>       <th>                     <\/th>     <td> <\/td>   \n",
       "<\/tr>\n",
       "<tr>\n",
       "  <th>Covariance Type:<\/th>      <td>nonrobust<\/td>     <th>                     <\/th>     <td> <\/td>   \n",
       "<\/tr>\n",
       "<\/table>\n",
       "<table class=\"simpletable\">\n",
       "<tr>\n",
       "                  <td><\/td>                    <th>coef<\/th>     <th>std err<\/th>      <th>t<\/th>      <th>P>|t|<\/th>  <th>[0.025<\/th>    <th>0.975]<\/th>  \n",
       "<\/tr>\n",
       "<tr>\n",
       "  <th>const<\/th>                            <td> 1744.5052<\/td> <td>  651.396<\/td> <td>    2.678<\/td> <td> 0.009<\/td> <td>  449.355<\/td> <td> 3039.656<\/td>\n",
       "<\/tr>\n",
       "<tr>\n",
       "  <th>Year<\/th>                             <td>   -0.8702<\/td> <td>    0.323<\/td> <td>   -2.694<\/td> <td> 0.009<\/td> <td>   -1.513<\/td> <td>   -0.228<\/td>\n",
       "<\/tr>\n",
       "<tr>\n",
       "  <th>Currently_Drink_Alcohol<\/th>          <td>   -0.0014<\/td> <td>    0.011<\/td> <td>   -0.125<\/td> <td> 0.900<\/td> <td>   -0.023<\/td> <td>    0.021<\/td>\n",
       "<\/tr>\n",
       "<tr>\n",
       "  <th>Overwieght<\/th>                       <td>    0.1563<\/td> <td>    0.042<\/td> <td>    3.766<\/td> <td> 0.000<\/td> <td>    0.074<\/td> <td>    0.239<\/td>\n",
       "<\/tr>\n",
       "<tr>\n",
       "  <th>Use_Marijuana<\/th>                    <td>    0.2940<\/td> <td>    0.093<\/td> <td>    3.176<\/td> <td> 0.002<\/td> <td>    0.110<\/td> <td>    0.478<\/td>\n",
       "<\/tr>\n",
       "<tr>\n",
       "  <th>Have_Understanding_Parents<\/th>       <td>   -0.0525<\/td> <td>    0.058<\/td> <td>   -0.911<\/td> <td> 0.365<\/td> <td>   -0.167<\/td> <td>    0.062<\/td>\n",
       "<\/tr>\n",
       "<tr>\n",
       "  <th>Missed_Classes_Without_Permssion<\/th> <td>    0.0675<\/td> <td>    0.075<\/td> <td>    0.894<\/td> <td> 0.374<\/td> <td>   -0.083<\/td> <td>    0.218<\/td>\n",
       "<\/tr>\n",
       "<tr>\n",
       "  <th>Had_Sexual_Relation<\/th>              <td>    0.1268<\/td> <td>    0.057<\/td> <td>    2.230<\/td> <td> 0.028<\/td> <td>    0.014<\/td> <td>    0.240<\/td>\n",
       "<\/tr>\n",
       "<tr>\n",
       "  <th>Smoke_Cig_Currently<\/th>              <td>    0.0126<\/td> <td>    0.076<\/td> <td>    0.166<\/td> <td> 0.868<\/td> <td>   -0.138<\/td> <td>    0.164<\/td>\n",
       "<\/tr>\n",
       "<tr>\n",
       "  <th>Had_Fights<\/th>                       <td>   -0.1243<\/td> <td>    0.064<\/td> <td>   -1.935<\/td> <td> 0.056<\/td> <td>   -0.252<\/td> <td>    0.003<\/td>\n",
       "<\/tr>\n",
       "<tr>\n",
       "  <th>Bullied<\/th>                          <td>    0.2831<\/td> <td>    0.063<\/td> <td>    4.475<\/td> <td> 0.000<\/td> <td>    0.157<\/td> <td>    0.409<\/td>\n",
       "<\/tr>\n",
       "<tr>\n",
       "  <th>Got_Seriously_Injured<\/th>            <td>    0.1075<\/td> <td>    0.063<\/td> <td>    1.712<\/td> <td> 0.091<\/td> <td>   -0.017<\/td> <td>    0.232<\/td>\n",
       "<\/tr>\n",
       "<tr>\n",
       "  <th>No_Close_Friends<\/th>                 <td>    0.2942<\/td> <td>    0.151<\/td> <td>    1.949<\/td> <td> 0.055<\/td> <td>   -0.006<\/td> <td>    0.594<\/td>\n",
       "<\/tr>\n",
       "<tr>\n",
       "  <th>Age_Group_16-17<\/th>                  <td>   -1.9202<\/td> <td>    1.458<\/td> <td>   -1.317<\/td> <td> 0.191<\/td> <td>   -4.819<\/td> <td>    0.979<\/td>\n",
       "<\/tr>\n",
       "<tr>\n",
       "  <th>Sex_Female<\/th>                       <td>    5.1858<\/td> <td>    1.739<\/td> <td>    2.983<\/td> <td> 0.004<\/td> <td>    1.729<\/td> <td>    8.642<\/td>\n",
       "<\/tr>\n",
       "<\/table>\n",
       "<table class=\"simpletable\">\n",
       "<tr>\n",
       "  <th>Omnibus:<\/th>       <td> 0.976<\/td> <th>  Durbin-Watson:     <\/th> <td>   1.586<\/td>\n",
       "<\/tr>\n",
       "<tr>\n",
       "  <th>Prob(Omnibus):<\/th> <td> 0.614<\/td> <th>  Jarque-Bera (JB):  <\/th> <td>   0.807<\/td>\n",
       "<\/tr>\n",
       "<tr>\n",
       "  <th>Skew:<\/th>          <td> 0.220<\/td> <th>  Prob(JB):          <\/th> <td>   0.668<\/td>\n",
       "<\/tr>\n",
       "<tr>\n",
       "  <th>Kurtosis:<\/th>      <td> 2.983<\/td> <th>  Cond. No.          <\/th> <td>2.57e+06<\/td>\n",
       "<\/tr>\n",
       "<\/table><br\/><br\/>Notes:<br\/>[1] Standard Errors assume that the covariance matrix of the errors is correctly specified.<br\/>[2] The condition number is large, 2.57e+06. This might indicate that there are<br\/>strong multicollinearity or other numerical problems."
      ]
     },
     "metadata":{
      
     },
     "output_type":"display_data"
    }
   ],
   "metadata":{
    "datalore":{
     "node_id":"3kPcVddkv2PxE72b1zVp7C",
     "type":"CODE",
     "hide_input_from_viewers":true,
     "hide_output_from_viewers":true
    }
   }
  },
  {
   "cell_type":"code",
   "source":[
    "#Backwards Model Selction\n",
    "#remove get really drunk and currently drink alcohol\n",
    "Y = mentalh.Attempted_Suicide\n",
    "X3 = mentalh[['Year','Overwieght','Use_Marijuana','Have_Understanding_Parents',\n",
    "             'Missed_Classes_Without_Permssion','Had_Sexual_Relation','Smoke_Cig_Currently','Had_Fights',\n",
    "             'Bullied','Got_Seriously_Injured','No_Close_Friends','Age_Group_16-17','Sex_Female']]\n",
    "\n",
    "\n",
    "X3 = sm.add_constant(X3)\n",
    "\n",
    "model3 = sm.OLS(Y,X3).fit()\n",
    "model3.summary()"
   ],
   "execution_count":25,
   "outputs":[
    {
     "data":{
      "text\/html":[
       "<table class=\"simpletable\">\n",
       "<caption>OLS Regression Results<\/caption>\n",
       "<tr>\n",
       "  <th>Dep. Variable:<\/th>    <td>Attempted_Suicide<\/td> <th>  R-squared:         <\/th> <td>   0.752<\/td>\n",
       "<\/tr>\n",
       "<tr>\n",
       "  <th>Model:<\/th>                   <td>OLS<\/td>        <th>  Adj. R-squared:    <\/th> <td>   0.714<\/td>\n",
       "<\/tr>\n",
       "<tr>\n",
       "  <th>Method:<\/th>             <td>Least Squares<\/td>   <th>  F-statistic:       <\/th> <td>   20.02<\/td>\n",
       "<\/tr>\n",
       "<tr>\n",
       "  <th>Date:<\/th>             <td>Tue, 23 May 2023<\/td>  <th>  Prob (F-statistic):<\/th> <td>1.05e-20<\/td>\n",
       "<\/tr>\n",
       "<tr>\n",
       "  <th>Time:<\/th>                 <td>01:00:57<\/td>      <th>  Log-Likelihood:    <\/th> <td> -296.94<\/td>\n",
       "<\/tr>\n",
       "<tr>\n",
       "  <th>No. Observations:<\/th>      <td>   100<\/td>       <th>  AIC:               <\/th> <td>   621.9<\/td>\n",
       "<\/tr>\n",
       "<tr>\n",
       "  <th>Df Residuals:<\/th>          <td>    86<\/td>       <th>  BIC:               <\/th> <td>   658.4<\/td>\n",
       "<\/tr>\n",
       "<tr>\n",
       "  <th>Df Model:<\/th>              <td>    13<\/td>       <th>                     <\/th>     <td> <\/td>   \n",
       "<\/tr>\n",
       "<tr>\n",
       "  <th>Covariance Type:<\/th>      <td>nonrobust<\/td>     <th>                     <\/th>     <td> <\/td>   \n",
       "<\/tr>\n",
       "<\/table>\n",
       "<table class=\"simpletable\">\n",
       "<tr>\n",
       "                  <td><\/td>                    <th>coef<\/th>     <th>std err<\/th>      <th>t<\/th>      <th>P>|t|<\/th>  <th>[0.025<\/th>    <th>0.975]<\/th>  \n",
       "<\/tr>\n",
       "<tr>\n",
       "  <th>const<\/th>                            <td> 1756.5847<\/td> <td>  640.540<\/td> <td>    2.742<\/td> <td> 0.007<\/td> <td>  483.234<\/td> <td> 3029.935<\/td>\n",
       "<\/tr>\n",
       "<tr>\n",
       "  <th>Year<\/th>                             <td>   -0.8762<\/td> <td>    0.318<\/td> <td>   -2.759<\/td> <td> 0.007<\/td> <td>   -1.508<\/td> <td>   -0.245<\/td>\n",
       "<\/tr>\n",
       "<tr>\n",
       "  <th>Overwieght<\/th>                       <td>    0.1570<\/td> <td>    0.041<\/td> <td>    3.834<\/td> <td> 0.000<\/td> <td>    0.076<\/td> <td>    0.238<\/td>\n",
       "<\/tr>\n",
       "<tr>\n",
       "  <th>Use_Marijuana<\/th>                    <td>    0.2938<\/td> <td>    0.092<\/td> <td>    3.192<\/td> <td> 0.002<\/td> <td>    0.111<\/td> <td>    0.477<\/td>\n",
       "<\/tr>\n",
       "<tr>\n",
       "  <th>Have_Understanding_Parents<\/th>       <td>   -0.0524<\/td> <td>    0.057<\/td> <td>   -0.916<\/td> <td> 0.362<\/td> <td>   -0.166<\/td> <td>    0.061<\/td>\n",
       "<\/tr>\n",
       "<tr>\n",
       "  <th>Missed_Classes_Without_Permssion<\/th> <td>    0.0676<\/td> <td>    0.075<\/td> <td>    0.901<\/td> <td> 0.370<\/td> <td>   -0.082<\/td> <td>    0.217<\/td>\n",
       "<\/tr>\n",
       "<tr>\n",
       "  <th>Had_Sexual_Relation<\/th>              <td>    0.1241<\/td> <td>    0.052<\/td> <td>    2.376<\/td> <td> 0.020<\/td> <td>    0.020<\/td> <td>    0.228<\/td>\n",
       "<\/tr>\n",
       "<tr>\n",
       "  <th>Smoke_Cig_Currently<\/th>              <td>    0.0118<\/td> <td>    0.075<\/td> <td>    0.157<\/td> <td> 0.876<\/td> <td>   -0.138<\/td> <td>    0.161<\/td>\n",
       "<\/tr>\n",
       "<tr>\n",
       "  <th>Had_Fights<\/th>                       <td>   -0.1246<\/td> <td>    0.064<\/td> <td>   -1.954<\/td> <td> 0.054<\/td> <td>   -0.251<\/td> <td>    0.002<\/td>\n",
       "<\/tr>\n",
       "<tr>\n",
       "  <th>Bullied<\/th>                          <td>    0.2835<\/td> <td>    0.063<\/td> <td>    4.513<\/td> <td> 0.000<\/td> <td>    0.159<\/td> <td>    0.408<\/td>\n",
       "<\/tr>\n",
       "<tr>\n",
       "  <th>Got_Seriously_Injured<\/th>            <td>    0.1087<\/td> <td>    0.062<\/td> <td>    1.762<\/td> <td> 0.082<\/td> <td>   -0.014<\/td> <td>    0.231<\/td>\n",
       "<\/tr>\n",
       "<tr>\n",
       "  <th>No_Close_Friends<\/th>                 <td>    0.2955<\/td> <td>    0.150<\/td> <td>    1.972<\/td> <td> 0.052<\/td> <td>   -0.002<\/td> <td>    0.593<\/td>\n",
       "<\/tr>\n",
       "<tr>\n",
       "  <th>Age_Group_16-17<\/th>                  <td>   -1.8754<\/td> <td>    1.405<\/td> <td>   -1.334<\/td> <td> 0.186<\/td> <td>   -4.669<\/td> <td>    0.918<\/td>\n",
       "<\/tr>\n",
       "<tr>\n",
       "  <th>Sex_Female<\/th>                       <td>    5.1644<\/td> <td>    1.720<\/td> <td>    3.002<\/td> <td> 0.004<\/td> <td>    1.745<\/td> <td>    8.584<\/td>\n",
       "<\/tr>\n",
       "<\/table>\n",
       "<table class=\"simpletable\">\n",
       "<tr>\n",
       "  <th>Omnibus:<\/th>       <td> 1.013<\/td> <th>  Durbin-Watson:     <\/th> <td>   1.587<\/td>\n",
       "<\/tr>\n",
       "<tr>\n",
       "  <th>Prob(Omnibus):<\/th> <td> 0.603<\/td> <th>  Jarque-Bera (JB):  <\/th> <td>   0.835<\/td>\n",
       "<\/tr>\n",
       "<tr>\n",
       "  <th>Skew:<\/th>          <td> 0.224<\/td> <th>  Prob(JB):          <\/th> <td>   0.659<\/td>\n",
       "<\/tr>\n",
       "<tr>\n",
       "  <th>Kurtosis:<\/th>      <td> 2.987<\/td> <th>  Cond. No.          <\/th> <td>2.54e+06<\/td>\n",
       "<\/tr>\n",
       "<\/table><br\/><br\/>Notes:<br\/>[1] Standard Errors assume that the covariance matrix of the errors is correctly specified.<br\/>[2] The condition number is large, 2.54e+06. This might indicate that there are<br\/>strong multicollinearity or other numerical problems."
      ]
     },
     "metadata":{
      
     },
     "output_type":"display_data"
    }
   ],
   "metadata":{
    "datalore":{
     "node_id":"wbWtEWtNubts80IULwQrgt",
     "type":"CODE",
     "hide_input_from_viewers":true,
     "hide_output_from_viewers":true
    }
   }
  },
  {
   "cell_type":"code",
   "source":[
    "#Backwards Model Selction\n",
    "\n",
    "##remove get really drunk, currently drink alcohol, and smoke_cig_currently\n",
    "\n",
    "Y = mentalh.Attempted_Suicide\n",
    "X4 = mentalh[['Year','Overwieght','Use_Marijuana','Have_Understanding_Parents',\n",
    "             'Missed_Classes_Without_Permssion','Had_Sexual_Relation','Had_Fights',\n",
    "             'Bullied','Got_Seriously_Injured','No_Close_Friends','Age_Group_16-17','Sex_Female']]\n",
    "\n",
    "\n",
    "X4 = sm.add_constant(X4)\n",
    "\n",
    "model4 = sm.OLS(Y,X4).fit()\n",
    "model4.summary()"
   ],
   "execution_count":26,
   "outputs":[
    {
     "data":{
      "text\/html":[
       "<table class=\"simpletable\">\n",
       "<caption>OLS Regression Results<\/caption>\n",
       "<tr>\n",
       "  <th>Dep. Variable:<\/th>    <td>Attempted_Suicide<\/td> <th>  R-squared:         <\/th> <td>   0.752<\/td>\n",
       "<\/tr>\n",
       "<tr>\n",
       "  <th>Model:<\/th>                   <td>OLS<\/td>        <th>  Adj. R-squared:    <\/th> <td>   0.717<\/td>\n",
       "<\/tr>\n",
       "<tr>\n",
       "  <th>Method:<\/th>             <td>Least Squares<\/td>   <th>  F-statistic:       <\/th> <td>   21.93<\/td>\n",
       "<\/tr>\n",
       "<tr>\n",
       "  <th>Date:<\/th>             <td>Tue, 23 May 2023<\/td>  <th>  Prob (F-statistic):<\/th> <td>2.21e-21<\/td>\n",
       "<\/tr>\n",
       "<tr>\n",
       "  <th>Time:<\/th>                 <td>01:00:57<\/td>      <th>  Log-Likelihood:    <\/th> <td> -296.96<\/td>\n",
       "<\/tr>\n",
       "<tr>\n",
       "  <th>No. Observations:<\/th>      <td>   100<\/td>       <th>  AIC:               <\/th> <td>   619.9<\/td>\n",
       "<\/tr>\n",
       "<tr>\n",
       "  <th>Df Residuals:<\/th>          <td>    87<\/td>       <th>  BIC:               <\/th> <td>   653.8<\/td>\n",
       "<\/tr>\n",
       "<tr>\n",
       "  <th>Df Model:<\/th>              <td>    12<\/td>       <th>                     <\/th>     <td> <\/td>   \n",
       "<\/tr>\n",
       "<tr>\n",
       "  <th>Covariance Type:<\/th>      <td>nonrobust<\/td>     <th>                     <\/th>     <td> <\/td>   \n",
       "<\/tr>\n",
       "<\/table>\n",
       "<table class=\"simpletable\">\n",
       "<tr>\n",
       "                  <td><\/td>                    <th>coef<\/th>     <th>std err<\/th>      <th>t<\/th>      <th>P>|t|<\/th>  <th>[0.025<\/th>    <th>0.975]<\/th>  \n",
       "<\/tr>\n",
       "<tr>\n",
       "  <th>const<\/th>                            <td> 1774.0970<\/td> <td>  627.188<\/td> <td>    2.829<\/td> <td> 0.006<\/td> <td>  527.493<\/td> <td> 3020.701<\/td>\n",
       "<\/tr>\n",
       "<tr>\n",
       "  <th>Year<\/th>                             <td>   -0.8849<\/td> <td>    0.311<\/td> <td>   -2.845<\/td> <td> 0.006<\/td> <td>   -1.503<\/td> <td>   -0.267<\/td>\n",
       "<\/tr>\n",
       "<tr>\n",
       "  <th>Overwieght<\/th>                       <td>    0.1595<\/td> <td>    0.037<\/td> <td>    4.255<\/td> <td> 0.000<\/td> <td>    0.085<\/td> <td>    0.234<\/td>\n",
       "<\/tr>\n",
       "<tr>\n",
       "  <th>Use_Marijuana<\/th>                    <td>    0.2996<\/td> <td>    0.084<\/td> <td>    3.574<\/td> <td> 0.001<\/td> <td>    0.133<\/td> <td>    0.466<\/td>\n",
       "<\/tr>\n",
       "<tr>\n",
       "  <th>Have_Understanding_Parents<\/th>       <td>   -0.0525<\/td> <td>    0.057<\/td> <td>   -0.921<\/td> <td> 0.360<\/td> <td>   -0.166<\/td> <td>    0.061<\/td>\n",
       "<\/tr>\n",
       "<tr>\n",
       "  <th>Missed_Classes_Without_Permssion<\/th> <td>    0.0700<\/td> <td>    0.073<\/td> <td>    0.959<\/td> <td> 0.340<\/td> <td>   -0.075<\/td> <td>    0.215<\/td>\n",
       "<\/tr>\n",
       "<tr>\n",
       "  <th>Had_Sexual_Relation<\/th>              <td>    0.1227<\/td> <td>    0.051<\/td> <td>    2.397<\/td> <td> 0.019<\/td> <td>    0.021<\/td> <td>    0.224<\/td>\n",
       "<\/tr>\n",
       "<tr>\n",
       "  <th>Had_Fights<\/th>                       <td>   -0.1256<\/td> <td>    0.063<\/td> <td>   -1.990<\/td> <td> 0.050<\/td> <td>   -0.251<\/td> <td>   -0.000<\/td>\n",
       "<\/tr>\n",
       "<tr>\n",
       "  <th>Bullied<\/th>                          <td>    0.2830<\/td> <td>    0.062<\/td> <td>    4.536<\/td> <td> 0.000<\/td> <td>    0.159<\/td> <td>    0.407<\/td>\n",
       "<\/tr>\n",
       "<tr>\n",
       "  <th>Got_Seriously_Injured<\/th>            <td>    0.1110<\/td> <td>    0.060<\/td> <td>    1.858<\/td> <td> 0.067<\/td> <td>   -0.008<\/td> <td>    0.230<\/td>\n",
       "<\/tr>\n",
       "<tr>\n",
       "  <th>No_Close_Friends<\/th>                 <td>    0.2947<\/td> <td>    0.149<\/td> <td>    1.979<\/td> <td> 0.051<\/td> <td>   -0.001<\/td> <td>    0.591<\/td>\n",
       "<\/tr>\n",
       "<tr>\n",
       "  <th>Age_Group_16-17<\/th>                  <td>   -1.8146<\/td> <td>    1.343<\/td> <td>   -1.351<\/td> <td> 0.180<\/td> <td>   -4.485<\/td> <td>    0.855<\/td>\n",
       "<\/tr>\n",
       "<tr>\n",
       "  <th>Sex_Female<\/th>                       <td>    5.0664<\/td> <td>    1.594<\/td> <td>    3.179<\/td> <td> 0.002<\/td> <td>    1.899<\/td> <td>    8.234<\/td>\n",
       "<\/tr>\n",
       "<\/table>\n",
       "<table class=\"simpletable\">\n",
       "<tr>\n",
       "  <th>Omnibus:<\/th>       <td> 1.030<\/td> <th>  Durbin-Watson:     <\/th> <td>   1.599<\/td>\n",
       "<\/tr>\n",
       "<tr>\n",
       "  <th>Prob(Omnibus):<\/th> <td> 0.598<\/td> <th>  Jarque-Bera (JB):  <\/th> <td>   0.848<\/td>\n",
       "<\/tr>\n",
       "<tr>\n",
       "  <th>Skew:<\/th>          <td> 0.225<\/td> <th>  Prob(JB):          <\/th> <td>   0.655<\/td>\n",
       "<\/tr>\n",
       "<tr>\n",
       "  <th>Kurtosis:<\/th>      <td> 2.990<\/td> <th>  Cond. No.          <\/th> <td>2.50e+06<\/td>\n",
       "<\/tr>\n",
       "<\/table><br\/><br\/>Notes:<br\/>[1] Standard Errors assume that the covariance matrix of the errors is correctly specified.<br\/>[2] The condition number is large, 2.5e+06. This might indicate that there are<br\/>strong multicollinearity or other numerical problems."
      ]
     },
     "metadata":{
      
     },
     "output_type":"display_data"
    }
   ],
   "metadata":{
    "datalore":{
     "node_id":"FXKFeX0EAgXUT2m21JJg6U",
     "type":"CODE",
     "hide_input_from_viewers":true,
     "hide_output_from_viewers":true
    }
   }
  },
  {
   "cell_type":"code",
   "source":[
    "#Backwards Model Selction\n",
    "\n",
    "##remove get really drunk, currently drink alcohol, and, understanding parents, smoke_cig_currently\n",
    "\n",
    "Y = mentalh.Attempted_Suicide\n",
    "X5 = mentalh[['Year','Overwieght','Use_Marijuana',\n",
    "             'Missed_Classes_Without_Permssion','Had_Sexual_Relation','Had_Fights',\n",
    "             'Bullied','Got_Seriously_Injured','No_Close_Friends','Age_Group_16-17','Sex_Female']]\n",
    "\n",
    "\n",
    "X5 = sm.add_constant(X5)\n",
    "\n",
    "model5 = sm.OLS(Y,X5).fit()\n",
    "model5.summary()"
   ],
   "execution_count":27,
   "outputs":[
    {
     "data":{
      "text\/html":[
       "<table class=\"simpletable\">\n",
       "<caption>OLS Regression Results<\/caption>\n",
       "<tr>\n",
       "  <th>Dep. Variable:<\/th>    <td>Attempted_Suicide<\/td> <th>  R-squared:         <\/th> <td>   0.749<\/td>\n",
       "<\/tr>\n",
       "<tr>\n",
       "  <th>Model:<\/th>                   <td>OLS<\/td>        <th>  Adj. R-squared:    <\/th> <td>   0.718<\/td>\n",
       "<\/tr>\n",
       "<tr>\n",
       "  <th>Method:<\/th>             <td>Least Squares<\/td>   <th>  F-statistic:       <\/th> <td>   23.89<\/td>\n",
       "<\/tr>\n",
       "<tr>\n",
       "  <th>Date:<\/th>             <td>Tue, 23 May 2023<\/td>  <th>  Prob (F-statistic):<\/th> <td>6.58e-22<\/td>\n",
       "<\/tr>\n",
       "<tr>\n",
       "  <th>Time:<\/th>                 <td>01:00:57<\/td>      <th>  Log-Likelihood:    <\/th> <td> -297.44<\/td>\n",
       "<\/tr>\n",
       "<tr>\n",
       "  <th>No. Observations:<\/th>      <td>   100<\/td>       <th>  AIC:               <\/th> <td>   618.9<\/td>\n",
       "<\/tr>\n",
       "<tr>\n",
       "  <th>Df Residuals:<\/th>          <td>    88<\/td>       <th>  BIC:               <\/th> <td>   650.2<\/td>\n",
       "<\/tr>\n",
       "<tr>\n",
       "  <th>Df Model:<\/th>              <td>    11<\/td>       <th>                     <\/th>     <td> <\/td>   \n",
       "<\/tr>\n",
       "<tr>\n",
       "  <th>Covariance Type:<\/th>      <td>nonrobust<\/td>     <th>                     <\/th>     <td> <\/td>   \n",
       "<\/tr>\n",
       "<\/table>\n",
       "<table class=\"simpletable\">\n",
       "<tr>\n",
       "                  <td><\/td>                    <th>coef<\/th>     <th>std err<\/th>      <th>t<\/th>      <th>P>|t|<\/th>  <th>[0.025<\/th>    <th>0.975]<\/th>  \n",
       "<\/tr>\n",
       "<tr>\n",
       "  <th>const<\/th>                            <td> 1709.4385<\/td> <td>  622.710<\/td> <td>    2.745<\/td> <td> 0.007<\/td> <td>  471.932<\/td> <td> 2946.945<\/td>\n",
       "<\/tr>\n",
       "<tr>\n",
       "  <th>Year<\/th>                             <td>   -0.8542<\/td> <td>    0.309<\/td> <td>   -2.765<\/td> <td> 0.007<\/td> <td>   -1.468<\/td> <td>   -0.240<\/td>\n",
       "<\/tr>\n",
       "<tr>\n",
       "  <th>Overwieght<\/th>                       <td>    0.1550<\/td> <td>    0.037<\/td> <td>    4.174<\/td> <td> 0.000<\/td> <td>    0.081<\/td> <td>    0.229<\/td>\n",
       "<\/tr>\n",
       "<tr>\n",
       "  <th>Use_Marijuana<\/th>                    <td>    0.2852<\/td> <td>    0.082<\/td> <td>    3.466<\/td> <td> 0.001<\/td> <td>    0.122<\/td> <td>    0.449<\/td>\n",
       "<\/tr>\n",
       "<tr>\n",
       "  <th>Missed_Classes_Without_Permssion<\/th> <td>    0.1092<\/td> <td>    0.059<\/td> <td>    1.842<\/td> <td> 0.069<\/td> <td>   -0.009<\/td> <td>    0.227<\/td>\n",
       "<\/tr>\n",
       "<tr>\n",
       "  <th>Had_Sexual_Relation<\/th>              <td>    0.1200<\/td> <td>    0.051<\/td> <td>    2.350<\/td> <td> 0.021<\/td> <td>    0.019<\/td> <td>    0.222<\/td>\n",
       "<\/tr>\n",
       "<tr>\n",
       "  <th>Had_Fights<\/th>                       <td>   -0.1302<\/td> <td>    0.063<\/td> <td>   -2.071<\/td> <td> 0.041<\/td> <td>   -0.255<\/td> <td>   -0.005<\/td>\n",
       "<\/tr>\n",
       "<tr>\n",
       "  <th>Bullied<\/th>                          <td>    0.2644<\/td> <td>    0.059<\/td> <td>    4.483<\/td> <td> 0.000<\/td> <td>    0.147<\/td> <td>    0.382<\/td>\n",
       "<\/tr>\n",
       "<tr>\n",
       "  <th>Got_Seriously_Injured<\/th>            <td>    0.1284<\/td> <td>    0.057<\/td> <td>    2.269<\/td> <td> 0.026<\/td> <td>    0.016<\/td> <td>    0.241<\/td>\n",
       "<\/tr>\n",
       "<tr>\n",
       "  <th>No_Close_Friends<\/th>                 <td>    0.3085<\/td> <td>    0.148<\/td> <td>    2.084<\/td> <td> 0.040<\/td> <td>    0.014<\/td> <td>    0.603<\/td>\n",
       "<\/tr>\n",
       "<tr>\n",
       "  <th>Age_Group_16-17<\/th>                  <td>   -2.0504<\/td> <td>    1.318<\/td> <td>   -1.556<\/td> <td> 0.123<\/td> <td>   -4.669<\/td> <td>    0.568<\/td>\n",
       "<\/tr>\n",
       "<tr>\n",
       "  <th>Sex_Female<\/th>                       <td>    5.2403<\/td> <td>    1.581<\/td> <td>    3.315<\/td> <td> 0.001<\/td> <td>    2.098<\/td> <td>    8.382<\/td>\n",
       "<\/tr>\n",
       "<\/table>\n",
       "<table class=\"simpletable\">\n",
       "<tr>\n",
       "  <th>Omnibus:<\/th>       <td> 1.287<\/td> <th>  Durbin-Watson:     <\/th> <td>   1.589<\/td>\n",
       "<\/tr>\n",
       "<tr>\n",
       "  <th>Prob(Omnibus):<\/th> <td> 0.526<\/td> <th>  Jarque-Bera (JB):  <\/th> <td>   1.219<\/td>\n",
       "<\/tr>\n",
       "<tr>\n",
       "  <th>Skew:<\/th>          <td> 0.264<\/td> <th>  Prob(JB):          <\/th> <td>   0.544<\/td>\n",
       "<\/tr>\n",
       "<tr>\n",
       "  <th>Kurtosis:<\/th>      <td> 2.886<\/td> <th>  Cond. No.          <\/th> <td>2.49e+06<\/td>\n",
       "<\/tr>\n",
       "<\/table><br\/><br\/>Notes:<br\/>[1] Standard Errors assume that the covariance matrix of the errors is correctly specified.<br\/>[2] The condition number is large, 2.49e+06. This might indicate that there are<br\/>strong multicollinearity or other numerical problems."
      ]
     },
     "metadata":{
      
     },
     "output_type":"display_data"
    }
   ],
   "metadata":{
    "datalore":{
     "node_id":"SdyOCk6pWD3UmByQ4tXMta",
     "type":"CODE",
     "hide_input_from_viewers":true,
     "hide_output_from_viewers":true
    }
   }
  },
  {
   "cell_type":"code",
   "source":[
    "#Backwards Model Selction\n",
    "\n",
    "##remove get really drunk, currently drink alcohol, and, understanding parents, age group 16-17, smoke_cig_currently\n",
    "\n",
    "Y = mentalh.Attempted_Suicide\n",
    "X6 = mentalh[['Year','Overwieght','Use_Marijuana',\n",
    "             'Missed_Classes_Without_Permssion','Had_Sexual_Relation','Had_Fights',\n",
    "             'Bullied','Got_Seriously_Injured','No_Close_Friends','Sex_Female']]\n",
    "\n",
    "\n",
    "X6 = sm.add_constant(X6)\n",
    "\n",
    "model6 = sm.OLS(Y,X6).fit()\n",
    "model6.summary()"
   ],
   "execution_count":28,
   "outputs":[
    {
     "data":{
      "text\/html":[
       "<table class=\"simpletable\">\n",
       "<caption>OLS Regression Results<\/caption>\n",
       "<tr>\n",
       "  <th>Dep. Variable:<\/th>    <td>Attempted_Suicide<\/td> <th>  R-squared:         <\/th> <td>   0.742<\/td>\n",
       "<\/tr>\n",
       "<tr>\n",
       "  <th>Model:<\/th>                   <td>OLS<\/td>        <th>  Adj. R-squared:    <\/th> <td>   0.713<\/td>\n",
       "<\/tr>\n",
       "<tr>\n",
       "  <th>Method:<\/th>             <td>Least Squares<\/td>   <th>  F-statistic:       <\/th> <td>   25.63<\/td>\n",
       "<\/tr>\n",
       "<tr>\n",
       "  <th>Date:<\/th>             <td>Tue, 23 May 2023<\/td>  <th>  Prob (F-statistic):<\/th> <td>3.99e-22<\/td>\n",
       "<\/tr>\n",
       "<tr>\n",
       "  <th>Time:<\/th>                 <td>01:00:57<\/td>      <th>  Log-Likelihood:    <\/th> <td> -298.80<\/td>\n",
       "<\/tr>\n",
       "<tr>\n",
       "  <th>No. Observations:<\/th>      <td>   100<\/td>       <th>  AIC:               <\/th> <td>   619.6<\/td>\n",
       "<\/tr>\n",
       "<tr>\n",
       "  <th>Df Residuals:<\/th>          <td>    89<\/td>       <th>  BIC:               <\/th> <td>   648.3<\/td>\n",
       "<\/tr>\n",
       "<tr>\n",
       "  <th>Df Model:<\/th>              <td>    10<\/td>       <th>                     <\/th>     <td> <\/td>   \n",
       "<\/tr>\n",
       "<tr>\n",
       "  <th>Covariance Type:<\/th>      <td>nonrobust<\/td>     <th>                     <\/th>     <td> <\/td>   \n",
       "<\/tr>\n",
       "<\/table>\n",
       "<table class=\"simpletable\">\n",
       "<tr>\n",
       "                  <td><\/td>                    <th>coef<\/th>     <th>std err<\/th>      <th>t<\/th>      <th>P>|t|<\/th>  <th>[0.025<\/th>    <th>0.975]<\/th>  \n",
       "<\/tr>\n",
       "<tr>\n",
       "  <th>const<\/th>                            <td> 1895.6608<\/td> <td>  615.965<\/td> <td>    3.078<\/td> <td> 0.003<\/td> <td>  671.752<\/td> <td> 3119.570<\/td>\n",
       "<\/tr>\n",
       "<tr>\n",
       "  <th>Year<\/th>                             <td>   -0.9468<\/td> <td>    0.306<\/td> <td>   -3.098<\/td> <td> 0.003<\/td> <td>   -1.554<\/td> <td>   -0.340<\/td>\n",
       "<\/tr>\n",
       "<tr>\n",
       "  <th>Overwieght<\/th>                       <td>    0.1676<\/td> <td>    0.037<\/td> <td>    4.591<\/td> <td> 0.000<\/td> <td>    0.095<\/td> <td>    0.240<\/td>\n",
       "<\/tr>\n",
       "<tr>\n",
       "  <th>Use_Marijuana<\/th>                    <td>    0.2937<\/td> <td>    0.083<\/td> <td>    3.549<\/td> <td> 0.001<\/td> <td>    0.129<\/td> <td>    0.458<\/td>\n",
       "<\/tr>\n",
       "<tr>\n",
       "  <th>Missed_Classes_Without_Permssion<\/th> <td>    0.0765<\/td> <td>    0.056<\/td> <td>    1.369<\/td> <td> 0.174<\/td> <td>   -0.035<\/td> <td>    0.188<\/td>\n",
       "<\/tr>\n",
       "<tr>\n",
       "  <th>Had_Sexual_Relation<\/th>              <td>    0.0932<\/td> <td>    0.048<\/td> <td>    1.923<\/td> <td> 0.058<\/td> <td>   -0.003<\/td> <td>    0.189<\/td>\n",
       "<\/tr>\n",
       "<tr>\n",
       "  <th>Had_Fights<\/th>                       <td>   -0.1164<\/td> <td>    0.063<\/td> <td>   -1.856<\/td> <td> 0.067<\/td> <td>   -0.241<\/td> <td>    0.008<\/td>\n",
       "<\/tr>\n",
       "<tr>\n",
       "  <th>Bullied<\/th>                          <td>    0.2897<\/td> <td>    0.057<\/td> <td>    5.070<\/td> <td> 0.000<\/td> <td>    0.176<\/td> <td>    0.403<\/td>\n",
       "<\/tr>\n",
       "<tr>\n",
       "  <th>Got_Seriously_Injured<\/th>            <td>    0.1235<\/td> <td>    0.057<\/td> <td>    2.169<\/td> <td> 0.033<\/td> <td>    0.010<\/td> <td>    0.237<\/td>\n",
       "<\/tr>\n",
       "<tr>\n",
       "  <th>No_Close_Friends<\/th>                 <td>    0.3133<\/td> <td>    0.149<\/td> <td>    2.101<\/td> <td> 0.038<\/td> <td>    0.017<\/td> <td>    0.610<\/td>\n",
       "<\/tr>\n",
       "<tr>\n",
       "  <th>Sex_Female<\/th>                       <td>    4.8991<\/td> <td>    1.578<\/td> <td>    3.104<\/td> <td> 0.003<\/td> <td>    1.763<\/td> <td>    8.035<\/td>\n",
       "<\/tr>\n",
       "<\/table>\n",
       "<table class=\"simpletable\">\n",
       "<tr>\n",
       "  <th>Omnibus:<\/th>       <td> 1.647<\/td> <th>  Durbin-Watson:     <\/th> <td>   1.530<\/td>\n",
       "<\/tr>\n",
       "<tr>\n",
       "  <th>Prob(Omnibus):<\/th> <td> 0.439<\/td> <th>  Jarque-Bera (JB):  <\/th> <td>   1.351<\/td>\n",
       "<\/tr>\n",
       "<tr>\n",
       "  <th>Skew:<\/th>          <td> 0.284<\/td> <th>  Prob(JB):          <\/th> <td>   0.509<\/td>\n",
       "<\/tr>\n",
       "<tr>\n",
       "  <th>Kurtosis:<\/th>      <td> 3.044<\/td> <th>  Cond. No.          <\/th> <td>2.44e+06<\/td>\n",
       "<\/tr>\n",
       "<\/table><br\/><br\/>Notes:<br\/>[1] Standard Errors assume that the covariance matrix of the errors is correctly specified.<br\/>[2] The condition number is large, 2.44e+06. This might indicate that there are<br\/>strong multicollinearity or other numerical problems."
      ]
     },
     "metadata":{
      
     },
     "output_type":"display_data"
    }
   ],
   "metadata":{
    "datalore":{
     "node_id":"fAojlL34mR1EDUGT2Tql4Y",
     "type":"CODE",
     "hide_input_from_viewers":true,
     "hide_output_from_viewers":true
    }
   }
  },
  {
   "cell_type":"code",
   "source":[
    "\n",
    "#Backwards Model Selction\n",
    "\n",
    "#remove get really drunk, currently drink alcohol, and, understanding parents, age group 16-17, missed classes, smoke_cig_currently\n",
    "\n",
    "Y = mentalh.Attempted_Suicide\n",
    "X7 = mentalh[['Year','Overwieght','Use_Marijuana','Had_Sexual_Relation','Had_Fights',\n",
    "             'Bullied','Got_Seriously_Injured','No_Close_Friends','Sex_Female']]\n",
    "\n",
    "\n",
    "X7 = sm.add_constant(X7)\n",
    "\n",
    "model7 = sm.OLS(Y,X7).fit()\n",
    "model7.summary()"
   ],
   "execution_count":29,
   "outputs":[
    {
     "data":{
      "text\/html":[
       "<table class=\"simpletable\">\n",
       "<caption>OLS Regression Results<\/caption>\n",
       "<tr>\n",
       "  <th>Dep. Variable:<\/th>    <td>Attempted_Suicide<\/td> <th>  R-squared:         <\/th> <td>   0.737<\/td>\n",
       "<\/tr>\n",
       "<tr>\n",
       "  <th>Model:<\/th>                   <td>OLS<\/td>        <th>  Adj. R-squared:    <\/th> <td>   0.711<\/td>\n",
       "<\/tr>\n",
       "<tr>\n",
       "  <th>Method:<\/th>             <td>Least Squares<\/td>   <th>  F-statistic:       <\/th> <td>   28.00<\/td>\n",
       "<\/tr>\n",
       "<tr>\n",
       "  <th>Date:<\/th>             <td>Tue, 23 May 2023<\/td>  <th>  Prob (F-statistic):<\/th> <td>1.79e-22<\/td>\n",
       "<\/tr>\n",
       "<tr>\n",
       "  <th>Time:<\/th>                 <td>01:00:58<\/td>      <th>  Log-Likelihood:    <\/th> <td> -299.84<\/td>\n",
       "<\/tr>\n",
       "<tr>\n",
       "  <th>No. Observations:<\/th>      <td>   100<\/td>       <th>  AIC:               <\/th> <td>   619.7<\/td>\n",
       "<\/tr>\n",
       "<tr>\n",
       "  <th>Df Residuals:<\/th>          <td>    90<\/td>       <th>  BIC:               <\/th> <td>   645.7<\/td>\n",
       "<\/tr>\n",
       "<tr>\n",
       "  <th>Df Model:<\/th>              <td>     9<\/td>       <th>                     <\/th>     <td> <\/td>   \n",
       "<\/tr>\n",
       "<tr>\n",
       "  <th>Covariance Type:<\/th>      <td>nonrobust<\/td>     <th>                     <\/th>     <td> <\/td>   \n",
       "<\/tr>\n",
       "<\/table>\n",
       "<table class=\"simpletable\">\n",
       "<tr>\n",
       "            <td><\/td>               <th>coef<\/th>     <th>std err<\/th>      <th>t<\/th>      <th>P>|t|<\/th>  <th>[0.025<\/th>    <th>0.975]<\/th>  \n",
       "<\/tr>\n",
       "<tr>\n",
       "  <th>const<\/th>                 <td> 2018.1135<\/td> <td>  612.390<\/td> <td>    3.295<\/td> <td> 0.001<\/td> <td>  801.493<\/td> <td> 3234.734<\/td>\n",
       "<\/tr>\n",
       "<tr>\n",
       "  <th>Year<\/th>                  <td>   -1.0068<\/td> <td>    0.304<\/td> <td>   -3.313<\/td> <td> 0.001<\/td> <td>   -1.611<\/td> <td>   -0.403<\/td>\n",
       "<\/tr>\n",
       "<tr>\n",
       "  <th>Overwieght<\/th>            <td>    0.1731<\/td> <td>    0.036<\/td> <td>    4.748<\/td> <td> 0.000<\/td> <td>    0.101<\/td> <td>    0.246<\/td>\n",
       "<\/tr>\n",
       "<tr>\n",
       "  <th>Use_Marijuana<\/th>         <td>    0.3035<\/td> <td>    0.083<\/td> <td>    3.663<\/td> <td> 0.000<\/td> <td>    0.139<\/td> <td>    0.468<\/td>\n",
       "<\/tr>\n",
       "<tr>\n",
       "  <th>Had_Sexual_Relation<\/th>   <td>    0.0975<\/td> <td>    0.049<\/td> <td>    2.007<\/td> <td> 0.048<\/td> <td>    0.001<\/td> <td>    0.194<\/td>\n",
       "<\/tr>\n",
       "<tr>\n",
       "  <th>Had_Fights<\/th>            <td>   -0.1139<\/td> <td>    0.063<\/td> <td>   -1.808<\/td> <td> 0.074<\/td> <td>   -0.239<\/td> <td>    0.011<\/td>\n",
       "<\/tr>\n",
       "<tr>\n",
       "  <th>Bullied<\/th>               <td>    0.3024<\/td> <td>    0.057<\/td> <td>    5.339<\/td> <td> 0.000<\/td> <td>    0.190<\/td> <td>    0.415<\/td>\n",
       "<\/tr>\n",
       "<tr>\n",
       "  <th>Got_Seriously_Injured<\/th> <td>    0.1282<\/td> <td>    0.057<\/td> <td>    2.245<\/td> <td> 0.027<\/td> <td>    0.015<\/td> <td>    0.242<\/td>\n",
       "<\/tr>\n",
       "<tr>\n",
       "  <th>No_Close_Friends<\/th>      <td>    0.2935<\/td> <td>    0.149<\/td> <td>    1.967<\/td> <td> 0.052<\/td> <td>   -0.003<\/td> <td>    0.590<\/td>\n",
       "<\/tr>\n",
       "<tr>\n",
       "  <th>Sex_Female<\/th>            <td>    4.5939<\/td> <td>    1.570<\/td> <td>    2.926<\/td> <td> 0.004<\/td> <td>    1.475<\/td> <td>    7.713<\/td>\n",
       "<\/tr>\n",
       "<\/table>\n",
       "<table class=\"simpletable\">\n",
       "<tr>\n",
       "  <th>Omnibus:<\/th>       <td> 1.963<\/td> <th>  Durbin-Watson:     <\/th> <td>   1.463<\/td>\n",
       "<\/tr>\n",
       "<tr>\n",
       "  <th>Prob(Omnibus):<\/th> <td> 0.375<\/td> <th>  Jarque-Bera (JB):  <\/th> <td>   1.581<\/td>\n",
       "<\/tr>\n",
       "<tr>\n",
       "  <th>Skew:<\/th>          <td> 0.304<\/td> <th>  Prob(JB):          <\/th> <td>   0.454<\/td>\n",
       "<\/tr>\n",
       "<tr>\n",
       "  <th>Kurtosis:<\/th>      <td> 3.097<\/td> <th>  Cond. No.          <\/th> <td>2.41e+06<\/td>\n",
       "<\/tr>\n",
       "<\/table><br\/><br\/>Notes:<br\/>[1] Standard Errors assume that the covariance matrix of the errors is correctly specified.<br\/>[2] The condition number is large, 2.41e+06. This might indicate that there are<br\/>strong multicollinearity or other numerical problems."
      ]
     },
     "metadata":{
      
     },
     "output_type":"display_data"
    }
   ],
   "metadata":{
    "datalore":{
     "node_id":"AoLPPs670AalwAOyCIu6ts",
     "type":"CODE",
     "hide_input_from_viewers":true,
     "hide_output_from_viewers":true
    }
   }
  },
  {
   "cell_type":"code",
   "source":[
    "#Backwards Model Selction\n",
    "\n",
    "#remove get really drunk, currently drink alcohol, and, understanding parents, age group 16-17, missed classes, fights, smoke_cig_currently\n",
    "\n",
    "Y = mentalh.Attempted_Suicide\n",
    "X8 = mentalh[['Year','Overwieght','Use_Marijuana','Had_Sexual_Relation',\n",
    "             'Bullied','Got_Seriously_Injured','No_Close_Friends','Sex_Female']]\n",
    "\n",
    "\n",
    "X8 = sm.add_constant(X8)\n",
    "\n",
    "model8 = sm.OLS(Y,X8).fit()\n",
    "model8.summary()"
   ],
   "execution_count":30,
   "outputs":[
    {
     "data":{
      "text\/html":[
       "<table class=\"simpletable\">\n",
       "<caption>OLS Regression Results<\/caption>\n",
       "<tr>\n",
       "  <th>Dep. Variable:<\/th>    <td>Attempted_Suicide<\/td> <th>  R-squared:         <\/th> <td>   0.727<\/td>\n",
       "<\/tr>\n",
       "<tr>\n",
       "  <th>Model:<\/th>                   <td>OLS<\/td>        <th>  Adj. R-squared:    <\/th> <td>   0.703<\/td>\n",
       "<\/tr>\n",
       "<tr>\n",
       "  <th>Method:<\/th>             <td>Least Squares<\/td>   <th>  F-statistic:       <\/th> <td>   30.33<\/td>\n",
       "<\/tr>\n",
       "<tr>\n",
       "  <th>Date:<\/th>             <td>Tue, 23 May 2023<\/td>  <th>  Prob (F-statistic):<\/th> <td>1.49e-22<\/td>\n",
       "<\/tr>\n",
       "<tr>\n",
       "  <th>Time:<\/th>                 <td>01:00:58<\/td>      <th>  Log-Likelihood:    <\/th> <td> -301.63<\/td>\n",
       "<\/tr>\n",
       "<tr>\n",
       "  <th>No. Observations:<\/th>      <td>   100<\/td>       <th>  AIC:               <\/th> <td>   621.3<\/td>\n",
       "<\/tr>\n",
       "<tr>\n",
       "  <th>Df Residuals:<\/th>          <td>    91<\/td>       <th>  BIC:               <\/th> <td>   644.7<\/td>\n",
       "<\/tr>\n",
       "<tr>\n",
       "  <th>Df Model:<\/th>              <td>     8<\/td>       <th>                     <\/th>     <td> <\/td>   \n",
       "<\/tr>\n",
       "<tr>\n",
       "  <th>Covariance Type:<\/th>      <td>nonrobust<\/td>     <th>                     <\/th>     <td> <\/td>   \n",
       "<\/tr>\n",
       "<\/table>\n",
       "<table class=\"simpletable\">\n",
       "<tr>\n",
       "            <td><\/td>               <th>coef<\/th>     <th>std err<\/th>      <th>t<\/th>      <th>P>|t|<\/th>  <th>[0.025<\/th>    <th>0.975]<\/th>  \n",
       "<\/tr>\n",
       "<tr>\n",
       "  <th>const<\/th>                 <td> 1681.2125<\/td> <td>  590.559<\/td> <td>    2.847<\/td> <td> 0.005<\/td> <td>  508.139<\/td> <td> 2854.286<\/td>\n",
       "<\/tr>\n",
       "<tr>\n",
       "  <th>Year<\/th>                  <td>   -0.8403<\/td> <td>    0.293<\/td> <td>   -2.866<\/td> <td> 0.005<\/td> <td>   -1.423<\/td> <td>   -0.258<\/td>\n",
       "<\/tr>\n",
       "<tr>\n",
       "  <th>Overwieght<\/th>            <td>    0.1442<\/td> <td>    0.033<\/td> <td>    4.347<\/td> <td> 0.000<\/td> <td>    0.078<\/td> <td>    0.210<\/td>\n",
       "<\/tr>\n",
       "<tr>\n",
       "  <th>Use_Marijuana<\/th>         <td>    0.2666<\/td> <td>    0.081<\/td> <td>    3.280<\/td> <td> 0.001<\/td> <td>    0.105<\/td> <td>    0.428<\/td>\n",
       "<\/tr>\n",
       "<tr>\n",
       "  <th>Had_Sexual_Relation<\/th>   <td>    0.1254<\/td> <td>    0.047<\/td> <td>    2.689<\/td> <td> 0.009<\/td> <td>    0.033<\/td> <td>    0.218<\/td>\n",
       "<\/tr>\n",
       "<tr>\n",
       "  <th>Bullied<\/th>               <td>    0.2842<\/td> <td>    0.056<\/td> <td>    5.036<\/td> <td> 0.000<\/td> <td>    0.172<\/td> <td>    0.396<\/td>\n",
       "<\/tr>\n",
       "<tr>\n",
       "  <th>Got_Seriously_Injured<\/th> <td>    0.0868<\/td> <td>    0.053<\/td> <td>    1.638<\/td> <td> 0.105<\/td> <td>   -0.018<\/td> <td>    0.192<\/td>\n",
       "<\/tr>\n",
       "<tr>\n",
       "  <th>No_Close_Friends<\/th>      <td>    0.2207<\/td> <td>    0.145<\/td> <td>    1.518<\/td> <td> 0.132<\/td> <td>   -0.068<\/td> <td>    0.510<\/td>\n",
       "<\/tr>\n",
       "<tr>\n",
       "  <th>Sex_Female<\/th>            <td>    6.3381<\/td> <td>    1.254<\/td> <td>    5.056<\/td> <td> 0.000<\/td> <td>    3.848<\/td> <td>    8.828<\/td>\n",
       "<\/tr>\n",
       "<\/table>\n",
       "<table class=\"simpletable\">\n",
       "<tr>\n",
       "  <th>Omnibus:<\/th>       <td> 2.681<\/td> <th>  Durbin-Watson:     <\/th> <td>   1.496<\/td>\n",
       "<\/tr>\n",
       "<tr>\n",
       "  <th>Prob(Omnibus):<\/th> <td> 0.262<\/td> <th>  Jarque-Bera (JB):  <\/th> <td>   2.044<\/td>\n",
       "<\/tr>\n",
       "<tr>\n",
       "  <th>Skew:<\/th>          <td> 0.285<\/td> <th>  Prob(JB):          <\/th> <td>   0.360<\/td>\n",
       "<\/tr>\n",
       "<tr>\n",
       "  <th>Kurtosis:<\/th>      <td> 3.408<\/td> <th>  Cond. No.          <\/th> <td>2.30e+06<\/td>\n",
       "<\/tr>\n",
       "<\/table><br\/><br\/>Notes:<br\/>[1] Standard Errors assume that the covariance matrix of the errors is correctly specified.<br\/>[2] The condition number is large, 2.3e+06. This might indicate that there are<br\/>strong multicollinearity or other numerical problems."
      ]
     },
     "metadata":{
      
     },
     "output_type":"display_data"
    }
   ],
   "metadata":{
    "datalore":{
     "node_id":"j0PalV4qRWJiAFUsWzFf4e",
     "type":"CODE",
     "hide_input_from_viewers":true,
     "hide_output_from_viewers":true
    }
   }
  },
  {
   "cell_type":"code",
   "source":[
    "#Backwards Model Selction\n",
    "\n",
    "#remove get really drunk, currently drink alcohol, and, understanding parents, age group 16-17, missed classes, fights,\n",
    "#smoke_cig_currently, no close friends\n",
    "\n",
    "Y = mentalh.Attempted_Suicide\n",
    "X9 = mentalh[['Year','Overwieght','Use_Marijuana','Had_Sexual_Relation',\n",
    "             'Bullied','Got_Seriously_Injured','Sex_Female']]\n",
    "\n",
    "\n",
    "X9 = sm.add_constant(X9)\n",
    "\n",
    "model9 = sm.OLS(Y,X9).fit()\n",
    "model9.summary()"
   ],
   "execution_count":31,
   "outputs":[
    {
     "data":{
      "text\/html":[
       "<table class=\"simpletable\">\n",
       "<caption>OLS Regression Results<\/caption>\n",
       "<tr>\n",
       "  <th>Dep. Variable:<\/th>    <td>Attempted_Suicide<\/td> <th>  R-squared:         <\/th> <td>   0.720<\/td>\n",
       "<\/tr>\n",
       "<tr>\n",
       "  <th>Model:<\/th>                   <td>OLS<\/td>        <th>  Adj. R-squared:    <\/th> <td>   0.699<\/td>\n",
       "<\/tr>\n",
       "<tr>\n",
       "  <th>Method:<\/th>             <td>Least Squares<\/td>   <th>  F-statistic:       <\/th> <td>   33.86<\/td>\n",
       "<\/tr>\n",
       "<tr>\n",
       "  <th>Date:<\/th>             <td>Tue, 23 May 2023<\/td>  <th>  Prob (F-statistic):<\/th> <td>7.44e-23<\/td>\n",
       "<\/tr>\n",
       "<tr>\n",
       "  <th>Time:<\/th>                 <td>01:00:58<\/td>      <th>  Log-Likelihood:    <\/th> <td> -302.88<\/td>\n",
       "<\/tr>\n",
       "<tr>\n",
       "  <th>No. Observations:<\/th>      <td>   100<\/td>       <th>  AIC:               <\/th> <td>   621.8<\/td>\n",
       "<\/tr>\n",
       "<tr>\n",
       "  <th>Df Residuals:<\/th>          <td>    92<\/td>       <th>  BIC:               <\/th> <td>   642.6<\/td>\n",
       "<\/tr>\n",
       "<tr>\n",
       "  <th>Df Model:<\/th>              <td>     7<\/td>       <th>                     <\/th>     <td> <\/td>   \n",
       "<\/tr>\n",
       "<tr>\n",
       "  <th>Covariance Type:<\/th>      <td>nonrobust<\/td>     <th>                     <\/th>     <td> <\/td>   \n",
       "<\/tr>\n",
       "<\/table>\n",
       "<table class=\"simpletable\">\n",
       "<tr>\n",
       "            <td><\/td>               <th>coef<\/th>     <th>std err<\/th>      <th>t<\/th>      <th>P>|t|<\/th>  <th>[0.025<\/th>    <th>0.975]<\/th>  \n",
       "<\/tr>\n",
       "<tr>\n",
       "  <th>const<\/th>                 <td> 1461.7467<\/td> <td>  576.634<\/td> <td>    2.535<\/td> <td> 0.013<\/td> <td>  316.501<\/td> <td> 2606.993<\/td>\n",
       "<\/tr>\n",
       "<tr>\n",
       "  <th>Year<\/th>                  <td>   -0.7312<\/td> <td>    0.286<\/td> <td>   -2.555<\/td> <td> 0.012<\/td> <td>   -1.300<\/td> <td>   -0.163<\/td>\n",
       "<\/tr>\n",
       "<tr>\n",
       "  <th>Overwieght<\/th>            <td>    0.1439<\/td> <td>    0.033<\/td> <td>    4.307<\/td> <td> 0.000<\/td> <td>    0.078<\/td> <td>    0.210<\/td>\n",
       "<\/tr>\n",
       "<tr>\n",
       "  <th>Use_Marijuana<\/th>         <td>    0.2683<\/td> <td>    0.082<\/td> <td>    3.277<\/td> <td> 0.001<\/td> <td>    0.106<\/td> <td>    0.431<\/td>\n",
       "<\/tr>\n",
       "<tr>\n",
       "  <th>Had_Sexual_Relation<\/th>   <td>    0.1478<\/td> <td>    0.045<\/td> <td>    3.316<\/td> <td> 0.001<\/td> <td>    0.059<\/td> <td>    0.236<\/td>\n",
       "<\/tr>\n",
       "<tr>\n",
       "  <th>Bullied<\/th>               <td>    0.3133<\/td> <td>    0.053<\/td> <td>    5.860<\/td> <td> 0.000<\/td> <td>    0.207<\/td> <td>    0.419<\/td>\n",
       "<\/tr>\n",
       "<tr>\n",
       "  <th>Got_Seriously_Injured<\/th> <td>    0.0831<\/td> <td>    0.053<\/td> <td>    1.559<\/td> <td> 0.122<\/td> <td>   -0.023<\/td> <td>    0.189<\/td>\n",
       "<\/tr>\n",
       "<tr>\n",
       "  <th>Sex_Female<\/th>            <td>    6.6413<\/td> <td>    1.246<\/td> <td>    5.328<\/td> <td> 0.000<\/td> <td>    4.166<\/td> <td>    9.117<\/td>\n",
       "<\/tr>\n",
       "<\/table>\n",
       "<table class=\"simpletable\">\n",
       "<tr>\n",
       "  <th>Omnibus:<\/th>       <td> 2.291<\/td> <th>  Durbin-Watson:     <\/th> <td>   1.476<\/td>\n",
       "<\/tr>\n",
       "<tr>\n",
       "  <th>Prob(Omnibus):<\/th> <td> 0.318<\/td> <th>  Jarque-Bera (JB):  <\/th> <td>   1.721<\/td>\n",
       "<\/tr>\n",
       "<tr>\n",
       "  <th>Skew:<\/th>          <td> 0.291<\/td> <th>  Prob(JB):          <\/th> <td>   0.423<\/td>\n",
       "<\/tr>\n",
       "<tr>\n",
       "  <th>Kurtosis:<\/th>      <td> 3.273<\/td> <th>  Cond. No.          <\/th> <td>2.23e+06<\/td>\n",
       "<\/tr>\n",
       "<\/table><br\/><br\/>Notes:<br\/>[1] Standard Errors assume that the covariance matrix of the errors is correctly specified.<br\/>[2] The condition number is large, 2.23e+06. This might indicate that there are<br\/>strong multicollinearity or other numerical problems."
      ]
     },
     "metadata":{
      
     },
     "output_type":"display_data"
    }
   ],
   "metadata":{
    "datalore":{
     "node_id":"LHCFQHjPuhUX89u3I7KGND",
     "type":"CODE",
     "hide_input_from_viewers":true,
     "hide_output_from_viewers":true
    }
   }
  },
  {
   "cell_type":"code",
   "source":[
    "#Backwards Model Selction; FINAL\n",
    "\n",
    "#remove get really drunk, currently drink alcohol, and, understanding parents, age group 16-17, missed classes, fights,\n",
    "#smoke_cig_currently, no close friends, injured\n",
    "\n",
    "Y = mentalh.Attempted_Suicide\n",
    "X10 = mentalh[['Year','Overwieght','Use_Marijuana','Had_Sexual_Relation',\n",
    "             'Bullied','Sex_Female']]\n",
    "\n",
    "\n",
    "X10 = sm.add_constant(X10)\n",
    "\n",
    "model10 = sm.OLS(Y,X10).fit()\n",
    "model10.summary()"
   ],
   "execution_count":32,
   "outputs":[
    {
     "data":{
      "text\/html":[
       "<table class=\"simpletable\">\n",
       "<caption>OLS Regression Results<\/caption>\n",
       "<tr>\n",
       "  <th>Dep. Variable:<\/th>    <td>Attempted_Suicide<\/td> <th>  R-squared:         <\/th> <td>   0.713<\/td>\n",
       "<\/tr>\n",
       "<tr>\n",
       "  <th>Model:<\/th>                   <td>OLS<\/td>        <th>  Adj. R-squared:    <\/th> <td>   0.694<\/td>\n",
       "<\/tr>\n",
       "<tr>\n",
       "  <th>Method:<\/th>             <td>Least Squares<\/td>   <th>  F-statistic:       <\/th> <td>   38.50<\/td>\n",
       "<\/tr>\n",
       "<tr>\n",
       "  <th>Date:<\/th>             <td>Tue, 23 May 2023<\/td>  <th>  Prob (F-statistic):<\/th> <td>3.70e-23<\/td>\n",
       "<\/tr>\n",
       "<tr>\n",
       "  <th>Time:<\/th>                 <td>01:00:59<\/td>      <th>  Log-Likelihood:    <\/th> <td> -304.18<\/td>\n",
       "<\/tr>\n",
       "<tr>\n",
       "  <th>No. Observations:<\/th>      <td>   100<\/td>       <th>  AIC:               <\/th> <td>   622.4<\/td>\n",
       "<\/tr>\n",
       "<tr>\n",
       "  <th>Df Residuals:<\/th>          <td>    93<\/td>       <th>  BIC:               <\/th> <td>   640.6<\/td>\n",
       "<\/tr>\n",
       "<tr>\n",
       "  <th>Df Model:<\/th>              <td>     6<\/td>       <th>                     <\/th>     <td> <\/td>   \n",
       "<\/tr>\n",
       "<tr>\n",
       "  <th>Covariance Type:<\/th>      <td>nonrobust<\/td>     <th>                     <\/th>     <td> <\/td>   \n",
       "<\/tr>\n",
       "<\/table>\n",
       "<table class=\"simpletable\">\n",
       "<tr>\n",
       "           <td><\/td>              <th>coef<\/th>     <th>std err<\/th>      <th>t<\/th>      <th>P>|t|<\/th>  <th>[0.025<\/th>    <th>0.975]<\/th>  \n",
       "<\/tr>\n",
       "<tr>\n",
       "  <th>const<\/th>               <td> 1391.4092<\/td> <td>  579.271<\/td> <td>    2.402<\/td> <td> 0.018<\/td> <td>  241.092<\/td> <td> 2541.726<\/td>\n",
       "<\/tr>\n",
       "<tr>\n",
       "  <th>Year<\/th>                <td>   -0.6952<\/td> <td>    0.287<\/td> <td>   -2.418<\/td> <td> 0.018<\/td> <td>   -1.266<\/td> <td>   -0.124<\/td>\n",
       "<\/tr>\n",
       "<tr>\n",
       "  <th>Overwieght<\/th>          <td>    0.1405<\/td> <td>    0.034<\/td> <td>    4.183<\/td> <td> 0.000<\/td> <td>    0.074<\/td> <td>    0.207<\/td>\n",
       "<\/tr>\n",
       "<tr>\n",
       "  <th>Use_Marijuana<\/th>       <td>    0.2886<\/td> <td>    0.081<\/td> <td>    3.544<\/td> <td> 0.001<\/td> <td>    0.127<\/td> <td>    0.450<\/td>\n",
       "<\/tr>\n",
       "<tr>\n",
       "  <th>Had_Sexual_Relation<\/th> <td>    0.1497<\/td> <td>    0.045<\/td> <td>    3.335<\/td> <td> 0.001<\/td> <td>    0.061<\/td> <td>    0.239<\/td>\n",
       "<\/tr>\n",
       "<tr>\n",
       "  <th>Bullied<\/th>             <td>    0.3683<\/td> <td>    0.040<\/td> <td>    9.110<\/td> <td> 0.000<\/td> <td>    0.288<\/td> <td>    0.449<\/td>\n",
       "<\/tr>\n",
       "<tr>\n",
       "  <th>Sex_Female<\/th>          <td>    6.0601<\/td> <td>    1.198<\/td> <td>    5.056<\/td> <td> 0.000<\/td> <td>    3.680<\/td> <td>    8.440<\/td>\n",
       "<\/tr>\n",
       "<\/table>\n",
       "<table class=\"simpletable\">\n",
       "<tr>\n",
       "  <th>Omnibus:<\/th>       <td> 2.787<\/td> <th>  Durbin-Watson:     <\/th> <td>   1.509<\/td>\n",
       "<\/tr>\n",
       "<tr>\n",
       "  <th>Prob(Omnibus):<\/th> <td> 0.248<\/td> <th>  Jarque-Bera (JB):  <\/th> <td>   2.151<\/td>\n",
       "<\/tr>\n",
       "<tr>\n",
       "  <th>Skew:<\/th>          <td> 0.311<\/td> <th>  Prob(JB):          <\/th> <td>   0.341<\/td>\n",
       "<\/tr>\n",
       "<tr>\n",
       "  <th>Kurtosis:<\/th>      <td> 3.359<\/td> <th>  Cond. No.          <\/th> <td>2.22e+06<\/td>\n",
       "<\/tr>\n",
       "<\/table><br\/><br\/>Notes:<br\/>[1] Standard Errors assume that the covariance matrix of the errors is correctly specified.<br\/>[2] The condition number is large, 2.22e+06. This might indicate that there are<br\/>strong multicollinearity or other numerical problems."
      ]
     },
     "metadata":{
      
     },
     "output_type":"display_data"
    }
   ],
   "metadata":{
    "datalore":{
     "node_id":"d7tOa5HScte0nBg5JPLKyA",
     "type":"CODE",
     "hide_input_from_viewers":true,
     "hide_output_from_viewers":true
    }
   }
  },
  {
   "cell_type":"code",
   "source":[
    "df_for_model = model10.fittedvalues.to_frame(name = 'Fitted')\n",
    "df_for_model['Residuals'] = model10.resid\n",
    "\n",
    "sns.relplot(data=df_for_model, x='Fitted', y='Residuals', kind='scatter')\n",
    "plt.xlabel(\"Percent of Teens who Attempted Suicide\")\n",
    "plt.axhline(y=0) \n",
    "plt.ylabel(\"Residual\")\n",
    "plt.title(\"Residuals of Backwards Selection Model - Model 10\") \n",
    "plt.show()"
   ],
   "execution_count":33,
   "outputs":[
    {
     "data":{
      "image\/png":"[encoded data removed]"
     },
     "metadata":{
      "image\/png":{
       
      }
     },
     "output_type":"display_data"
    }
   ],
   "metadata":{
    "datalore":{
     "node_id":"DGQ5CPdVWHglyBB0eDgze5",
     "type":"CODE",
     "hide_input_from_viewers":true,
     "hide_output_from_viewers":true
    }
   }
  },
  {
   "cell_type":"code",
   "source":[
    "(p9.ggplot(df_for_model, p9.aes(x = 'Residuals')) +\n",
    "p9.geom_histogram(bins = 13) +\n",
    "p9.xlab(\"Residuals\"))"
   ],
   "execution_count":34,
   "outputs":[
    {
     "data":{
      "image\/png":"[encoded data removed]"
     },
     "metadata":{
      "image\/png":{
       
      }
     },
     "output_type":"display_data"
    },
    {
     "data":{
      "text\/plain":[
       "<ggplot: (8759422928912)>"
      ]
     },
     "metadata":{
      
     },
     "output_type":"display_data"
    }
   ],
   "metadata":{
    "datalore":{
     "node_id":"bXA6xhTtU1Ouk6UUqhdymw",
     "type":"CODE",
     "hide_input_from_viewers":true,
     "hide_output_from_viewers":true
    }
   }
  },
  {
   "cell_type":"markdown",
   "source":[
    "**Caption**: For the histogram, the residual graph is nearly symmetric, and although the scatter plot shows that the points are relatively randomly scattered, the points are more condensed around the line where y = 0, indicating that the distance between the best fit line and each observation has been minimized, thus, this model is a good fit."
   ],
   "attachments":{
    
   },
   "metadata":{
    "datalore":{
     "node_id":"9uAGObnyN0XoHVLRt50kzX",
     "type":"MD",
     "hide_input_from_viewers":true,
     "hide_output_from_viewers":true
    }
   }
  },
  {
   "cell_type":"code",
   "source":[
    "model = LinearRegression()\n",
    "model.fit(X10, Y)\n",
    "y_2 = model.predict(X10)\n",
    "print(y_2)"
   ],
   "execution_count":35,
   "outputs":[
    {
     "name":"stdout",
     "text":[
      "[22.71425587 17.46910943 14.04564165 19.59534314 12.17361091 18.77203391\n",
      " 11.68416098 10.92926749 12.73735255  9.9046256   7.67071193 11.41728662\n",
      "  4.04834335  9.45983269 12.28671147 12.66647306 12.01357807 15.00436768\n",
      " 11.25273861 11.39145505 10.92921087 12.59673606  3.08143581  6.45983208\n",
      "  3.06208581  3.62810819 17.11014631 14.43262268 20.82399521 19.81156864\n",
      " 20.80765843 19.65681583 -0.26241131  3.4489772  -0.35587171  4.22087916\n",
      "  6.81369173  9.4767693   0.90114712  5.85573971  9.58173624  8.47596543\n",
      " 13.66334728  9.83276246  9.07209383 10.14730475  8.43448853  7.13855439\n",
      " 10.69091731  9.35001092 19.81330843 21.02693493 21.4129245  25.5094173\n",
      " 16.49605183 17.19588728 17.97125382 18.522065   19.52971548 22.40968266\n",
      " 20.87425262 19.34974566 18.45623464 20.25753591 51.05882904 47.06426927\n",
      " 22.74246985 26.20528345 18.83605482 26.22591238  8.49958262 12.22728249\n",
      " 15.28522827 20.44930057 13.53361615 11.30485384 12.0300283   8.56469327\n",
      "  6.57586173 10.53470118  9.32618203  7.56396497  7.59770429 10.4420801\n",
      " 14.6965255   8.53241455 20.4196485  12.04479072 11.72261189 15.41308672\n",
      " 20.07434326 18.06304055 18.50957428 19.98342671 23.40791452 27.55860975\n",
      " 16.07585423 19.41380863 18.57345256 21.79477065]\n"
     ],
     "output_type":"stream"
    }
   ],
   "metadata":{
    "datalore":{
     "node_id":"H20MPqHP47j1XxtHyZNcOY",
     "type":"CODE",
     "hide_input_from_viewers":true,
     "hide_output_from_viewers":true
    }
   }
  },
  {
   "cell_type":"code",
   "source":[
    "#unable to use negative mean squared error, but mean squared error is the same, just positive\n",
    "cross_val_score(model, X10, Y, cv=10, scoring = \"neg_mean_squared_error\").mean()"
   ],
   "execution_count":36,
   "outputs":[
    {
     "data":{
      "text\/plain":[
       "-38.39899983316467"
      ]
     },
     "metadata":{
      
     },
     "output_type":"display_data"
    }
   ],
   "metadata":{
    "datalore":{
     "node_id":"vpq4MKNQW8CuFwohsm45Yz",
     "type":"CODE",
     "hide_input_from_viewers":true,
     "hide_output_from_viewers":true
    }
   }
  },
  {
   "cell_type":"markdown",
   "source":[
    "**Parameters left:**\n",
    "\n",
    "Year, Overweight, Use_Marijuana, Had_Sexual_relation, Bullies, and Sex_Female\n",
    "\n",
    "**Equation for the response variable, attempted_suicide:**\n",
    "\n",
    "Attempted_suicide = 1391.4092 - (0.6952 * Year) + (0.1405 * Overweight) + (0.2886 * Use_Marijuana) + (0.1497 * Had_sexual_relation) + (0.3683 * Bullied) + (6.0601 * Sex_Female)"
   ],
   "attachments":{
    
   },
   "metadata":{
    "datalore":{
     "node_id":"ubfTbqYag7wzyJYy8xuGoZ",
     "type":"MD",
     "hide_input_from_viewers":true,
     "hide_output_from_viewers":true
    }
   }
  },
  {
   "cell_type":"markdown",
   "source":[
    "**Week 4:** Summaries of model fits (e.g., 𝑟2), analysis of important features (using LASSO or significance tests)."
   ],
   "attachments":{
    
   },
   "metadata":{
    "datalore":{
     "node_id":"mnXSemcV3hbL2hWz28WIGf",
     "type":"MD",
     "hide_input_from_viewers":true,
     "hide_output_from_viewers":true
    }
   }
  },
  {
   "cell_type":"code",
   "source":[
    "mentalh = mentalh.reset_index()"
   ],
   "execution_count":37,
   "outputs":[
    
   ],
   "metadata":{
    "datalore":{
     "node_id":"3K0layaB5N6GwBUrXMD1M9",
     "type":"CODE",
     "hide_input_from_viewers":true,
     "hide_output_from_viewers":true
    }
   }
  },
  {
   "cell_type":"code",
   "source":[
    "import random\n",
    "from sklearn import preprocessing\n",
    "\n",
    "X = mentalh[['Year','Currently_Drink_Alcohol','Really_Get_Drunk','Overwieght','Use_Marijuana','Have_Understanding_Parents',\n",
    "             'Missed_Classes_Without_Permssion','Had_Sexual_Relation','Smoke_Cig_Currently','Had_Fights',\n",
    "             'Bullied','Got_Seriously_Injured','No_Close_Friends','Age_Group_16-17','Sex_Female']]\n",
    "Y = mentalh['Attempted_Suicide']\n",
    "\n",
    "random.seed(600)\n",
    "p30 = random.sample(range(mentalh.shape[0]-1), round(0.3*mentalh.shape[0]))\n",
    "m_train =  mentalh.drop(p30)\n",
    "m_test = mentalh.loc[p30]\n",
    "\n",
    "X_train = m_train[['Year','Currently_Drink_Alcohol','Really_Get_Drunk','Overwieght','Use_Marijuana','Have_Understanding_Parents',\n",
    "             'Missed_Classes_Without_Permssion','Had_Sexual_Relation','Smoke_Cig_Currently','Had_Fights',\n",
    "             'Bullied','Got_Seriously_Injured','No_Close_Friends','Age_Group_16-17','Sex_Female']]\n",
    "X_test = m_test[['Year','Currently_Drink_Alcohol','Really_Get_Drunk','Overwieght','Use_Marijuana','Have_Understanding_Parents',\n",
    "             'Missed_Classes_Without_Permssion','Had_Sexual_Relation','Smoke_Cig_Currently','Had_Fights',\n",
    "             'Bullied','Got_Seriously_Injured','No_Close_Friends','Age_Group_16-17','Sex_Female']] \n",
    "Y_test = m_test['Attempted_Suicide']\n",
    "Y_train = m_train['Attempted_Suicide']\n",
    "\n",
    "from sklearn.preprocessing import StandardScaler\n",
    "lab = preprocessing.LabelEncoder()\n",
    "Y_train = lab.fit_transform(Y_train)  \n",
    "\n",
    "scaler = StandardScaler()\n",
    "scaler.fit(X_train)\n",
    "\n",
    "\n",
    "\n",
    "X_train_pp = pd.DataFrame(scaler.transform(X_train), columns = [['Year','Currently_Drink_Alcohol','Really_Get_Drunk','Overwieght','Use_Marijuana','Have_Understanding_Parents',\n",
    "             'Missed_Classes_Without_Permssion','Had_Sexual_Relation','Smoke_Cig_Currently','Had_Fights',\n",
    "             'Bullied','Got_Seriously_Injured','No_Close_Friends','Age_Group_16-17','Sex_Female']])\n",
    "\n",
    "scaler.fit(X_test)\n",
    "X_test_pp = pd.DataFrame(scaler.transform(X_test), columns = [['Year','Currently_Drink_Alcohol','Really_Get_Drunk','Overwieght','Use_Marijuana','Have_Understanding_Parents',\n",
    "             'Missed_classes_without_permssion','Had_Cexual_Relation','Smoke_Cig_Currently','Had_Fights',\n",
    "             'Bullied','Got_Seriously_Injured','No_Close_Friends','Age_Group_16-17','Sex_Female']])\n",
    "\n",
    "models = sklearn.linear_model.LogisticRegression()\n",
    "models.fit(X_train_pp, Y_train)\n",
    "\n",
    "scaler.fit(X)\n",
    "Xpp = pd.DataFrame(scaler.transform(X), columns = [['Year','Currently_Drink_Alcohol','Really_Get_Drunk','Overwieght','Use_Marijuana','Have_Understanding_Parents',\n",
    "             'Missed_Classes_Without_Permssion','Had_Sexual_Relation','Smoke_Cig_Currently','Had_Fights',\n",
    "             'Bullied','Got_Seriously_Injured','No_Close_Friends','Age_Group_16-17','Sex_Female']])\n",
    "\n",
    "\n",
    "clf = LassoCV(alphas = np.arange(0.1, 100, 1), cv = 10).fit(X_train_pp.values, Y_train) \n",
    "clf.alpha_"
   ],
   "execution_count":38,
   "outputs":[
    {
     "data":{
      "text\/plain":[
       "2.1"
      ]
     },
     "metadata":{
      
     },
     "output_type":"display_data"
    }
   ],
   "metadata":{
    "datalore":{
     "node_id":"X4rRGQbybjEc7EhyuLGEy1",
     "type":"CODE",
     "hide_input_from_viewers":true,
     "hide_output_from_viewers":true
    }
   }
  },
  {
   "cell_type":"code",
   "source":[
    "#negated with -1 because of difficulty importing negative mean squared error\n",
    "cross_val_score(models, X_test, Y_test, cv=10, scoring = \"neg_mean_squared_error\").mean()"
   ],
   "execution_count":39,
   "outputs":[
    {
     "data":{
      "text\/plain":[
       "nan"
      ]
     },
     "metadata":{
      
     },
     "output_type":"display_data"
    }
   ],
   "metadata":{
    "datalore":{
     "node_id":"4HIH5PAI7thfomMIacUXpQ",
     "type":"CODE",
     "hide_input_from_viewers":true,
     "hide_output_from_viewers":true
    }
   }
  },
  {
   "cell_type":"code",
   "source":[
    "threshold = np.arange(0.1, 100, 1)\n",
    "coef = pd.DataFrame()\n",
    "for value in threshold:\n",
    "    model = sklearn.linear_model.LogisticRegression(penalty='l1', solver = 'liblinear', C=value)\n",
    "    model1 = model.fit(X_train_pp, Y_train)\n",
    "    coef = pd.concat([coef, pd.Series(model1.coef_[0]).to_frame().T], ignore_index=True)\n",
    "\n",
    "    \n",
    "lasso_plt = coef\n",
    "\n",
    "\n",
    "lasso_plt.rename(columns={0:'Year',1:'Currently_Drink_Alcohol',2:'Really_Get_Drunk',3:'Overwieght',4:'Use_Marijuana',\n",
    "                           5:'Have_Understanding_Parents', 6:'Missed_Classes_Without_Permssion',7:'Had_Sexual_Relation',\n",
    "                           8:'Smoke_Cig_Currently',9:'Had_Fights',10:'Bullied',11:'Got_Seriously_Injured',\n",
    "                           12:'No_close_Friends',13:'Age_Group_16-17',14:'Sex_Female'}, inplace = True)\n",
    "\n",
    "lasso_plt['Threshold'] = threshold\n",
    "\n",
    "lasso_plt_melt = pd.melt(lasso_plt, id_vars = 'Threshold',\n",
    "var_name = 'Variable', value_name = 'Coefficient')\n",
    "\n",
    "maxx = lasso_plt_melt['Threshold'].loc[lasso_plt_melt.shape[0]-1]\n",
    "labell = lasso_plt_melt[(lasso_plt_melt['Threshold'] == maxx)]\n",
    "\n",
    "predictors = lasso_plt[lasso_plt['Threshold'] == 2.1]\n",
    "\n",
    "predictors.loc[:,(predictors != 0).any()]"
   ],
   "execution_count":40,
   "outputs":[
    {
     "data":{
      "text\/html":[
       "<div>\n",
       "<style scoped>\n",
       "    .dataframe tbody tr th:only-of-type {\n",
       "        vertical-align: middle;\n",
       "    }\n",
       "\n",
       "    .dataframe tbody tr th {\n",
       "        vertical-align: top;\n",
       "    }\n",
       "\n",
       "    .dataframe thead th {\n",
       "        text-align: right;\n",
       "    }\n",
       "<\/style>\n",
       "<table border=\"1\" class=\"dataframe\">\n",
       "  <thead>\n",
       "    <tr style=\"text-align: right;\">\n",
       "      <th><\/th>\n",
       "      <th>Really_Get_Drunk<\/th>\n",
       "      <th>Missed_Classes_Without_Permssion<\/th>\n",
       "      <th>Got_Seriously_Injured<\/th>\n",
       "      <th>No_close_Friends<\/th>\n",
       "      <th>Age_Group_16-17<\/th>\n",
       "      <th>Threshold<\/th>\n",
       "    <\/tr>\n",
       "  <\/thead>\n",
       "  <tbody>\n",
       "    <tr>\n",
       "      <th>2<\/th>\n",
       "      <td>-0.57785<\/td>\n",
       "      <td>-0.760922<\/td>\n",
       "      <td>-0.676457<\/td>\n",
       "      <td>-0.121533<\/td>\n",
       "      <td>0.785279<\/td>\n",
       "      <td>2.1<\/td>\n",
       "    <\/tr>\n",
       "  <\/tbody>\n",
       "<\/table>\n",
       "<\/div>"
      ]
     },
     "metadata":{
      
     },
     "output_type":"display_data"
    }
   ],
   "metadata":{
    "datalore":{
     "node_id":"A4OMBauUrM0ZLlajqwRPOn",
     "type":"CODE",
     "hide_input_from_viewers":true,
     "hide_output_from_viewers":true
    }
   }
  },
  {
   "cell_type":"code",
   "source":[
    "\n",
    "(p9.ggplot(lasso_plt_melt, p9.aes(x = 'Threshold', y = 'Coefficient',\n",
    "color = 'Variable')) \n",
    "+ p9.geom_line()\n",
    "+ p9.scale_x_continuous(limits = [0, 8.75]) \n",
    "+ p9.geom_vline(xintercept = clf.alpha_)\n",
    "+ p9.ggtitle(\"Lasso Plot\")\n",
    ")"
   ],
   "execution_count":41,
   "outputs":[
    {
     "data":{
      "image\/png":"[encoded data removed]"
     },
     "metadata":{
      "image\/png":{
       
      }
     },
     "output_type":"display_data"
    },
    {
     "data":{
      "text\/plain":[
       "<ggplot: (8759423159281)>"
      ]
     },
     "metadata":{
      
     },
     "output_type":"display_data"
    }
   ],
   "metadata":{
    "datalore":{
     "node_id":"cvDjHCNOGUbVkRRZuLXj4k",
     "type":"CODE",
     "hide_input_from_viewers":true,
     "hide_output_from_viewers":true
    }
   }
  },
  {
   "cell_type":"markdown",
   "source":[
    "**Plot Caption:**\n",
    "The Lasso plot shows that some parameters never enter the model. At our selected threshold of 1, Age_Group_16-17, Missed_Classes_Without_Permission, Got_Seriously_injured, Really_Getting_Drunk"
   ],
   "attachments":{
    
   },
   "metadata":{
    "datalore":{
     "node_id":"iut8yAO8GtHM10GkZBbtvc",
     "type":"MD",
     "hide_input_from_viewers":true,
     "hide_output_from_viewers":true
    }
   }
  },
  {
   "cell_type":"code",
   "source":[
    "cross_val_score(model1, X_test_pp, Y_test, cv=10, scoring = \"neg_mean_squared_error\").mean()"
   ],
   "execution_count":42,
   "outputs":[
    {
     "data":{
      "text\/plain":[
       "nan"
      ]
     },
     "metadata":{
      
     },
     "output_type":"display_data"
    }
   ],
   "metadata":{
    "datalore":{
     "node_id":"kwTtyxblQ8oJz56im2g7le",
     "type":"CODE",
     "hide_input_from_viewers":true,
     "hide_output_from_viewers":true
    }
   }
  },
  {
   "cell_type":"markdown",
   "source":[
    "**Week 5:**\n",
    "Initial passes at ridge regression, 𝑘NN classification or regression models"
   ],
   "attachments":{
    
   },
   "metadata":{
    "datalore":{
     "node_id":"xQhK2f2lXVi6iuOnfVUwHK",
     "type":"MD",
     "hide_input_from_viewers":true,
     "hide_output_from_viewers":true
    }
   }
  },
  {
   "cell_type":"code",
   "source":[
    "#RIDGE\n",
    "from sklearn.linear_model import RidgeCV\n",
    "X = mentalh[['Year','Currently_Drink_Alcohol','Really_Get_Drunk','Overwieght','Use_Marijuana','Have_Understanding_Parents',\n",
    "             'Missed_Classes_Without_Permssion','Had_Sexual_Relation','Smoke_Cig_Currently','Had_Fights',\n",
    "             'Bullied','Got_Seriously_Injured','No_Close_Friends','Age_Group_16-17','Sex_Female']]\n",
    "\n",
    "scaler = StandardScaler()\n",
    "scaler.fit(X)\n",
    "\n",
    "X_pp = pd.DataFrame(scaler.transform(X), columns =[['Year','Currently_Drink_Alcohol','Really_Get_Drunk','Overwieght','Use_Marijuana','Have_Understanding_Parents',\n",
    "             'Missed_Classes_Without_Permssion','Had_Sexual_Relation','Smoke_Cig_Currently','Had_Fights',\n",
    "             'Bullied','Got_Seriously_Injured','No_Close_Friends','Age_Group_16-17','Sex_Female']])\n",
    "\n",
    "cl = RidgeCV(alphas = np.arange(0.1, 100, 1), cv = 10).fit(X_pp, Y)\n",
    "cl.score(X_pp, Y)\n",
    "print(\"classifier alpha value\", cl.alpha_)\n",
    "\n",
    "alphas = np.arange(0.1, 100, 1)\n",
    "Threshold = []\n",
    "ridge = pd.DataFrame()\n",
    "for threshold in alphas:\n",
    "    model = sklearn.linear_model.Ridge(alpha = threshold)\n",
    "    tempmodel = model.fit(X_pp, Y)\n",
    "    ridge = pd.concat([ridge, pd.Series(tempmodel.coef_).to_frame().T])\n",
    "    Threshold.append(np.log(1\/threshold))\n",
    "    \n",
    "ridge_plt = ridge\n",
    "ridge_plt.rename(columns={0:'Year',1:'Currently_Drink_Alcohol',2:'Really_Get_Drunk',3:'Overwieght',4:'Use_Marijuana',\n",
    "                           5:'Have_Understanding_Parents', 6:'Missed_Classes_Without_Permssion',7:'Had_Sexual_Relation',\n",
    "                           8:'Smoke_Cig_Currently',9:'Had_Fights',10:'Bullied',11:'Got_Seriously_Injured',\n",
    "                           12:'No_Close_Friends',13:'Age_Group_16-17',14:'Sex_Female'}, \n",
    "                                 inplace = True)\n",
    "ridge_plt['Threshold'] = Threshold\n",
    "ridge_plt_melt = pd.melt(ridge_plt, id_vars = 'Threshold',\n",
    "                                var_name = 'Variable', value_name = 'Coefficient')\n",
    "max_T = ridge_plt_melt['Threshold'].loc[0]\n",
    "plt_label = ridge_plt_melt[(ridge_plt_melt['Threshold'] == max_T)]\n"
   ],
   "execution_count":43,
   "outputs":[
    {
     "name":"stdout",
     "text":[
      "classifier alpha value 41.1\n"
     ],
     "output_type":"stream"
    }
   ],
   "metadata":{
    "datalore":{
     "node_id":"nEuw3MiCgCL3kwt2XQEhBG",
     "type":"CODE",
     "hide_input_from_viewers":true,
     "hide_output_from_viewers":true
    }
   }
  },
  {
   "cell_type":"code",
   "source":[
    "(p9.ggplot(ridge_plt_melt, p9.aes(x = 'Threshold', y = 'Coefficient', color = 'Variable')) +\n",
    "p9.geom_line() +\n",
    "p9.scale_x_continuous(name = \"log(T)\", limits = [-4, 2.6]) +\n",
    "p9.geom_vline(xintercept = np.log(1\/cl.alpha_)) +\n",
    "p9.theme(legend_position = \"none\", figure_size = [6, 3.75]) +\n",
    "p9.ggtitle(\"Ridge Graph\") +\n",
    "p9.geom_label(inherit_aes = False, data = plt_label, ha = 'left',\n",
    "              mapping = p9.aes(label = 'Variable', x = np.log(1\/0.1), #\n",
    "                            y = 'Coefficient', color = 'Variable', size = 1)))"
   ],
   "execution_count":44,
   "outputs":[
    {
     "data":{
      "image\/png":"[encoded data removed]"
     },
     "metadata":{
      "image\/png":{
       
      }
     },
     "output_type":"display_data"
    },
    {
     "data":{
      "text\/plain":[
       "<ggplot: (8753361358228)>"
      ]
     },
     "metadata":{
      
     },
     "output_type":"display_data"
    }
   ],
   "metadata":{
    "datalore":{
     "node_id":"cB5i1mjZ02FDa1SpnXRodn",
     "type":"CODE",
     "hide_input_from_viewers":true,
     "hide_output_from_viewers":true
    }
   }
  },
  {
   "cell_type":"markdown",
   "source":[
    "The Ridge Regression does not show the predictors converging at low values of log(T) as expected. Further, more predictors than expected would be included in the model based on this plot"
   ],
   "attachments":{
    
   },
   "metadata":{
    "datalore":{
     "node_id":"5A6ZLQ1Xd3uqRNAXWMdtLR",
     "type":"MD",
     "hide_input_from_viewers":true,
     "hide_output_from_viewers":true
    }
   }
  },
  {
   "cell_type":"code",
   "source":[
    "cross_val_score(tempmodel, X, Y, cv=10, scoring = \"neg_mean_squared_error\").mean()"
   ],
   "execution_count":45,
   "outputs":[
    {
     "data":{
      "text\/plain":[
       "-45.79133063044238"
      ]
     },
     "metadata":{
      
     },
     "output_type":"display_data"
    }
   ],
   "metadata":{
    "datalore":{
     "node_id":"p1k6mDDFYEScbmBWHCrMOf",
     "type":"CODE",
     "hide_input_from_viewers":true,
     "hide_output_from_viewers":true
    }
   }
  },
  {
   "cell_type":"markdown",
   "source":[
    "**Week 6: Inital Passes at Neural Networks**"
   ],
   "attachments":{
    
   },
   "metadata":{
    "datalore":{
     "node_id":"M11T5nsacahPxMTUa53hUn",
     "type":"MD",
     "hide_input_from_viewers":true,
     "hide_output_from_viewers":true
    }
   }
  },
  {
   "cell_type":"code",
   "source":[
    "# Neural Networks - Build 1\n",
    "from sklearn.model_selection import cross_val_score, RepeatedKFold\n",
    "import keras\n",
    "import tensorflow as tf\n",
    "from tensorflow.keras.wrappers.scikit_learn import KerasRegressor\n",
    "\n",
    "def buildmodel():\n",
    "    modelk = keras.Sequential([\n",
    "        keras.layers.Dense(4, input_dim = 15, activation='relu'),\n",
    "        keras.layers.Dense(1, activation = 'relu')])\n",
    "    modelk.compile(loss='mean_squared_error', optimizer='adam', metrics=[tf.keras.metrics.MeanSquaredError()])\n",
    "    return(modelk)\n",
    "\n",
    "estimator1 = KerasRegressor(build_fn = buildmodel, epochs = 10, batch_size = 100, verbose = 0)\n",
    "\n",
    "kfold = RepeatedKFold(n_splits = 10, n_repeats = 1)\n",
    "cross_val_score(estimator1, X_pp, Y, cv=kfold, scoring = 'neg_mean_squared_error').mean()"
   ],
   "execution_count":46,
   "outputs":[
    {
     "name":"stdout",
     "text":[
      "WARNING:tensorflow:5 out of the last 5 calls to <function Model.make_predict_function.<locals>.predict_function at 0x7f60ac716550> triggered tf.function retracing. Tracing is expensive and the excessive number of tracings could be due to (1) creating @tf.function repeatedly in a loop, (2) passing tensors with different shapes, (3) passing Python objects instead of tensors. For (1), please define your @tf.function outside of the loop. For (2), @tf.function has reduce_retracing=True option that can avoid unnecessary retracing. For (3), please refer to https:\/\/www.tensorflow.org\/guide\/function#controlling_retracing and https:\/\/www.tensorflow.org\/api_docs\/python\/tf\/function for  more details.\n",
      "WARNING:tensorflow:6 out of the last 6 calls to <function Model.make_predict_function.<locals>.predict_function at 0x7f60ac716820> triggered tf.function retracing. Tracing is expensive and the excessive number of tracings could be due to (1) creating @tf.function repeatedly in a loop, (2) passing tensors with different shapes, (3) passing Python objects instead of tensors. For (1), please define your @tf.function outside of the loop. For (2), @tf.function has reduce_retracing=True option that can avoid unnecessary retracing. For (3), please refer to https:\/\/www.tensorflow.org\/guide\/function#controlling_retracing and https:\/\/www.tensorflow.org\/api_docs\/python\/tf\/function for  more details.\n"
     ],
     "output_type":"stream"
    },
    {
     "data":{
      "text\/plain":[
       "-291.42508378514265"
      ]
     },
     "metadata":{
      
     },
     "output_type":"display_data"
    }
   ],
   "metadata":{
    "datalore":{
     "node_id":"eECKgLV9gWWrSkmsiDyqXT",
     "type":"CODE",
     "hide_input_from_viewers":true,
     "hide_output_from_viewers":true
    }
   }
  },
  {
   "cell_type":"code",
   "source":[
    "# Neural Networks - Build 2\n",
    "\n",
    "def buildmodel2():\n",
    "    modelk = keras.Sequential([\n",
    "        keras.layers.Dense(4, input_dim = 15, activation='relu'),\n",
    "        keras.layers.Dense(8, activation = 'relu'),\n",
    "        keras.layers.Dense(1, activation = 'relu')])\n",
    "    modelk.compile(loss='mean_squared_error', optimizer='adam', metrics=[tf.keras.metrics.MeanSquaredError()])\n",
    "    return(modelk)\n",
    "\n",
    "estimator2 = KerasRegressor(build_fn = buildmodel2, epochs = 10, batch_size = 100, verbose = 0)\n",
    "\n",
    "kfold = RepeatedKFold(n_splits = 10, n_repeats = 1)\n",
    "cross_val_score(estimator2, X_pp, Y, cv=kfold, scoring = 'neg_mean_squared_error').mean()\n"
   ],
   "execution_count":47,
   "outputs":[
    {
     "data":{
      "text\/plain":[
       "-289.1654836119433"
      ]
     },
     "metadata":{
      
     },
     "output_type":"display_data"
    }
   ],
   "metadata":{
    "datalore":{
     "node_id":"7N60vKCnG87XeXPEUkHEn4",
     "type":"CODE",
     "hide_input_from_viewers":true,
     "hide_output_from_viewers":true
    }
   }
  },
  {
   "cell_type":"code",
   "source":[
    "def buildmodel3():\n",
    "    modelk = keras.Sequential([\n",
    "        keras.layers.Dense(4, input_dim = 15, activation='relu'),\n",
    "        keras.layers.Dense(8, activation = 'relu'),\n",
    "        keras.layers.Dense(1, activation = 'relu')])\n",
    "    modelk.compile(loss='mean_squared_error', optimizer='adam', metrics=[tf.keras.metrics.MeanSquaredError()])\n",
    "    return(modelk)\n",
    "\n",
    "estimator3 = KerasRegressor(build_fn = buildmodel3, epochs = 10, batch_size = 100, verbose = 0)\n",
    "\n",
    "kfold = RepeatedKFold(n_splits = 10, n_repeats = 1)\n",
    "cross_val_score(estimator3, X_pp, Y, cv=kfold, scoring = 'neg_mean_squared_error').mean()"
   ],
   "execution_count":48,
   "outputs":[
    {
     "data":{
      "text\/plain":[
       "-289.596897665253"
      ]
     },
     "metadata":{
      
     },
     "output_type":"display_data"
    }
   ],
   "metadata":{
    "datalore":{
     "node_id":"2ej7JZUUcnlcxCMQyPnjPV",
     "type":"CODE",
     "hide_input_from_viewers":true,
     "hide_output_from_viewers":true
    }
   }
  },
  {
   "cell_type":"code",
   "source":[
    "def buildmodel4():\n",
    "    modelk = keras.Sequential([\n",
    "        keras.layers.Dense(4, input_dim = 15, activation='relu'),\n",
    "        keras.layers.Dense(8, activation = 'relu'),\n",
    "        keras.layers.Dense(16, activation = 'relu'),\n",
    "        keras.layers.Dense(1, activation = 'relu')])\n",
    "    modelk.compile(loss='mean_squared_error', optimizer='adam', metrics=[tf.keras.metrics.MeanSquaredError()])\n",
    "    return(modelk)\n",
    "\n",
    "estimator4 = KerasRegressor(build_fn = buildmodel4, epochs = 10, batch_size = 100, verbose = 0)\n",
    "\n",
    "kfold = RepeatedKFold(n_splits = 10, n_repeats = 1)\n",
    "cross_val_score(estimator4, X_pp, Y, cv=kfold, scoring = 'neg_mean_squared_error').mean()"
   ],
   "execution_count":49,
   "outputs":[
    {
     "data":{
      "text\/plain":[
       "-289.4178806526621"
      ]
     },
     "metadata":{
      
     },
     "output_type":"display_data"
    }
   ],
   "metadata":{
    "datalore":{
     "node_id":"MklNp3ojfDC3btcfLSwcMW",
     "type":"CODE",
     "hide_input_from_viewers":true,
     "hide_output_from_viewers":true
    }
   }
  },
  {
   "cell_type":"code",
   "source":[
    "def buildmodel5():\n",
    "    modelk = keras.Sequential([\n",
    "        keras.layers.Dense(4, input_dim = 15, activation='relu'),\n",
    "        keras.layers.Dense(8, activation = 'relu'),\n",
    "        keras.layers.Dense(16, activation = 'relu'),\n",
    "        keras.layers.Dense(32, activation = 'relu'),\n",
    "        keras.layers.Dense(1, activation = 'relu')])\n",
    "    modelk.compile(loss='mean_squared_error', optimizer='adam', metrics=[tf.keras.metrics.MeanSquaredError()])\n",
    "    return(modelk)\n",
    "\n",
    "estimator5 = KerasRegressor(build_fn = buildmodel5, epochs = 10, batch_size = 100, verbose = 0)\n",
    "\n",
    "kfold = RepeatedKFold(n_splits = 10, n_repeats = 1)\n",
    "cross_val_score(estimator5, X_pp, Y, cv=kfold, scoring = 'neg_mean_squared_error').mean()"
   ],
   "execution_count":50,
   "outputs":[
    {
     "data":{
      "text\/plain":[
       "-295.3301139290042"
      ]
     },
     "metadata":{
      
     },
     "output_type":"display_data"
    }
   ],
   "metadata":{
    "datalore":{
     "node_id":"U2CmtJX1wWOYgbbp5WQlHw",
     "type":"CODE",
     "hide_input_from_viewers":true,
     "hide_output_from_viewers":true
    }
   }
  },
  {
   "cell_type":"markdown",
   "source":[
    "**Week 7: Clustering**"
   ],
   "attachments":{
    
   },
   "metadata":{
    "datalore":{
     "node_id":"AzUMn7gNdSvrkAhjh9et7P",
     "type":"MD",
     "hide_input_from_viewers":true,
     "hide_output_from_viewers":true
    }
   }
  },
  {
   "cell_type":"code",
   "source":[
    "mental = pd.read_csv(\"GHSH_Pooled_Data1.csv\", index_col = 'Attempted_suicide')\n",
    "mental = pd.get_dummies(mental, columns = ['Age Group', 'Sex'])\n",
    "mental = mental.rename(columns = {'Age Group_13-15': 'Age_Group_13-15','Age Group_16-17': 'Age_Group_16-17'})\n",
    "mental = mental.drop(columns={'Country'})"
   ],
   "execution_count":51,
   "outputs":[
    
   ],
   "metadata":{
    "datalore":{
     "node_id":"HiVDZ4RupozrENnc4la9ex",
     "type":"CODE",
     "hide_input_from_viewers":true,
     "hide_output_from_viewers":true
    }
   }
  },
  {
   "cell_type":"code",
   "source":[
    "mental = mental.dropna()\n",
    "mental"
   ],
   "execution_count":52,
   "outputs":[
    {
     "data":{
      "text\/html":[
       "<div>\n",
       "<style scoped>\n",
       "    .dataframe tbody tr th:only-of-type {\n",
       "        vertical-align: middle;\n",
       "    }\n",
       "\n",
       "    .dataframe tbody tr th {\n",
       "        vertical-align: top;\n",
       "    }\n",
       "\n",
       "    .dataframe thead th {\n",
       "        text-align: right;\n",
       "    }\n",
       "<\/style>\n",
       "<table border=\"1\" class=\"dataframe\">\n",
       "  <thead>\n",
       "    <tr style=\"text-align: right;\">\n",
       "      <th><\/th>\n",
       "      <th>Year<\/th>\n",
       "      <th>Currently_Drink_Alcohol<\/th>\n",
       "      <th>Really_Get_Drunk<\/th>\n",
       "      <th>Overwieght<\/th>\n",
       "      <th>Use_Marijuana<\/th>\n",
       "      <th>Have_Understanding_Parents<\/th>\n",
       "      <th>Missed_classes_without_permssion<\/th>\n",
       "      <th>Had_sexual_relation<\/th>\n",
       "      <th>Smoke_cig_currently<\/th>\n",
       "      <th>Had_fights<\/th>\n",
       "      <th>Bullied<\/th>\n",
       "      <th>Got_Seriously_injured<\/th>\n",
       "      <th>No_close_friends<\/th>\n",
       "      <th>Age_Group_13-15<\/th>\n",
       "      <th>Age_Group_16-17<\/th>\n",
       "      <th>Sex_Female<\/th>\n",
       "      <th>Sex_Male<\/th>\n",
       "    <\/tr>\n",
       "    <tr>\n",
       "      <th>Attempted_suicide<\/th>\n",
       "      <th><\/th>\n",
       "      <th><\/th>\n",
       "      <th><\/th>\n",
       "      <th><\/th>\n",
       "      <th><\/th>\n",
       "      <th><\/th>\n",
       "      <th><\/th>\n",
       "      <th><\/th>\n",
       "      <th><\/th>\n",
       "      <th><\/th>\n",
       "      <th><\/th>\n",
       "      <th><\/th>\n",
       "      <th><\/th>\n",
       "      <th><\/th>\n",
       "      <th><\/th>\n",
       "      <th><\/th>\n",
       "      <th><\/th>\n",
       "    <\/tr>\n",
       "  <\/thead>\n",
       "  <tbody>\n",
       "    <tr>\n",
       "      <th>12.9<\/th>\n",
       "      <td>2012<\/td>\n",
       "      <td>49.3<\/td>\n",
       "      <td>28.9<\/td>\n",
       "      <td>35.9<\/td>\n",
       "      <td>10.6<\/td>\n",
       "      <td>46.2<\/td>\n",
       "      <td>32.0<\/td>\n",
       "      <td>43.5<\/td>\n",
       "      <td>17.0<\/td>\n",
       "      <td>44.2<\/td>\n",
       "      <td>42.1<\/td>\n",
       "      <td>24.8<\/td>\n",
       "      <td>6.1<\/td>\n",
       "      <td>1<\/td>\n",
       "      <td>0<\/td>\n",
       "      <td>0<\/td>\n",
       "      <td>1<\/td>\n",
       "    <\/tr>\n",
       "    <tr>\n",
       "      <th>18.9<\/th>\n",
       "      <td>2012<\/td>\n",
       "      <td>50.7<\/td>\n",
       "      <td>26.8<\/td>\n",
       "      <td>21.8<\/td>\n",
       "      <td>6.5<\/td>\n",
       "      <td>49.9<\/td>\n",
       "      <td>29.4<\/td>\n",
       "      <td>30.7<\/td>\n",
       "      <td>20.5<\/td>\n",
       "      <td>24.7<\/td>\n",
       "      <td>25.2<\/td>\n",
       "      <td>24.2<\/td>\n",
       "      <td>4.3<\/td>\n",
       "      <td>1<\/td>\n",
       "      <td>0<\/td>\n",
       "      <td>1<\/td>\n",
       "      <td>0<\/td>\n",
       "    <\/tr>\n",
       "    <tr>\n",
       "      <th>14.4<\/th>\n",
       "      <td>2016<\/td>\n",
       "      <td>38.0<\/td>\n",
       "      <td>19.3<\/td>\n",
       "      <td>12.7<\/td>\n",
       "      <td>0.8<\/td>\n",
       "      <td>35.7<\/td>\n",
       "      <td>18.8<\/td>\n",
       "      <td>31.8<\/td>\n",
       "      <td>5.1<\/td>\n",
       "      <td>32.1<\/td>\n",
       "      <td>47.4<\/td>\n",
       "      <td>48.4<\/td>\n",
       "      <td>10.8<\/td>\n",
       "      <td>1<\/td>\n",
       "      <td>0<\/td>\n",
       "      <td>0<\/td>\n",
       "      <td>1<\/td>\n",
       "    <\/tr>\n",
       "    <tr>\n",
       "      <th>9.6<\/th>\n",
       "      <td>2016<\/td>\n",
       "      <td>42.4<\/td>\n",
       "      <td>16.8<\/td>\n",
       "      <td>18.3<\/td>\n",
       "      <td>0.2<\/td>\n",
       "      <td>39.7<\/td>\n",
       "      <td>6.5<\/td>\n",
       "      <td>14.2<\/td>\n",
       "      <td>1.3<\/td>\n",
       "      <td>27.3<\/td>\n",
       "      <td>51.5<\/td>\n",
       "      <td>40.4<\/td>\n",
       "      <td>14.2<\/td>\n",
       "      <td>1<\/td>\n",
       "      <td>0<\/td>\n",
       "      <td>1<\/td>\n",
       "      <td>0<\/td>\n",
       "    <\/tr>\n",
       "    <tr>\n",
       "      <th>13.4<\/th>\n",
       "      <td>2016<\/td>\n",
       "      <td>46.5<\/td>\n",
       "      <td>29.6<\/td>\n",
       "      <td>3.3<\/td>\n",
       "      <td>2.1<\/td>\n",
       "      <td>33.3<\/td>\n",
       "      <td>17.3<\/td>\n",
       "      <td>35.7<\/td>\n",
       "      <td>6.9<\/td>\n",
       "      <td>28.8<\/td>\n",
       "      <td>43.3<\/td>\n",
       "      <td>51.0<\/td>\n",
       "      <td>9.7<\/td>\n",
       "      <td>0<\/td>\n",
       "      <td>1<\/td>\n",
       "      <td>0<\/td>\n",
       "      <td>1<\/td>\n",
       "    <\/tr>\n",
       "    <tr>\n",
       "      <th>...<\/th>\n",
       "      <td>...<\/td>\n",
       "      <td>...<\/td>\n",
       "      <td>...<\/td>\n",
       "      <td>...<\/td>\n",
       "      <td>...<\/td>\n",
       "      <td>...<\/td>\n",
       "      <td>...<\/td>\n",
       "      <td>...<\/td>\n",
       "      <td>...<\/td>\n",
       "      <td>...<\/td>\n",
       "      <td>...<\/td>\n",
       "      <td>...<\/td>\n",
       "      <td>...<\/td>\n",
       "      <td>...<\/td>\n",
       "      <td>...<\/td>\n",
       "      <td>...<\/td>\n",
       "      <td>...<\/td>\n",
       "    <\/tr>\n",
       "    <tr>\n",
       "      <th>19.5<\/th>\n",
       "      <td>2011<\/td>\n",
       "      <td>5.8<\/td>\n",
       "      <td>4.7<\/td>\n",
       "      <td>13.6<\/td>\n",
       "      <td>1.9<\/td>\n",
       "      <td>20.2<\/td>\n",
       "      <td>44.6<\/td>\n",
       "      <td>8.4<\/td>\n",
       "      <td>8.2<\/td>\n",
       "      <td>41.8<\/td>\n",
       "      <td>66.5<\/td>\n",
       "      <td>57.4<\/td>\n",
       "      <td>14.3<\/td>\n",
       "      <td>1<\/td>\n",
       "      <td>0<\/td>\n",
       "      <td>1<\/td>\n",
       "      <td>0<\/td>\n",
       "    <\/tr>\n",
       "    <tr>\n",
       "      <th>14.7<\/th>\n",
       "      <td>2015<\/td>\n",
       "      <td>32.2<\/td>\n",
       "      <td>35.5<\/td>\n",
       "      <td>60.5<\/td>\n",
       "      <td>4.0<\/td>\n",
       "      <td>36.3<\/td>\n",
       "      <td>32.7<\/td>\n",
       "      <td>32.0<\/td>\n",
       "      <td>25.7<\/td>\n",
       "      <td>48.7<\/td>\n",
       "      <td>30.2<\/td>\n",
       "      <td>51.2<\/td>\n",
       "      <td>4.1<\/td>\n",
       "      <td>1<\/td>\n",
       "      <td>0<\/td>\n",
       "      <td>0<\/td>\n",
       "      <td>1<\/td>\n",
       "    <\/tr>\n",
       "    <tr>\n",
       "      <th>16.9<\/th>\n",
       "      <td>2015<\/td>\n",
       "      <td>24.4<\/td>\n",
       "      <td>27.1<\/td>\n",
       "      <td>63.0<\/td>\n",
       "      <td>2.0<\/td>\n",
       "      <td>36.3<\/td>\n",
       "      <td>16.2<\/td>\n",
       "      <td>13.6<\/td>\n",
       "      <td>29.9<\/td>\n",
       "      <td>22.9<\/td>\n",
       "      <td>30.9<\/td>\n",
       "      <td>41.7<\/td>\n",
       "      <td>3.3<\/td>\n",
       "      <td>1<\/td>\n",
       "      <td>0<\/td>\n",
       "      <td>1<\/td>\n",
       "      <td>0<\/td>\n",
       "    <\/tr>\n",
       "    <tr>\n",
       "      <th>9.0<\/th>\n",
       "      <td>2015<\/td>\n",
       "      <td>48.3<\/td>\n",
       "      <td>53.7<\/td>\n",
       "      <td>57.8<\/td>\n",
       "      <td>10.1<\/td>\n",
       "      <td>36.5<\/td>\n",
       "      <td>38.9<\/td>\n",
       "      <td>55.7<\/td>\n",
       "      <td>40.0<\/td>\n",
       "      <td>49.6<\/td>\n",
       "      <td>23.6<\/td>\n",
       "      <td>54.5<\/td>\n",
       "      <td>7.3<\/td>\n",
       "      <td>0<\/td>\n",
       "      <td>1<\/td>\n",
       "      <td>0<\/td>\n",
       "      <td>1<\/td>\n",
       "    <\/tr>\n",
       "    <tr>\n",
       "      <th>16.2<\/th>\n",
       "      <td>2015<\/td>\n",
       "      <td>42.9<\/td>\n",
       "      <td>51.7<\/td>\n",
       "      <td>70.6<\/td>\n",
       "      <td>3.9<\/td>\n",
       "      <td>37.8<\/td>\n",
       "      <td>37.2<\/td>\n",
       "      <td>22.4<\/td>\n",
       "      <td>41.7<\/td>\n",
       "      <td>17.3<\/td>\n",
       "      <td>29.4<\/td>\n",
       "      <td>30.4<\/td>\n",
       "      <td>1.5<\/td>\n",
       "      <td>0<\/td>\n",
       "      <td>1<\/td>\n",
       "      <td>1<\/td>\n",
       "      <td>0<\/td>\n",
       "    <\/tr>\n",
       "  <\/tbody>\n",
       "<\/table>\n",
       "<p>100 rows × 17 columns<\/p>\n",
       "<\/div>"
      ]
     },
     "metadata":{
      
     },
     "output_type":"display_data"
    }
   ],
   "metadata":{
    "datalore":{
     "node_id":"J2pzHuBuwSuY2Gib59e2tv",
     "type":"CODE",
     "hide_input_from_viewers":true,
     "hide_output_from_viewers":true
    }
   }
  },
  {
   "cell_type":"code",
   "source":[
    "mental.describe()"
   ],
   "execution_count":53,
   "outputs":[
    {
     "data":{
      "text\/html":[
       "<div>\n",
       "<style scoped>\n",
       "    .dataframe tbody tr th:only-of-type {\n",
       "        vertical-align: middle;\n",
       "    }\n",
       "\n",
       "    .dataframe tbody tr th {\n",
       "        vertical-align: top;\n",
       "    }\n",
       "\n",
       "    .dataframe thead th {\n",
       "        text-align: right;\n",
       "    }\n",
       "<\/style>\n",
       "<table border=\"1\" class=\"dataframe\">\n",
       "  <thead>\n",
       "    <tr style=\"text-align: right;\">\n",
       "      <th><\/th>\n",
       "      <th>Year<\/th>\n",
       "      <th>Currently_Drink_Alcohol<\/th>\n",
       "      <th>Really_Get_Drunk<\/th>\n",
       "      <th>Overwieght<\/th>\n",
       "      <th>Use_Marijuana<\/th>\n",
       "      <th>Have_Understanding_Parents<\/th>\n",
       "      <th>Missed_classes_without_permssion<\/th>\n",
       "      <th>Had_sexual_relation<\/th>\n",
       "      <th>Smoke_cig_currently<\/th>\n",
       "      <th>Had_fights<\/th>\n",
       "      <th>Bullied<\/th>\n",
       "      <th>Got_Seriously_injured<\/th>\n",
       "      <th>No_close_friends<\/th>\n",
       "      <th>Age_Group_13-15<\/th>\n",
       "      <th>Age_Group_16-17<\/th>\n",
       "      <th>Sex_Female<\/th>\n",
       "      <th>Sex_Male<\/th>\n",
       "    <\/tr>\n",
       "  <\/thead>\n",
       "  <tbody>\n",
       "    <tr>\n",
       "      <th>count<\/th>\n",
       "      <td>100.000000<\/td>\n",
       "      <td>100.00000<\/td>\n",
       "      <td>100.000000<\/td>\n",
       "      <td>100.000000<\/td>\n",
       "      <td>100.000000<\/td>\n",
       "      <td>100.000000<\/td>\n",
       "      <td>100.000000<\/td>\n",
       "      <td>100.000000<\/td>\n",
       "      <td>100.000000<\/td>\n",
       "      <td>100.000000<\/td>\n",
       "      <td>100.000000<\/td>\n",
       "      <td>100.000000<\/td>\n",
       "      <td>100.000000<\/td>\n",
       "      <td>100.000000<\/td>\n",
       "      <td>100.000000<\/td>\n",
       "      <td>100.000000<\/td>\n",
       "      <td>100.000000<\/td>\n",
       "    <\/tr>\n",
       "    <tr>\n",
       "      <th>mean<\/th>\n",
       "      <td>2014.640000<\/td>\n",
       "      <td>30.85900<\/td>\n",
       "      <td>20.575000<\/td>\n",
       "      <td>23.229000<\/td>\n",
       "      <td>7.219000<\/td>\n",
       "      <td>32.624000<\/td>\n",
       "      <td>30.273000<\/td>\n",
       "      <td>25.898000<\/td>\n",
       "      <td>15.314000<\/td>\n",
       "      <td>32.680000<\/td>\n",
       "      <td>31.118000<\/td>\n",
       "      <td>44.092100<\/td>\n",
       "      <td>7.826000<\/td>\n",
       "      <td>0.580000<\/td>\n",
       "      <td>0.420000<\/td>\n",
       "      <td>0.500000<\/td>\n",
       "      <td>0.500000<\/td>\n",
       "    <\/tr>\n",
       "    <tr>\n",
       "      <th>std<\/th>\n",
       "      <td>1.977244<\/td>\n",
       "      <td>54.75516<\/td>\n",
       "      <td>14.091694<\/td>\n",
       "      <td>16.045008<\/td>\n",
       "      <td>8.594251<\/td>\n",
       "      <td>11.627641<\/td>\n",
       "      <td>10.778185<\/td>\n",
       "      <td>16.989123<\/td>\n",
       "      <td>10.804919<\/td>\n",
       "      <td>15.543578<\/td>\n",
       "      <td>14.327817<\/td>\n",
       "      <td>15.067355<\/td>\n",
       "      <td>4.474227<\/td>\n",
       "      <td>0.496045<\/td>\n",
       "      <td>0.496045<\/td>\n",
       "      <td>0.502519<\/td>\n",
       "      <td>0.502519<\/td>\n",
       "    <\/tr>\n",
       "    <tr>\n",
       "      <th>min<\/th>\n",
       "      <td>2010.000000<\/td>\n",
       "      <td>1.40000<\/td>\n",
       "      <td>0.800000<\/td>\n",
       "      <td>3.300000<\/td>\n",
       "      <td>0.000000<\/td>\n",
       "      <td>5.600000<\/td>\n",
       "      <td>6.500000<\/td>\n",
       "      <td>2.500000<\/td>\n",
       "      <td>1.200000<\/td>\n",
       "      <td>3.500000<\/td>\n",
       "      <td>9.900000<\/td>\n",
       "      <td>15.200000<\/td>\n",
       "      <td>1.500000<\/td>\n",
       "      <td>0.000000<\/td>\n",
       "      <td>0.000000<\/td>\n",
       "      <td>0.000000<\/td>\n",
       "      <td>0.000000<\/td>\n",
       "    <\/tr>\n",
       "    <tr>\n",
       "      <th>25%<\/th>\n",
       "      <td>2013.000000<\/td>\n",
       "      <td>10.22500<\/td>\n",
       "      <td>8.350000<\/td>\n",
       "      <td>11.275000<\/td>\n",
       "      <td>1.900000<\/td>\n",
       "      <td>25.300000<\/td>\n",
       "      <td>22.750000<\/td>\n",
       "      <td>12.200000<\/td>\n",
       "      <td>6.875000<\/td>\n",
       "      <td>21.250000<\/td>\n",
       "      <td>21.575000<\/td>\n",
       "      <td>34.800000<\/td>\n",
       "      <td>4.375000<\/td>\n",
       "      <td>0.000000<\/td>\n",
       "      <td>0.000000<\/td>\n",
       "      <td>0.000000<\/td>\n",
       "      <td>0.000000<\/td>\n",
       "    <\/tr>\n",
       "    <tr>\n",
       "      <th>50%<\/th>\n",
       "      <td>2015.000000<\/td>\n",
       "      <td>23.80000<\/td>\n",
       "      <td>18.200000<\/td>\n",
       "      <td>21.000000<\/td>\n",
       "      <td>4.100000<\/td>\n",
       "      <td>32.400000<\/td>\n",
       "      <td>29.200000<\/td>\n",
       "      <td>21.900000<\/td>\n",
       "      <td>12.350000<\/td>\n",
       "      <td>29.400000<\/td>\n",
       "      <td>26.850000<\/td>\n",
       "      <td>42.700000<\/td>\n",
       "      <td>7.050000<\/td>\n",
       "      <td>1.000000<\/td>\n",
       "      <td>0.000000<\/td>\n",
       "      <td>0.500000<\/td>\n",
       "      <td>0.500000<\/td>\n",
       "    <\/tr>\n",
       "    <tr>\n",
       "      <th>75%<\/th>\n",
       "      <td>2016.000000<\/td>\n",
       "      <td>40.60000<\/td>\n",
       "      <td>29.050000<\/td>\n",
       "      <td>30.200000<\/td>\n",
       "      <td>8.750000<\/td>\n",
       "      <td>39.825000<\/td>\n",
       "      <td>36.900000<\/td>\n",
       "      <td>36.500000<\/td>\n",
       "      <td>21.600000<\/td>\n",
       "      <td>42.875000<\/td>\n",
       "      <td>41.650000<\/td>\n",
       "      <td>53.350000<\/td>\n",
       "      <td>10.000000<\/td>\n",
       "      <td>1.000000<\/td>\n",
       "      <td>1.000000<\/td>\n",
       "      <td>1.000000<\/td>\n",
       "      <td>1.000000<\/td>\n",
       "    <\/tr>\n",
       "    <tr>\n",
       "      <th>max<\/th>\n",
       "      <td>2017.000000<\/td>\n",
       "      <td>548.00000<\/td>\n",
       "      <td>55.300000<\/td>\n",
       "      <td>70.600000<\/td>\n",
       "      <td>43.200000<\/td>\n",
       "      <td>63.900000<\/td>\n",
       "      <td>62.200000<\/td>\n",
       "      <td>73.900000<\/td>\n",
       "      <td>43.800000<\/td>\n",
       "      <td>76.500000<\/td>\n",
       "      <td>78.600000<\/td>\n",
       "      <td>87.700000<\/td>\n",
       "      <td>24.800000<\/td>\n",
       "      <td>1.000000<\/td>\n",
       "      <td>1.000000<\/td>\n",
       "      <td>1.000000<\/td>\n",
       "      <td>1.000000<\/td>\n",
       "    <\/tr>\n",
       "  <\/tbody>\n",
       "<\/table>\n",
       "<\/div>"
      ]
     },
     "metadata":{
      
     },
     "output_type":"display_data"
    }
   ],
   "metadata":{
    "datalore":{
     "node_id":"StUiGKtW70nBum1Tgqbqe6",
     "type":"CODE",
     "hide_input_from_viewers":true,
     "hide_output_from_viewers":true
    }
   }
  },
  {
   "cell_type":"code",
   "source":[
    "random.seed(100)\n",
    "from sklearn.cluster import KMeans\n",
    "\n",
    "inertias = []\n",
    "\n",
    "mk = range(1, 10)\n",
    "for i in mk:\n",
    "    kmeans = KMeans(n_clusters=i, n_init = 20)\n",
    "    clusters = kmeans.fit(mental)\n",
    "    inertias.append(clusters.inertia_)"
   ],
   "execution_count":54,
   "outputs":[
    
   ],
   "metadata":{
    "datalore":{
     "node_id":"8HrqR91FJXYVN7MTIlSgW8",
     "type":"CODE",
     "hide_input_from_viewers":true,
     "hide_output_from_viewers":true
    }
   }
  },
  {
   "cell_type":"code",
   "source":[
    "choosek = pd.DataFrame()\n",
    "choosek['kvalues'] = mk\n",
    "choosek['inertias'] = inertias"
   ],
   "execution_count":55,
   "outputs":[
    
   ],
   "metadata":{
    "datalore":{
     "node_id":"ORVvZbrIEWbhUOelrysm9O",
     "type":"CODE",
     "hide_input_from_viewers":true,
     "hide_output_from_viewers":true
    }
   }
  },
  {
   "cell_type":"code",
   "source":[
    "print(p9.ggplot(choosek, p9.aes(x='kvalues', y = 'inertias' )) +\n",
    "       p9.geom_line() +\n",
    "      p9.ggtitle(\"Elbow Plot\") )"
   ],
   "execution_count":56,
   "outputs":[
    {
     "name":"stdout",
     "text":[
      "\n"
     ],
     "output_type":"stream"
    },
    {
     "data":{
      "image\/png":"[encoded data removed]"
     },
     "metadata":{
      "image\/png":{
       
      }
     },
     "output_type":"display_data"
    }
   ],
   "metadata":{
    "datalore":{
     "node_id":"xzSCYia1txwpEMMh3TlLit",
     "type":"CODE",
     "hide_input_from_viewers":true,
     "hide_output_from_viewers":true
    }
   }
  },
  {
   "cell_type":"code",
   "source":[
    "kmeans2 = KMeans(n_clusters=3, n_init = 20)\n",
    "clust_2 = kmeans2.fit(mental)"
   ],
   "execution_count":57,
   "outputs":[
    
   ],
   "metadata":{
    "datalore":{
     "node_id":"xd7BzM3qzXL4oif5aSBTzG",
     "type":"CODE",
     "hide_input_from_viewers":true,
     "hide_output_from_viewers":true
    }
   }
  },
  {
   "cell_type":"code",
   "source":[
    "clust_2.labels_"
   ],
   "execution_count":58,
   "outputs":[
    {
     "data":{
      "text\/html":[
       "<pre>array([0, 0, 0, 2, 0, 2, 0, 2, 0, 2, 2, 2, 2, 2, 0, 2, 0, 2, 2, 2, 0, 2,\n",
       "       2, 2, 2, 2, 1, 2, 0, 0, 0, 2, 2, 2, 2, 2, 2, 2, 2, 2, 2, 2, 0, 2,\n",
       "       2, 2, 0, 2, 2, 2, 0, 2, 0, 0, 2, 2, 2, 2, 0, 2, 0, 2, 0, 2, 0, 0,\n",
       "       0, 0, 0, 0, 2, 2, 0, 0, 2, 2, 0, 2, 2, 2, 0, 2, 0, 2, 0, 2, 0, 2,\n",
       "       0, 2, 0, 2, 0, 0, 0, 2, 0, 2, 0, 0], dtype=int32)<\/pre>"
      ]
     },
     "metadata":{
      
     },
     "output_type":"display_data"
    }
   ],
   "metadata":{
    "datalore":{
     "node_id":"7EQPYYINgcl8Q9obk5RKzz",
     "type":"CODE",
     "hide_input_from_viewers":true,
     "hide_output_from_viewers":true
    }
   }
  },
  {
   "cell_type":"code",
   "source":[
    "mental.index[clust_2.labels_ == 0]"
   ],
   "execution_count":59,
   "outputs":[
    {
     "data":{
      "text\/plain":[
       "Float64Index([12.9, 18.9, 14.4, 13.4, 10.9,  9.7, 12.3, 12.1, 12.8, 13.2, 21.8,\n",
       "              29.8,  9.4,  9.2, 29.9, 25.2, 24.4, 12.0, 24.0, 19.7, 67.2, 53.7,\n",
       "              19.8, 20.5, 13.9, 17.8, 11.5, 23.4, 11.5,  9.5, 10.4, 12.2, 16.3,\n",
       "               7.4, 30.3, 23.1, 16.7, 28.3, 14.7,  9.0, 16.2],\n",
       "             dtype='float64', name='Attempted_suicide')"
      ]
     },
     "metadata":{
      
     },
     "output_type":"display_data"
    }
   ],
   "metadata":{
    "datalore":{
     "node_id":"sMCd8ETHmi6TZptbU5SrMK",
     "type":"CODE",
     "hide_input_from_viewers":true,
     "hide_output_from_viewers":true
    }
   }
  },
  {
   "cell_type":"code",
   "source":[
    "mental.index[clust_2.labels_ == 1]"
   ],
   "execution_count":60,
   "outputs":[
    {
     "data":{
      "text\/plain":[
       "Float64Index([16.1], dtype='float64', name='Attempted_suicide')"
      ]
     },
     "metadata":{
      
     },
     "output_type":"display_data"
    }
   ],
   "metadata":{
    "datalore":{
     "node_id":"s6cON7Aiqp9rf4Hh4aHHDD",
     "type":"CODE",
     "hide_input_from_viewers":true,
     "hide_output_from_viewers":true
    }
   }
  },
  {
   "cell_type":"code",
   "source":[
    "mental.index[clust_2.labels_ == 2]"
   ],
   "execution_count":61,
   "outputs":[
    {
     "data":{
      "text\/plain":[
       "Float64Index([ 9.6, 14.1, 10.3, 14.0,  4.5,  5.9,  4.5,  9.6, 20.1, 24.3, 11.6,\n",
       "               8.0, 11.2,  4.4,  3.6,  3.7,  2.7, 20.6, 31.5,  4.9,  6.9,  3.8,\n",
       "               5.5,  6.6,  7.4,  5.7,  6.7, 11.5, 16.5, 10.9,  7.7, 10.4, 11.6,\n",
       "               7.2,  9.4, 23.8,  9.4, 10.4,  7.4, 11.7, 22.0, 20.7, 21.0,  7.9,\n",
       "              10.9, 16.0, 12.8, 10.5,  9.6,  8.2,  7.8, 17.9, 17.5,  3.6, 10.8,\n",
       "              18.6, 19.5, 16.9],\n",
       "             dtype='float64', name='Attempted_suicide')"
      ]
     },
     "metadata":{
      
     },
     "output_type":"display_data"
    }
   ],
   "metadata":{
    "datalore":{
     "node_id":"z6sF7zcsP9ilrfDmcCcA2I",
     "type":"CODE",
     "hide_input_from_viewers":true,
     "hide_output_from_viewers":true
    }
   }
  },
  {
   "cell_type":"code",
   "source":[
    "from sklearn.cluster import AgglomerativeClustering\n",
    "clust_3 = AgglomerativeClustering(distance_threshold = 0, n_clusters = None,\n",
    "linkage = 'complete').fit(mental)"
   ],
   "execution_count":62,
   "outputs":[
    
   ],
   "metadata":{
    "datalore":{
     "node_id":"3ZTapAnQlWOhEKqQIGeWh7",
     "type":"CODE",
     "hide_input_from_viewers":true,
     "hide_output_from_viewers":true
    }
   }
  },
  {
   "cell_type":"code",
   "source":[
    "from matplotlib import pyplot as plt\n",
    "from scipy.cluster.hierarchy import dendrogram\n",
    "def plot_dendrogram(model, **kwargs):\n",
    "    counts = np.zeros(model.children_.shape[0])\n",
    "    n_samples = len(model.labels_)\n",
    "    for i, merge in enumerate(model.children_):\n",
    "        current_count = 0\n",
    "    for child_idx in merge:\n",
    "        if child_idx < n_samples:\n",
    "            current_count += 1 \n",
    "        else:\n",
    "            current_count += counts[child_idx - n_samples]\n",
    "            counts[i] = current_count\n",
    "            linkage_matrix = np.column_stack(\n",
    "            [model.children_, model.distances_, counts]\n",
    "            ).astype(float)\n",
    "    dendrogram(linkage_matrix, **kwargs)\n",
    "\n",
    "plt.figure()\n",
    "plt.title(\"Hierarchical Clustering Dendrogram with Complete Linkage\")\n",
    "plt.ylabel(\"Similarity\")\n",
    "plot_dendrogram(clust_3, truncate_mode = \"level\", p = 12,\n",
    "labels = mental.index)"
   ],
   "execution_count":63,
   "outputs":[
    {
     "data":{
      "image\/png":"[encoded data removed]"
     },
     "metadata":{
      "image\/png":{
       
      }
     },
     "output_type":"display_data"
    }
   ],
   "metadata":{
    "datalore":{
     "node_id":"ktkKufCXFJjrbDqaPLLiJt",
     "type":"CODE",
     "hide_input_from_viewers":true,
     "hide_output_from_viewers":true
    }
   }
  }
 ],
 "metadata":{
  "kernelspec":{
   "display_name":"Python",
   "language":"python",
   "name":"python"
  },
  "datalore":{
   "computation_mode":"REACTIVE",
   "package_manager":"pip",
   "base_environment":"default",
   "packages":[
    {
     "name":"statsmodels",
     "version":"0.14.0",
     "source":"PIP"
    },
    {
     "name":"plotnine",
     "version":"0.10.1",
     "source":"PIP"
    },
    {
     "name":"pytzdata",
     "source":"PIP"
    },
    {
     "name":"tzdata",
     "version":"2023.3",
     "source":"PIP"
    },
    {
     "name":"kmeans",
     "version":"1.0.2",
     "source":"PIP"
    },
    {
     "name":"pdflatex",
     "source":"PIP"
    },
    {
     "name":"latex",
     "source":"PIP"
    }
   ],
   "report_row_ids":[
    "FmLPBfCJPDi002z7rD0Mi5",
    "hrN7GhKVRo29AnM3DhOhyo",
    "bkHTKyTAxMmaI1HN7ammlv",
    "lJsJKOPSq9aHrt3IrgXYeS",
    "Ibh2Wn4rWcNsxIKUe8AHEx",
    "SD6YCSzAzIgWlSB8ZT7VJV",
    "B48MOVGxUXAGurZbedufY4",
    "ETZqoH2Uve2NGHTvlgymUi",
    "SAlrnbsXEXKaBiXT04urB1",
    "VgVqGawyRtElhxPwYTemyu",
    "rw10FDQBKFctjvCcn69FHp",
    "vrx98We9es1uQHjJAcddmv",
    "mkCEIcFTNEsjBBFINHuTCO",
    "SggzZzFopQXPaVTidtGb32"
   ],
   "version":3
  }
 },
 "nbformat":4,
 "nbformat_minor":4
}